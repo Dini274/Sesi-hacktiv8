{
 "cells": [
  {
   "cell_type": "code",
   "execution_count": 1,
   "id": "870e3915",
   "metadata": {},
   "outputs": [
    {
     "name": "stdout",
     "output_type": "stream",
     "text": [
      "Halo kode!\n"
     ]
    }
   ],
   "source": [
    "print (\"Halo kode!\")"
   ]
  },
  {
   "cell_type": "code",
   "execution_count": 2,
   "id": "e3e9870f",
   "metadata": {},
   "outputs": [
    {
     "name": "stdout",
     "output_type": "stream",
     "text": [
      "1\n",
      "2\n",
      "3\n",
      "4\n",
      "5\n",
      "6\n",
      "7\n",
      "8\n",
      "9\n",
      "10\n"
     ]
    }
   ],
   "source": [
    "i = 1\n",
    "while (i<=10):\n",
    "    print(i)\n",
    "    i=i+1"
   ]
  },
  {
   "cell_type": "markdown",
   "id": "8639ce69",
   "metadata": {},
   "source": [
    "## Using Library"
   ]
  },
  {
   "cell_type": "code",
   "execution_count": 3,
   "id": "d5796701",
   "metadata": {},
   "outputs": [],
   "source": [
    "import pandas as pd\n",
    "import numpy as np"
   ]
  },
  {
   "cell_type": "code",
   "execution_count": 4,
   "id": "cbbaede0",
   "metadata": {},
   "outputs": [
    {
     "name": "stdout",
     "output_type": "stream",
     "text": [
      "   A  B  C\n",
      "0  1  2  3\n",
      "1  4  5  6\n"
     ]
    }
   ],
   "source": [
    "data = pd.DataFrame(data=np.array([[1, 2, 3], [4, 5, 6]], dtype=int), columns=['A', 'B', 'C'])\n",
    "print(data)"
   ]
  },
  {
   "cell_type": "markdown",
   "id": "07254b85",
   "metadata": {},
   "source": [
    "## Using Latex"
   ]
  },
  {
   "cell_type": "markdown",
   "id": "c075d335",
   "metadata": {},
   "source": [
    "$$c =\\sqrt{a^2 + b^2}$$"
   ]
  },
  {
   "cell_type": "code",
   "execution_count": 6,
   "id": "b7c39227",
   "metadata": {},
   "outputs": [],
   "source": [
    "from IPython.display import display, Math, Latex"
   ]
  },
  {
   "cell_type": "code",
   "execution_count": 7,
   "id": "8ee0ee1c",
   "metadata": {},
   "outputs": [
    {
     "data": {
      "text/latex": [
       "$\\displaystyle \\sqrt{a^2 + b^2}$"
      ],
      "text/plain": [
       "<IPython.core.display.Math object>"
      ]
     },
     "metadata": {},
     "output_type": "display_data"
    }
   ],
   "source": [
    "display(Math(r'\\sqrt{a^2 + b^2}'))"
   ]
  },
  {
   "cell_type": "markdown",
   "id": "f2abb735",
   "metadata": {},
   "source": [
    "## Executing Shell Comands"
   ]
  },
  {
   "cell_type": "code",
   "execution_count": 9,
   "id": "00a0dfca",
   "metadata": {},
   "outputs": [
    {
     "name": "stdout",
     "output_type": "stream",
     "text": [
      "3D Objects\n",
      "AndroidStudioProject\n",
      "AndroidStudioProjects\n",
      "AppData\n",
      "Application Data\n",
      "Contacts\n",
      "Cookies\n",
      "Desktop\n",
      "Documents\n",
      "Downloads\n",
      "Favorites\n",
      "IntelGraphicsProfiles\n",
      "KodeJupiter.ipynb\n",
      "Links\n",
      "Local Settings\n",
      "Music\n",
      "My Documents\n",
      "NTUSER.DAT\n",
      "NTUSER.DAT{81b4f3d3-a08f-11ed-a860-ef5114a99859}.TM.blf\n",
      "NTUSER.DAT{81b4f3d3-a08f-11ed-a860-ef5114a99859}.TMContainer00000000000000000001.regtrans-ms\n",
      "NTUSER.DAT{81b4f3d3-a08f-11ed-a860-ef5114a99859}.TMContainer00000000000000000002.regtrans-ms\n",
      "NetHood\n",
      "OneDrive\n",
      "Pictures\n",
      "PrintHood\n",
      "Recent\n",
      "Saved Games\n",
      "Searches\n",
      "SendTo\n",
      "Sesi1.ipynb\n",
      "Start Menu\n",
      "Templates\n",
      "Videos\n",
      "coba.ipynb\n",
      "example-app\n",
      "ntuser.dat.LOG1\n",
      "ntuser.dat.LOG2\n",
      "ntuser.ini\n",
      "seo\n",
      "source\n",
      "/c/Users/hp\n",
      "'Halo Kode'\n"
     ]
    }
   ],
   "source": [
    "!ls\n",
    "!pwd\n",
    "!echo 'Halo Kode'"
   ]
  },
  {
   "cell_type": "markdown",
   "id": "301c165e",
   "metadata": {},
   "source": [
    "### pass value to and from shell"
   ]
  },
  {
   "cell_type": "code",
   "execution_count": 11,
   "id": "07e6e365",
   "metadata": {},
   "outputs": [
    {
     "name": "stdout",
     "output_type": "stream",
     "text": [
      "['3D Objects', 'AndroidStudioProject', 'AndroidStudioProjects', 'AppData', 'Application Data', 'Contacts', 'Cookies', 'Desktop', 'Documents', 'Downloads', 'Favorites', 'IntelGraphicsProfiles', 'KodeJupiter.ipynb', 'Links', 'Local Settings', 'Music', 'My Documents', 'NTUSER.DAT', 'NTUSER.DAT{81b4f3d3-a08f-11ed-a860-ef5114a99859}.TM.blf', 'NTUSER.DAT{81b4f3d3-a08f-11ed-a860-ef5114a99859}.TMContainer00000000000000000001.regtrans-ms', 'NTUSER.DAT{81b4f3d3-a08f-11ed-a860-ef5114a99859}.TMContainer00000000000000000002.regtrans-ms', 'NetHood', 'OneDrive', 'Pictures', 'PrintHood', 'Recent', 'Saved Games', 'Searches', 'SendTo', 'Sesi1.ipynb', 'Start Menu', 'Templates', 'Videos', 'coba.ipynb', 'example-app', 'ntuser.dat.LOG1', 'ntuser.dat.LOG2', 'ntuser.ini', 'seo', 'source']\n"
     ]
    }
   ],
   "source": [
    "files = !ls\n",
    "print (files)"
   ]
  },
  {
   "cell_type": "code",
   "execution_count": null,
   "id": "c7962977",
   "metadata": {},
   "outputs": [],
   "source": []
  }
 ],
 "metadata": {
  "kernelspec": {
   "display_name": "Python 3 (ipykernel)",
   "language": "python",
   "name": "python3"
  },
  "language_info": {
   "codemirror_mode": {
    "name": "ipython",
    "version": 3
   },
   "file_extension": ".py",
   "mimetype": "text/x-python",
   "name": "python",
   "nbconvert_exporter": "python",
   "pygments_lexer": "ipython3",
   "version": "3.11.4"
  }
 },
 "nbformat": 4,
 "nbformat_minor": 5
}
