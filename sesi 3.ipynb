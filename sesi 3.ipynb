{
 "cells": [
  {
   "cell_type": "markdown",
   "id": "7f36cf9c",
   "metadata": {},
   "source": [
    "# Python Function"
   ]
  },
  {
   "cell_type": "code",
   "execution_count": 13,
   "id": "656028b0",
   "metadata": {},
   "outputs": [],
   "source": [
    "def halo(b,v):\n",
    "    '''function ini menyapa yg sedang seih, ini docstring'''\n",
    "    a = f'halo {b} yang {v}'\n",
    "    return a "
   ]
  },
  {
   "cell_type": "code",
   "execution_count": 14,
   "id": "480b8e09",
   "metadata": {},
   "outputs": [
    {
     "data": {
      "text/plain": [
       "'halo sedang berbahagia yang putra'"
      ]
     },
     "execution_count": 14,
     "metadata": {},
     "output_type": "execute_result"
    }
   ],
   "source": [
    "halo('sedang berbahagia','putra')"
   ]
  },
  {
   "cell_type": "code",
   "execution_count": 15,
   "id": "09b8d5f6",
   "metadata": {},
   "outputs": [
    {
     "name": "stdout",
     "output_type": "stream",
     "text": [
      "halo halo\n",
      "halo halohalo halohalo halo\n"
     ]
    }
   ],
   "source": [
    "def printme(str):\n",
    "    print(str)\n",
    "    print(str * 3)\n",
    "    return\n",
    "\n",
    "printme('halo halo')"
   ]
  },
  {
   "cell_type": "code",
   "execution_count": 16,
   "id": "d62d1621",
   "metadata": {},
   "outputs": [
    {
     "ename": "TypeError",
     "evalue": "printme() takes 1 positional argument but 2 were given",
     "output_type": "error",
     "traceback": [
      "\u001b[1;31m---------------------------------------------------------------------------\u001b[0m",
      "\u001b[1;31mTypeError\u001b[0m                                 Traceback (most recent call last)",
      "Cell \u001b[1;32mIn[16], line 6\u001b[0m\n\u001b[0;32m      3\u001b[0m     \u001b[38;5;28mprint\u001b[39m(\u001b[38;5;28mstr\u001b[39m \u001b[38;5;241m*\u001b[39m \u001b[38;5;241m3\u001b[39m)\n\u001b[0;32m      4\u001b[0m     \u001b[38;5;28;01mreturn\u001b[39;00m\n\u001b[1;32m----> 6\u001b[0m printme(\u001b[38;5;124m'\u001b[39m\u001b[38;5;124mhalo\u001b[39m\u001b[38;5;124m'\u001b[39m,\u001b[38;5;124m'\u001b[39m\u001b[38;5;124mhalo\u001b[39m\u001b[38;5;124m'\u001b[39m)\n",
      "\u001b[1;31mTypeError\u001b[0m: printme() takes 1 positional argument but 2 were given"
     ]
    }
   ],
   "source": [
    "#required argument\n",
    "def printme(str):\n",
    "    print(str)\n",
    "    print(str * 3)\n",
    "    return\n",
    "\n",
    "printme('halo','halo')"
   ]
  },
  {
   "cell_type": "code",
   "execution_count": 19,
   "id": "a1e2dbb4",
   "metadata": {},
   "outputs": [
    {
     "name": "stdout",
     "output_type": "stream",
     "text": [
      "halo\n",
      "9\n"
     ]
    }
   ],
   "source": [
    "#keyword argument\n",
    "def printme(angka, str):\n",
    "    print(str)\n",
    "    print(angka * 3)\n",
    "    return\n",
    "\n",
    "printme(3, 'halo')"
   ]
  },
  {
   "cell_type": "code",
   "execution_count": 20,
   "id": "381299f3",
   "metadata": {},
   "outputs": [
    {
     "name": "stdout",
     "output_type": "stream",
     "text": [
      "halo\n",
      "9\n"
     ]
    }
   ],
   "source": [
    "#keyword argument\n",
    "def printme(angka, str):\n",
    "    print(str)\n",
    "    print(angka * 3)\n",
    "    return\n",
    "\n",
    "printme(str='halo', angka=3)"
   ]
  },
  {
   "cell_type": "code",
   "execution_count": 21,
   "id": "115ceb16",
   "metadata": {},
   "outputs": [
    {
     "ename": "SyntaxError",
     "evalue": "positional argument follows keyword argument (3515580763.py, line 7)",
     "output_type": "error",
     "traceback": [
      "\u001b[1;36m  Cell \u001b[1;32mIn[21], line 7\u001b[1;36m\u001b[0m\n\u001b[1;33m    printme(str='halo', 3)\u001b[0m\n\u001b[1;37m                         ^\u001b[0m\n\u001b[1;31mSyntaxError\u001b[0m\u001b[1;31m:\u001b[0m positional argument follows keyword argument\n"
     ]
    }
   ],
   "source": [
    "#keyword argument\n",
    "def printme(angka, str):\n",
    "    print(str)\n",
    "    print(angka * 3)\n",
    "    return\n",
    "\n",
    "printme(str='halo', 3)"
   ]
  },
  {
   "cell_type": "code",
   "execution_count": 28,
   "id": "cb1d1526",
   "metadata": {},
   "outputs": [
    {
     "name": "stdout",
     "output_type": "stream",
     "text": [
      "halo\n",
      "33\n"
     ]
    }
   ],
   "source": [
    "#default argument\n",
    "\n",
    "def printme(str, angka = 9):\n",
    "    print(str)\n",
    "    print(angka * 3)\n",
    "    return\n",
    "\n",
    "printme(angka = 11, str ='halo',)"
   ]
  },
  {
   "cell_type": "code",
   "execution_count": 29,
   "id": "3f65aeac",
   "metadata": {},
   "outputs": [
    {
     "name": "stdout",
     "output_type": "stream",
     "text": [
      "the output is\n",
      "1\n",
      "2\n",
      "a\n",
      "True\n"
     ]
    }
   ],
   "source": [
    "#variable-length arguments\n",
    "def printvar(arg1, *vartuple):\n",
    "    print(\"the output is\")\n",
    "    print(arg1)\n",
    "    for var in vartuple:\n",
    "        print(var)\n",
    "    return;\n",
    "\n",
    "printvar(1,2,\"a\", True)"
   ]
  },
  {
   "cell_type": "code",
   "execution_count": 30,
   "id": "2a954aff",
   "metadata": {},
   "outputs": [
    {
     "ename": "SyntaxError",
     "evalue": "duplicate argument 'arg2' in function definition (3638607853.py, line 2)",
     "output_type": "error",
     "traceback": [
      "\u001b[1;36m  Cell \u001b[1;32mIn[30], line 2\u001b[1;36m\u001b[0m\n\u001b[1;33m    sum = lambda arg2, arg2: arg1+arg2;\u001b[0m\n\u001b[1;37m                       ^\u001b[0m\n\u001b[1;31mSyntaxError\u001b[0m\u001b[1;31m:\u001b[0m duplicate argument 'arg2' in function definition\n"
     ]
    }
   ],
   "source": [
    "#anonymous function\n",
    "sum = lambda arg2, arg2: arg1+arg2;\n",
    "\n",
    "def sum (arg1, arg2):\n",
    "    arg1+arg2\n",
    "\n",
    "print(\"v :\", )"
   ]
  },
  {
   "cell_type": "code",
   "execution_count": 36,
   "id": "09d01618",
   "metadata": {},
   "outputs": [
    {
     "name": "stdout",
     "output_type": "stream",
     "text": [
      "penjumlahan dari 2 dan 2 adalah\n",
      "4\n",
      "3\n"
     ]
    }
   ],
   "source": [
    "def jumlah (n1, n2):\n",
    "    print(f\"penjumlahan dari {n1} dan {n2} adalah\")\n",
    "    return n1 + n2\n",
    "\n",
    "print(jumlah (2,2))\n",
    "\n",
    "a = lambda n1, n2: n1 + n2\n",
    "print(a(1,2))"
   ]
  },
  {
   "cell_type": "code",
   "execution_count": 38,
   "id": "464abfbd",
   "metadata": {},
   "outputs": [
    {
     "name": "stdout",
     "output_type": "stream",
     "text": [
      "penjumlahan dari 2 dan 2 adalah 4\n",
      "None\n",
      "3\n"
     ]
    }
   ],
   "source": [
    "def jumlah (n1, n2):\n",
    "    print(f\"penjumlahan dari {n1} dan {n2} adalah {n1 +n2}\")\n",
    "    #return n1 + n2\n",
    "\n",
    "print(jumlah (2,2))\n",
    "\n",
    "a = lambda n1, n2: n1 + n2\n",
    "print(a(1,2))"
   ]
  },
  {
   "cell_type": "code",
   "execution_count": 41,
   "id": "bed52acd",
   "metadata": {},
   "outputs": [
    {
     "name": "stdout",
     "output_type": "stream",
     "text": [
      "variabel total di dalam function: 30\n",
      "variabel total di luar function: 0\n"
     ]
    }
   ],
   "source": [
    "#global vs local variables\n",
    "\n",
    "total = 0\n",
    "\n",
    "def jumlah(arg1, arg2):\n",
    "    \n",
    "    total = arg1 + arg2\n",
    "    print(\"variabel total di dalam function:\", total)\n",
    "    return total\n",
    "\n",
    "jumlah(10,20)\n",
    "print(\"variabel total di luar function:\", total)\n"
   ]
  },
  {
   "cell_type": "code",
   "execution_count": 45,
   "id": "a1838aa9",
   "metadata": {},
   "outputs": [
    {
     "name": "stdout",
     "output_type": "stream",
     "text": [
      "40\n",
      "50\n"
     ]
    }
   ],
   "source": [
    "jumlahKucing = 50\n",
    "\n",
    "def jumlahHewan():\n",
    "    jumlahAnjing = 30\n",
    "    jumlahKucing = 10\n",
    "    return jumlahAnjing + jumlahKucing\n",
    "\n",
    "print(jumlahHewan())\n",
    "print(jumlahKucing)"
   ]
  },
  {
   "cell_type": "code",
   "execution_count": 46,
   "id": "0c30a78c",
   "metadata": {},
   "outputs": [
    {
     "name": "stdout",
     "output_type": "stream",
     "text": [
      "80\n",
      "50\n"
     ]
    }
   ],
   "source": [
    "jumlahKucing = 50\n",
    "\n",
    "def jumlahHewan():\n",
    "    jumlahAnjing = 30\n",
    "    #jumlahKucing = 10\n",
    "    return jumlahAnjing + jumlahKucing\n",
    "\n",
    "print(jumlahHewan())\n",
    "print(jumlahKucing)"
   ]
  },
  {
   "cell_type": "code",
   "execution_count": 67,
   "id": "a4a1b3b7",
   "metadata": {},
   "outputs": [
    {
     "ename": "NameError",
     "evalue": "name 'mod' is not defined",
     "output_type": "error",
     "traceback": [
      "\u001b[1;31m---------------------------------------------------------------------------\u001b[0m",
      "\u001b[1;31mNameError\u001b[0m                                 Traceback (most recent call last)",
      "Cell \u001b[1;32mIn[67], line 3\u001b[0m\n\u001b[0;32m      1\u001b[0m \u001b[38;5;28;01mimport\u001b[39;00m \u001b[38;5;21;01mmod\u001b[39;00m \u001b[38;5;28;01mas\u001b[39;00m \u001b[38;5;21;01mm\u001b[39;00m\n\u001b[1;32m----> 3\u001b[0m \u001b[38;5;28mprint\u001b[39m(mod\u001b[38;5;241m.\u001b[39ms)\n\u001b[0;32m      4\u001b[0m mod\u001b[38;5;241m.\u001b[39ma\n\u001b[0;32m      5\u001b[0m mod\u001b[38;5;241m.\u001b[39mfoo(\u001b[38;5;124m'\u001b[39m\u001b[38;5;124mini argumennya\u001b[39m\u001b[38;5;124m'\u001b[39m)\n",
      "\u001b[1;31mNameError\u001b[0m: name 'mod' is not defined"
     ]
    }
   ],
   "source": [
    "import mod as m\n",
    "\n",
    "print(mod.s)\n",
    "mod.a\n",
    "mod.foo('ini argumennya')\n",
    "x = mod.Foo\n",
    "x"
   ]
  },
  {
   "cell_type": "code",
   "execution_count": 48,
   "id": "ab37a80c",
   "metadata": {},
   "outputs": [
    {
     "data": {
      "text/plain": [
       "['C:\\\\Users\\\\hp\\\\hacktiv8\\\\sesi pembelajaran',\n",
       " 'C:\\\\ProgramData\\\\anaconda3\\\\python311.zip',\n",
       " 'C:\\\\ProgramData\\\\anaconda3\\\\DLLs',\n",
       " 'C:\\\\ProgramData\\\\anaconda3\\\\Lib',\n",
       " 'C:\\\\ProgramData\\\\anaconda3',\n",
       " '',\n",
       " 'C:\\\\Users\\\\hp\\\\AppData\\\\Roaming\\\\Python\\\\Python311\\\\site-packages',\n",
       " 'C:\\\\ProgramData\\\\anaconda3\\\\Lib\\\\site-packages',\n",
       " 'C:\\\\ProgramData\\\\anaconda3\\\\Lib\\\\site-packages\\\\win32',\n",
       " 'C:\\\\ProgramData\\\\anaconda3\\\\Lib\\\\site-packages\\\\win32\\\\lib',\n",
       " 'C:\\\\ProgramData\\\\anaconda3\\\\Lib\\\\site-packages\\\\Pythonwin']"
      ]
     },
     "execution_count": 48,
     "metadata": {},
     "output_type": "execute_result"
    }
   ],
   "source": [
    "import sys\n",
    "sys.path"
   ]
  },
  {
   "cell_type": "code",
   "execution_count": 51,
   "id": "f97293c2",
   "metadata": {},
   "outputs": [
    {
     "ename": "NameError",
     "evalue": "name 'mod' is not defined",
     "output_type": "error",
     "traceback": [
      "\u001b[1;31m---------------------------------------------------------------------------\u001b[0m",
      "\u001b[1;31mNameError\u001b[0m                                 Traceback (most recent call last)",
      "Cell \u001b[1;32mIn[51], line 1\u001b[0m\n\u001b[1;32m----> 1\u001b[0m mod\u001b[38;5;241m.\u001b[39m\u001b[38;5;18m__file__\u001b[39m\n",
      "\u001b[1;31mNameError\u001b[0m: name 'mod' is not defined"
     ]
    }
   ],
   "source": [
    "mod.__file__"
   ]
  },
  {
   "cell_type": "code",
   "execution_count": 52,
   "id": "a899d0a4",
   "metadata": {},
   "outputs": [
    {
     "data": {
      "text/plain": [
       "'C:\\\\ProgramData\\\\anaconda3\\\\Lib\\\\site-packages\\\\pandas\\\\__init__.py'"
      ]
     },
     "execution_count": 52,
     "metadata": {},
     "output_type": "execute_result"
    }
   ],
   "source": [
    "import pandas \n",
    "pandas.__file__"
   ]
  },
  {
   "cell_type": "code",
   "execution_count": 54,
   "id": "057dd827",
   "metadata": {},
   "outputs": [
    {
     "ename": "ImportError",
     "evalue": "cannot import name 's' from 'mod' (C:\\Users\\hp\\hacktiv8\\sesi pembelajaran\\mod.py)",
     "output_type": "error",
     "traceback": [
      "\u001b[1;31m---------------------------------------------------------------------------\u001b[0m",
      "\u001b[1;31mImportError\u001b[0m                               Traceback (most recent call last)",
      "Cell \u001b[1;32mIn[54], line 1\u001b[0m\n\u001b[1;32m----> 1\u001b[0m \u001b[38;5;28;01mfrom\u001b[39;00m \u001b[38;5;21;01mmod\u001b[39;00m \u001b[38;5;28;01mimport\u001b[39;00m s\n\u001b[0;32m      2\u001b[0m s\n",
      "\u001b[1;31mImportError\u001b[0m: cannot import name 's' from 'mod' (C:\\Users\\hp\\hacktiv8\\sesi pembelajaran\\mod.py)"
     ]
    }
   ],
   "source": [
    "from mod import s\n",
    "s"
   ]
  },
  {
   "cell_type": "code",
   "execution_count": 55,
   "id": "e29d2c34",
   "metadata": {},
   "outputs": [],
   "source": [
    "from mod import *\n",
    "print(s)\n",
    "print(a)\n",
    "foo('1,2,3')\n"
   ]
  },
  {
   "cell_type": "code",
   "execution_count": 56,
   "id": "92802565",
   "metadata": {},
   "outputs": [],
   "source": [
    "s = 10"
   ]
  },
  {
   "cell_type": "code",
   "execution_count": 57,
   "id": "fc9c4831",
   "metadata": {},
   "outputs": [
    {
     "ename": "ImportError",
     "evalue": "cannot import name 's' from 'mod' (C:\\Users\\hp\\hacktiv8\\sesi pembelajaran\\mod.py)",
     "output_type": "error",
     "traceback": [
      "\u001b[1;31m---------------------------------------------------------------------------\u001b[0m",
      "\u001b[1;31mImportError\u001b[0m                               Traceback (most recent call last)",
      "Cell \u001b[1;32mIn[57], line 1\u001b[0m\n\u001b[1;32m----> 1\u001b[0m \u001b[38;5;28;01mfrom\u001b[39;00m \u001b[38;5;21;01mmod\u001b[39;00m \u001b[38;5;28;01mimport\u001b[39;00m s \u001b[38;5;28;01mas\u001b[39;00m stri\n\u001b[0;32m      2\u001b[0m \u001b[38;5;28mprint\u001b[39m(s)\n\u001b[0;32m      3\u001b[0m \u001b[38;5;28mprint\u001b[39m(stri)\n",
      "\u001b[1;31mImportError\u001b[0m: cannot import name 's' from 'mod' (C:\\Users\\hp\\hacktiv8\\sesi pembelajaran\\mod.py)"
     ]
    }
   ],
   "source": [
    "from mod import s as stri\n",
    "print(s)\n",
    "print(stri)"
   ]
  },
  {
   "cell_type": "code",
   "execution_count": 58,
   "id": "680ab047",
   "metadata": {},
   "outputs": [],
   "source": [
    "import pandas as pd\n",
    "import numpy as np\n",
    "import matplotlib.pyplot as plt"
   ]
  },
  {
   "cell_type": "code",
   "execution_count": 59,
   "id": "bbfb6a5b",
   "metadata": {},
   "outputs": [
    {
     "ename": "ImportError",
     "evalue": "cannot import name 's' from 'mod' (C:\\Users\\hp\\hacktiv8\\sesi pembelajaran\\mod.py)",
     "output_type": "error",
     "traceback": [
      "\u001b[1;31m---------------------------------------------------------------------------\u001b[0m",
      "\u001b[1;31mImportError\u001b[0m                               Traceback (most recent call last)",
      "Cell \u001b[1;32mIn[59], line 5\u001b[0m\n\u001b[0;32m      2\u001b[0m     \u001b[38;5;28;01mfrom\u001b[39;00m \u001b[38;5;21;01mmod\u001b[39;00m \u001b[38;5;28;01mimport\u001b[39;00m s\n\u001b[0;32m      3\u001b[0m     \u001b[38;5;28mprint\u001b[39m (s)\n\u001b[1;32m----> 5\u001b[0m coba()\n",
      "Cell \u001b[1;32mIn[59], line 2\u001b[0m, in \u001b[0;36mcoba\u001b[1;34m()\u001b[0m\n\u001b[0;32m      1\u001b[0m \u001b[38;5;28;01mdef\u001b[39;00m \u001b[38;5;21mcoba\u001b[39m():\n\u001b[1;32m----> 2\u001b[0m     \u001b[38;5;28;01mfrom\u001b[39;00m \u001b[38;5;21;01mmod\u001b[39;00m \u001b[38;5;28;01mimport\u001b[39;00m s\n\u001b[0;32m      3\u001b[0m     \u001b[38;5;28mprint\u001b[39m (s)\n",
      "\u001b[1;31mImportError\u001b[0m: cannot import name 's' from 'mod' (C:\\Users\\hp\\hacktiv8\\sesi pembelajaran\\mod.py)"
     ]
    }
   ],
   "source": [
    "def coba():\n",
    "    from mod import s\n",
    "    print (s)\n",
    "\n",
    "coba()"
   ]
  },
  {
   "cell_type": "code",
   "execution_count": 60,
   "id": "6b2c1da9",
   "metadata": {},
   "outputs": [
    {
     "ename": "NameError",
     "evalue": "name 'mod' is not defined",
     "output_type": "error",
     "traceback": [
      "\u001b[1;31m---------------------------------------------------------------------------\u001b[0m",
      "\u001b[1;31mNameError\u001b[0m                                 Traceback (most recent call last)",
      "Cell \u001b[1;32mIn[60], line 1\u001b[0m\n\u001b[1;32m----> 1\u001b[0m mod\u001b[38;5;241m.\u001b[39ms\n",
      "\u001b[1;31mNameError\u001b[0m: name 'mod' is not defined"
     ]
    }
   ],
   "source": [
    "mod.s"
   ]
  },
  {
   "cell_type": "code",
   "execution_count": 61,
   "id": "abfe51d6",
   "metadata": {},
   "outputs": [
    {
     "ename": "NameError",
     "evalue": "name 'mod' is not defined",
     "output_type": "error",
     "traceback": [
      "\u001b[1;31m---------------------------------------------------------------------------\u001b[0m",
      "\u001b[1;31mNameError\u001b[0m                                 Traceback (most recent call last)",
      "Cell \u001b[1;32mIn[61], line 1\u001b[0m\n\u001b[1;32m----> 1\u001b[0m mod\u001b[38;5;241m.\u001b[39ma\n",
      "\u001b[1;31mNameError\u001b[0m: name 'mod' is not defined"
     ]
    }
   ],
   "source": [
    "mod.a"
   ]
  },
  {
   "cell_type": "code",
   "execution_count": 63,
   "id": "877723fa",
   "metadata": {},
   "outputs": [
    {
     "ename": "NameError",
     "evalue": "name 'importError' is not defined",
     "output_type": "error",
     "traceback": [
      "\u001b[1;31m---------------------------------------------------------------------------\u001b[0m",
      "\u001b[1;31mModuleNotFoundError\u001b[0m                       Traceback (most recent call last)",
      "Cell \u001b[1;32mIn[63], line 2\u001b[0m\n\u001b[0;32m      1\u001b[0m \u001b[38;5;28;01mtry\u001b[39;00m:\n\u001b[1;32m----> 2\u001b[0m     \u001b[38;5;28;01mimport\u001b[39;00m \u001b[38;5;21;01mdocx\u001b[39;00m\n\u001b[0;32m      3\u001b[0m \u001b[38;5;28;01mexcept\u001b[39;00m importError:\n",
      "\u001b[1;31mModuleNotFoundError\u001b[0m: No module named 'docx'",
      "\nDuring handling of the above exception, another exception occurred:\n",
      "\u001b[1;31mNameError\u001b[0m                                 Traceback (most recent call last)",
      "Cell \u001b[1;32mIn[63], line 3\u001b[0m\n\u001b[0;32m      1\u001b[0m \u001b[38;5;28;01mtry\u001b[39;00m:\n\u001b[0;32m      2\u001b[0m     \u001b[38;5;28;01mimport\u001b[39;00m \u001b[38;5;21;01mdocx\u001b[39;00m\n\u001b[1;32m----> 3\u001b[0m \u001b[38;5;28;01mexcept\u001b[39;00m importError:\n\u001b[0;32m      4\u001b[0m     \u001b[38;5;28mprint\u001b[39m(\u001b[38;5;124m'\u001b[39m\u001b[38;5;124mmodule not found\u001b[39m\u001b[38;5;124m'\u001b[39m)\n",
      "\u001b[1;31mNameError\u001b[0m: name 'importError' is not defined"
     ]
    }
   ],
   "source": [
    "try:\n",
    "    import docx\n",
    "except importError:\n",
    "    print('module not found')"
   ]
  },
  {
   "cell_type": "code",
   "execution_count": 64,
   "id": "c7532f71",
   "metadata": {},
   "outputs": [
    {
     "ename": "NameError",
     "evalue": "name 'importError' is not defined",
     "output_type": "error",
     "traceback": [
      "\u001b[1;31m---------------------------------------------------------------------------\u001b[0m",
      "\u001b[1;31mImportError\u001b[0m                               Traceback (most recent call last)",
      "Cell \u001b[1;32mIn[64], line 2\u001b[0m\n\u001b[0;32m      1\u001b[0m \u001b[38;5;28;01mtry\u001b[39;00m:\n\u001b[1;32m----> 2\u001b[0m     \u001b[38;5;28;01mfrom\u001b[39;00m \u001b[38;5;21;01mmod\u001b[39;00m \u001b[38;5;28;01mimport\u001b[39;00m b\n\u001b[0;32m      3\u001b[0m \u001b[38;5;28;01mexcept\u001b[39;00m importError:\n",
      "\u001b[1;31mImportError\u001b[0m: cannot import name 'b' from 'mod' (C:\\Users\\hp\\hacktiv8\\sesi pembelajaran\\mod.py)",
      "\nDuring handling of the above exception, another exception occurred:\n",
      "\u001b[1;31mNameError\u001b[0m                                 Traceback (most recent call last)",
      "Cell \u001b[1;32mIn[64], line 3\u001b[0m\n\u001b[0;32m      1\u001b[0m \u001b[38;5;28;01mtry\u001b[39;00m:\n\u001b[0;32m      2\u001b[0m     \u001b[38;5;28;01mfrom\u001b[39;00m \u001b[38;5;21;01mmod\u001b[39;00m \u001b[38;5;28;01mimport\u001b[39;00m b\n\u001b[1;32m----> 3\u001b[0m \u001b[38;5;28;01mexcept\u001b[39;00m importError:\n\u001b[0;32m      4\u001b[0m     \u001b[38;5;28mprint\u001b[39m(\u001b[38;5;124m'\u001b[39m\u001b[38;5;124mmodule not found\u001b[39m\u001b[38;5;124m'\u001b[39m)\n",
      "\u001b[1;31mNameError\u001b[0m: name 'importError' is not defined"
     ]
    }
   ],
   "source": [
    "try:\n",
    "    from mod import b\n",
    "except importError:\n",
    "    print('module not found')"
   ]
  },
  {
   "cell_type": "code",
   "execution_count": 65,
   "id": "6d528194",
   "metadata": {},
   "outputs": [
    {
     "data": {
      "text/plain": [
       "['In',\n",
       " 'Out',\n",
       " '_',\n",
       " '_14',\n",
       " '_42',\n",
       " '_43',\n",
       " '_48',\n",
       " '_5',\n",
       " '_52',\n",
       " '__',\n",
       " '___',\n",
       " '__builtin__',\n",
       " '__builtins__',\n",
       " '__doc__',\n",
       " '__loader__',\n",
       " '__name__',\n",
       " '__package__',\n",
       " '__spec__',\n",
       " '_dh',\n",
       " '_i',\n",
       " '_i1',\n",
       " '_i10',\n",
       " '_i11',\n",
       " '_i12',\n",
       " '_i13',\n",
       " '_i14',\n",
       " '_i15',\n",
       " '_i16',\n",
       " '_i17',\n",
       " '_i18',\n",
       " '_i19',\n",
       " '_i2',\n",
       " '_i20',\n",
       " '_i21',\n",
       " '_i22',\n",
       " '_i23',\n",
       " '_i24',\n",
       " '_i25',\n",
       " '_i26',\n",
       " '_i27',\n",
       " '_i28',\n",
       " '_i29',\n",
       " '_i3',\n",
       " '_i30',\n",
       " '_i31',\n",
       " '_i32',\n",
       " '_i33',\n",
       " '_i34',\n",
       " '_i35',\n",
       " '_i36',\n",
       " '_i37',\n",
       " '_i38',\n",
       " '_i39',\n",
       " '_i4',\n",
       " '_i40',\n",
       " '_i41',\n",
       " '_i42',\n",
       " '_i43',\n",
       " '_i44',\n",
       " '_i45',\n",
       " '_i46',\n",
       " '_i47',\n",
       " '_i48',\n",
       " '_i49',\n",
       " '_i5',\n",
       " '_i50',\n",
       " '_i51',\n",
       " '_i52',\n",
       " '_i53',\n",
       " '_i54',\n",
       " '_i55',\n",
       " '_i56',\n",
       " '_i57',\n",
       " '_i58',\n",
       " '_i59',\n",
       " '_i6',\n",
       " '_i60',\n",
       " '_i61',\n",
       " '_i62',\n",
       " '_i63',\n",
       " '_i64',\n",
       " '_i65',\n",
       " '_i7',\n",
       " '_i8',\n",
       " '_i9',\n",
       " '_ih',\n",
       " '_ii',\n",
       " '_iii',\n",
       " '_oh',\n",
       " 'a',\n",
       " 'coba',\n",
       " 'exit',\n",
       " 'get_ipython',\n",
       " 'halo',\n",
       " 'jumlah',\n",
       " 'jumlahHewan',\n",
       " 'jumlahKucing',\n",
       " 'm',\n",
       " 'n1',\n",
       " 'n2',\n",
       " 'np',\n",
       " 'open',\n",
       " 'pandas',\n",
       " 'pd',\n",
       " 'plt',\n",
       " 'printme',\n",
       " 'printvar',\n",
       " 'quit',\n",
       " 's',\n",
       " 'sys',\n",
       " 'total']"
      ]
     },
     "execution_count": 65,
     "metadata": {},
     "output_type": "execute_result"
    }
   ],
   "source": [
    "dir()"
   ]
  },
  {
   "cell_type": "code",
   "execution_count": 66,
   "id": "606cc1c2",
   "metadata": {},
   "outputs": [],
   "source": [
    "import pandas \n",
    "import numpy\n",
    "import seaborn"
   ]
  },
  {
   "cell_type": "code",
   "execution_count": null,
   "id": "0939810f",
   "metadata": {},
   "outputs": [],
   "source": []
  }
 ],
 "metadata": {
  "kernelspec": {
   "display_name": "Python 3 (ipykernel)",
   "language": "python",
   "name": "python3"
  },
  "language_info": {
   "codemirror_mode": {
    "name": "ipython",
    "version": 3
   },
   "file_extension": ".py",
   "mimetype": "text/x-python",
   "name": "python",
   "nbconvert_exporter": "python",
   "pygments_lexer": "ipython3",
   "version": "3.11.4"
  }
 },
 "nbformat": 4,
 "nbformat_minor": 5
}
