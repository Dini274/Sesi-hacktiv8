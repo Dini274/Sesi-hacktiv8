{
 "cells": [
  {
   "cell_type": "markdown",
   "id": "97b79c74",
   "metadata": {},
   "source": [
    "# Conditions, Control Flow & Looping"
   ]
  },
  {
   "cell_type": "markdown",
   "id": "7e5d64fb",
   "metadata": {},
   "source": [
    "# Conditional"
   ]
  },
  {
   "cell_type": "code",
   "execution_count": 1,
   "id": "93269bcd",
   "metadata": {},
   "outputs": [],
   "source": [
    "# a == b\n",
    "# a != b\n",
    "# a < b\n",
    "# a <= b\n",
    "# a > b\n",
    "# a >= b\n",
    "# if statements"
   ]
  },
  {
   "cell_type": "markdown",
   "id": "a9551459",
   "metadata": {},
   "source": [
    "## Introduction to the if statement"
   ]
  },
  {
   "cell_type": "code",
   "execution_count": 2,
   "id": "b94ca3e0",
   "metadata": {},
   "outputs": [],
   "source": [
    "# syntaks\n",
    "# if <expr>:\n",
    "#     <statement>"
   ]
  },
  {
   "cell_type": "code",
   "execution_count": 3,
   "id": "ca6a3ab6",
   "metadata": {},
   "outputs": [
    {
     "name": "stdout",
     "output_type": "stream",
     "text": [
      "yes\n"
     ]
    }
   ],
   "source": [
    "x = 0\n",
    "y = 5\n",
    "\n",
    "if x < y:\n",
    "    print('yes')"
   ]
  },
  {
   "cell_type": "code",
   "execution_count": 4,
   "id": "d90d846e",
   "metadata": {},
   "outputs": [],
   "source": [
    "if y < x:\n",
    "    print('yes')"
   ]
  },
  {
   "cell_type": "code",
   "execution_count": 5,
   "id": "43d81595",
   "metadata": {},
   "outputs": [],
   "source": [
    "if x:\n",
    "    print('yes')"
   ]
  },
  {
   "cell_type": "code",
   "execution_count": 6,
   "id": "c30d655d",
   "metadata": {},
   "outputs": [
    {
     "name": "stdout",
     "output_type": "stream",
     "text": [
      "yes\n"
     ]
    }
   ],
   "source": [
    "if y:\n",
    "    print('yes')"
   ]
  },
  {
   "cell_type": "code",
   "execution_count": 7,
   "id": "81429fbf",
   "metadata": {},
   "outputs": [
    {
     "name": "stdout",
     "output_type": "stream",
     "text": [
      "yes\n"
     ]
    }
   ],
   "source": [
    "\n",
    "if 'aul' in 'grault':\n",
    "    print('yes')"
   ]
  },
  {
   "cell_type": "code",
   "execution_count": 8,
   "id": "2367170d",
   "metadata": {},
   "outputs": [],
   "source": [
    "if 'quux' in ['foo', 'bar', 'baz']:\n",
    "    print('yes')"
   ]
  },
  {
   "cell_type": "markdown",
   "id": "b9bfd853",
   "metadata": {},
   "source": [
    "## Grouping Statement: Indentation and Blocks"
   ]
  },
  {
   "cell_type": "markdown",
   "id": "1f2738d8",
   "metadata": {},
   "source": [
    "### Python : It's all about the indentation"
   ]
  },
  {
   "cell_type": "code",
   "execution_count": 9,
   "id": "c1be75f2",
   "metadata": {},
   "outputs": [
    {
     "name": "stdout",
     "output_type": "stream",
     "text": [
      "After conditional\n"
     ]
    }
   ],
   "source": [
    "if 'foo' in ['bar', 'baz', 'qux']:\n",
    "    print('Expression was true')\n",
    "    print('Executing statement in suite')\n",
    "    print('...')\n",
    "    print('Done.')\n",
    "print('After conditional')"
   ]
  },
  {
   "cell_type": "code",
   "execution_count": 10,
   "id": "b2a01e3a",
   "metadata": {},
   "outputs": [
    {
     "name": "stdout",
     "output_type": "stream",
     "text": [
      "Outer condition is true\n",
      "Between inner condition 1\n",
      "Inner condition 2\n",
      "End of outer condition\n",
      "After outer condition\n"
     ]
    }
   ],
   "source": [
    "# Does line execute?                    Yes    No\n",
    "#                                       ---   ---\n",
    "if 'foo' in ['foo', 'bar', 'baz']:     # x\n",
    "    print('Outer condition is true')   # X\n",
    "    \n",
    "    if 10 > 20:                        # x\n",
    "        print('Inner condition 1')     #       x\n",
    "        \n",
    "    print('Between inner condition 1') # X\n",
    "    \n",
    "    if 10 < 20:                        # x\n",
    "        print('Inner condition 2')     # x\n",
    "        \n",
    "    print('End of outer condition')    # x\n",
    "print('After outer condition')         # x"
   ]
  },
  {
   "cell_type": "markdown",
   "id": "54485d64",
   "metadata": {},
   "source": [
    "### The else and elif clauses"
   ]
  },
  {
   "cell_type": "code",
   "execution_count": 11,
   "id": "3a79083d",
   "metadata": {},
   "outputs": [],
   "source": [
    "# if <expr>:\n",
    "#     <statement(s)>\n",
    "# else:\n",
    "#     <statement(s)>"
   ]
  },
  {
   "cell_type": "code",
   "execution_count": 12,
   "id": "05a71063",
   "metadata": {},
   "outputs": [
    {
     "name": "stdout",
     "output_type": "stream",
     "text": [
      "(first suite)\n",
      "x is small\n"
     ]
    }
   ],
   "source": [
    "x = 20\n",
    "\n",
    "if x < 50:\n",
    "    print('(first suite)')\n",
    "    print('x is small')\n",
    "else:\n",
    "    print('(second suite)')\n",
    "    print('x is large')"
   ]
  },
  {
   "cell_type": "code",
   "execution_count": 13,
   "id": "5837a5f4",
   "metadata": {},
   "outputs": [
    {
     "name": "stdout",
     "output_type": "stream",
     "text": [
      "(second suite)\n",
      "x is large\n"
     ]
    }
   ],
   "source": [
    "x = 120\n",
    "\n",
    "if x < 50:\n",
    "    print('(first suite)')\n",
    "    print('x is small')\n",
    "else:\n",
    "    print('(second suite)')\n",
    "    print('x is large')"
   ]
  },
  {
   "cell_type": "code",
   "execution_count": 14,
   "id": "1fc8e4cd",
   "metadata": {},
   "outputs": [
    {
     "name": "stdout",
     "output_type": "stream",
     "text": [
      "uang tidak cukup\n"
     ]
    }
   ],
   "source": [
    "hargaBuku = 20000\n",
    "hargaMajalah = 5000\n",
    "uang = 2000\n",
    "\n",
    "if uang > hargaBuku:\n",
    "    print(\"beli buku\")\n",
    "else:\n",
    "    print(\"uang tidak cukup\")"
   ]
  },
  {
   "cell_type": "code",
   "execution_count": 15,
   "id": "cd3f4a4a",
   "metadata": {},
   "outputs": [
    {
     "name": "stdout",
     "output_type": "stream",
     "text": [
      "uang tidak cukup\n"
     ]
    }
   ],
   "source": [
    "# if elif\n",
    "hargaBuku = 20000\n",
    "hargaMajalah = 5000\n",
    "uang = 2000\n",
    "\n",
    "if uang > hargaBuku:\n",
    "    print(\"beli buku\")\n",
    "elif uang > hargaMajalah:\n",
    "    print(\"beli majalah\")\n",
    "else:\n",
    "    print(\"uang tidak cukup\")"
   ]
  },
  {
   "cell_type": "code",
   "execution_count": 16,
   "id": "5d56bd21",
   "metadata": {},
   "outputs": [
    {
     "name": "stdout",
     "output_type": "stream",
     "text": [
      "Hello Hacktiv8\n"
     ]
    }
   ],
   "source": [
    "name = 'Hacktiv8'\n",
    "if name == 'Fred':\n",
    "    print('Hello Fred')\n",
    "elif name == 'Xander':\n",
    "    print('Helo Xander')\n",
    "elif name == 'Hacktiv8':\n",
    "    print('Hello Hacktiv8')\n",
    "elif name == 'Arnold':\n",
    "    print(\"I don't know who you are!\")"
   ]
  },
  {
   "cell_type": "code",
   "execution_count": 17,
   "id": "8b21c72e",
   "metadata": {},
   "outputs": [
    {
     "name": "stdout",
     "output_type": "stream",
     "text": [
      "foo\n"
     ]
    }
   ],
   "source": [
    "if 'a' in 'bar':\n",
    "    print('foo')\n",
    "elif 1/10:\n",
    "    print(\"this won't happen\")\n",
    "elif var:\n",
    "    print(\"This won't either\")"
   ]
  },
  {
   "cell_type": "markdown",
   "id": "4e810edb",
   "metadata": {},
   "source": [
    "### One-Line if Statements"
   ]
  },
  {
   "cell_type": "code",
   "execution_count": 18,
   "id": "74711e0c",
   "metadata": {},
   "outputs": [],
   "source": [
    "# if <expr>:\n",
    "#     <statement>"
   ]
  },
  {
   "cell_type": "code",
   "execution_count": 19,
   "id": "ceb887ef",
   "metadata": {},
   "outputs": [
    {
     "name": "stdout",
     "output_type": "stream",
     "text": [
      "1\n",
      "2\n",
      "3\n"
     ]
    }
   ],
   "source": [
    "if 'f' in 'foo': print('1'); print('2'); print('3')"
   ]
  },
  {
   "cell_type": "code",
   "execution_count": 20,
   "id": "91ad00c0",
   "metadata": {},
   "outputs": [],
   "source": [
    "if 'z' in 'foo': print('1'); print('2'); print('3')"
   ]
  },
  {
   "cell_type": "code",
   "execution_count": 21,
   "id": "419bcb79",
   "metadata": {},
   "outputs": [
    {
     "name": "stdout",
     "output_type": "stream",
     "text": [
      "qux\n",
      "quux\n"
     ]
    }
   ],
   "source": [
    "x = 2\n",
    "\n",
    "if x == 1: print('foo'); print('bar'); print('baz')\n",
    "elif x == 2: print('qux'); print('quux')\n",
    "else: print('corge'); print('grault')"
   ]
  },
  {
   "cell_type": "code",
   "execution_count": 22,
   "id": "56862fa6",
   "metadata": {},
   "outputs": [
    {
     "name": "stdout",
     "output_type": "stream",
     "text": [
      "corge\n",
      "grault\n"
     ]
    }
   ],
   "source": [
    "x = 3\n",
    "\n",
    "if x == 1: print('foo'); print('bar'); print('baz')\n",
    "elif x == 2: print('qux'); print('quux')\n",
    "else: print('corge'); print('grault')"
   ]
  },
  {
   "cell_type": "code",
   "execution_count": 23,
   "id": "5b0a516f",
   "metadata": {},
   "outputs": [
    {
     "name": "stdout",
     "output_type": "stream",
     "text": [
      "corge\n",
      "grault\n"
     ]
    }
   ],
   "source": [
    "# syntaks sebelumnya tidak direkomendasikan karena readability yg buruk\n",
    "x = 3\n",
    "\n",
    "if x == 1: \n",
    "    print('foo'); \n",
    "    print('bar'); \n",
    "    print('baz')\n",
    "elif x == 2: \n",
    "    print('qux'); \n",
    "    print('quux')\n",
    "else: \n",
    "    print('corge'); \n",
    "    print('grault')"
   ]
  },
  {
   "cell_type": "markdown",
   "id": "6d5c3c15",
   "metadata": {},
   "source": [
    "### Conditional Expressions (python's ternary operator)"
   ]
  },
  {
   "cell_type": "code",
   "execution_count": 24,
   "id": "664725bc",
   "metadata": {},
   "outputs": [
    {
     "name": "stdout",
     "output_type": "stream",
     "text": [
      "Let's go to the beach\n"
     ]
    }
   ],
   "source": [
    "# <expr1> if <conditional_expr> else <expr2>\n",
    "raining = False\n",
    "print(\"Let's go to the\", 'beach' if not raining else 'library')"
   ]
  },
  {
   "cell_type": "code",
   "execution_count": 25,
   "id": "e2985016",
   "metadata": {},
   "outputs": [
    {
     "name": "stdout",
     "output_type": "stream",
     "text": [
      "Let's go to the library\n"
     ]
    }
   ],
   "source": [
    "raining = True\n",
    "print(\"Let's go to the\", 'beach' if not raining else 'library')"
   ]
  },
  {
   "cell_type": "code",
   "execution_count": 26,
   "id": "41f406bc",
   "metadata": {},
   "outputs": [
    {
     "data": {
      "text/plain": [
       "'teen'"
      ]
     },
     "execution_count": 26,
     "metadata": {},
     "output_type": "execute_result"
    }
   ],
   "source": [
    "age = 12\n",
    "s = 'teen' if age < 21 else 'adult'\n",
    "s"
   ]
  },
  {
   "cell_type": "code",
   "execution_count": 27,
   "id": "56f30364",
   "metadata": {},
   "outputs": [
    {
     "data": {
      "text/plain": [
       "'adult'"
      ]
     },
     "execution_count": 27,
     "metadata": {},
     "output_type": "execute_result"
    }
   ],
   "source": [
    "age = 22\n",
    "s = 'teen' if age < 21 else 'adult'\n",
    "s"
   ]
  },
  {
   "cell_type": "code",
   "execution_count": 28,
   "id": "a7c7e10a",
   "metadata": {},
   "outputs": [
    {
     "data": {
      "text/plain": [
       "'no'"
      ]
     },
     "execution_count": 28,
     "metadata": {},
     "output_type": "execute_result"
    }
   ],
   "source": [
    "'yes' if ('qux' in ['foo', 'bar', 'baz']) else 'no'"
   ]
  },
  {
   "cell_type": "code",
   "execution_count": 29,
   "id": "48eee62e",
   "metadata": {},
   "outputs": [
    {
     "data": {
      "text/plain": [
       "'yes'"
      ]
     },
     "execution_count": 29,
     "metadata": {},
     "output_type": "execute_result"
    }
   ],
   "source": [
    "'yes' if ('bar' in ['foo', 'bar', 'baz']) else 'no'"
   ]
  },
  {
   "cell_type": "code",
   "execution_count": 30,
   "id": "007f5e4f",
   "metadata": {},
   "outputs": [],
   "source": [
    "# if standar\n",
    "# if a > b:\n",
    "#     m = a\n",
    "# else:\n",
    "#     m = b"
   ]
  },
  {
   "cell_type": "markdown",
   "id": "ded68d64",
   "metadata": {},
   "source": [
    "### The python pass statement"
   ]
  },
  {
   "cell_type": "code",
   "execution_count": 31,
   "id": "b68b8886",
   "metadata": {},
   "outputs": [
    {
     "name": "stdout",
     "output_type": "stream",
     "text": [
      "foo\n"
     ]
    }
   ],
   "source": [
    "if True:\n",
    "    print('foo')"
   ]
  },
  {
   "cell_type": "code",
   "execution_count": 32,
   "id": "f05d9c7e",
   "metadata": {},
   "outputs": [
    {
     "name": "stdout",
     "output_type": "stream",
     "text": [
      "foo\n"
     ]
    }
   ],
   "source": [
    "if True:\n",
    "    pass\n",
    "\n",
    "print('foo')"
   ]
  },
  {
   "cell_type": "code",
   "execution_count": 33,
   "id": "3e02f89c",
   "metadata": {},
   "outputs": [
    {
     "name": "stdout",
     "output_type": "stream",
     "text": [
      "foo\n"
     ]
    }
   ],
   "source": [
    "if True:\n",
    "    pass\n",
    "print('foo')"
   ]
  },
  {
   "cell_type": "markdown",
   "id": "9b92878c",
   "metadata": {},
   "source": [
    "# Python \"While\" Loops"
   ]
  },
  {
   "cell_type": "code",
   "execution_count": 40,
   "id": "a4186e62",
   "metadata": {},
   "outputs": [],
   "source": [
    "# indefinite iteration\n",
    "# definite iteration"
   ]
  },
  {
   "cell_type": "code",
   "execution_count": 41,
   "id": "9868a4ed",
   "metadata": {},
   "outputs": [],
   "source": [
    "# sytaks \n",
    "# while <expr>:\n",
    "#     <statement(s)>"
   ]
  },
  {
   "cell_type": "code",
   "execution_count": 42,
   "id": "b47d994e",
   "metadata": {},
   "outputs": [
    {
     "name": "stdout",
     "output_type": "stream",
     "text": [
      "4\n",
      "3\n",
      "2\n",
      "1\n",
      "0\n"
     ]
    }
   ],
   "source": [
    "n = 5\n",
    "while n > 0:\n",
    "    n -= 1    \n",
    "    print(n)"
   ]
  },
  {
   "cell_type": "code",
   "execution_count": 43,
   "id": "3396d324",
   "metadata": {},
   "outputs": [
    {
     "name": "stdout",
     "output_type": "stream",
     "text": [
      "1\n",
      "2\n",
      "3\n",
      "4\n",
      "5\n"
     ]
    }
   ],
   "source": [
    "i = 1\n",
    "while i < 6:\n",
    "    print(i)\n",
    "    i += 1"
   ]
  },
  {
   "cell_type": "markdown",
   "id": "dbbaa6c4",
   "metadata": {},
   "source": [
    "## The Python break and continue statements"
   ]
  },
  {
   "cell_type": "code",
   "execution_count": 49,
   "id": "60c7124b",
   "metadata": {},
   "outputs": [
    {
     "name": "stdout",
     "output_type": "stream",
     "text": [
      "4\n",
      "3\n",
      "Loop ended.\n"
     ]
    }
   ],
   "source": [
    "# 2 nya di skip, dan looping dihentikan\n",
    "n = 5\n",
    "while n > 0:\n",
    "    n-= 1\n",
    "    if n == 2:\n",
    "        break #break statement\n",
    "    print(n)\n",
    "print('Loop ended.')"
   ]
  },
  {
   "cell_type": "code",
   "execution_count": 50,
   "id": "878b4c5f",
   "metadata": {},
   "outputs": [
    {
     "name": "stdout",
     "output_type": "stream",
     "text": [
      "4\n",
      "3\n",
      "1\n",
      "0\n",
      "Loop ended.\n"
     ]
    }
   ],
   "source": [
    "# 2 nya di skip tapi lanjut eksekusi\n",
    "n = 5\n",
    "while n > 0:\n",
    "    n-= 1\n",
    "    if n == 2:\n",
    "        continue\n",
    "    print(n)\n",
    "print('Loop ended.')"
   ]
  },
  {
   "cell_type": "markdown",
   "id": "695292bc",
   "metadata": {},
   "source": [
    "## The else clause"
   ]
  },
  {
   "cell_type": "code",
   "execution_count": 52,
   "id": "53ec1898",
   "metadata": {},
   "outputs": [
    {
     "ename": "SyntaxError",
     "evalue": "invalid syntax (2153506920.py, line 1)",
     "output_type": "error",
     "traceback": [
      "\u001b[1;36m  Cell \u001b[1;32mIn[52], line 1\u001b[1;36m\u001b[0m\n\u001b[1;33m    while<expr>:\u001b[0m\n\u001b[1;37m         ^\u001b[0m\n\u001b[1;31mSyntaxError\u001b[0m\u001b[1;31m:\u001b[0m invalid syntax\n"
     ]
    }
   ],
   "source": [
    "# while<expr>:\n",
    "#     <statement(s)>\n",
    "# else:\n",
    "#     <additional_statement(s)>"
   ]
  },
  {
   "cell_type": "code",
   "execution_count": 53,
   "id": "7ef33a1c",
   "metadata": {},
   "outputs": [
    {
     "name": "stdout",
     "output_type": "stream",
     "text": [
      "4\n",
      "3\n",
      "2\n",
      "1\n",
      "0\n",
      "Loop done.\n"
     ]
    }
   ],
   "source": [
    "n = 5\n",
    "while n > 0:\n",
    "    n -= 1\n",
    "    print(n)\n",
    "else:\n",
    "    print('Loop done.')"
   ]
  },
  {
   "cell_type": "code",
   "execution_count": 55,
   "id": "c22d4b5d",
   "metadata": {},
   "outputs": [
    {
     "name": "stdout",
     "output_type": "stream",
     "text": [
      "4\n",
      "3\n",
      "2\n"
     ]
    }
   ],
   "source": [
    "n = 5\n",
    "while n > 0:\n",
    "    n -= 1\n",
    "    print(n)\n",
    "    if n == 2:\n",
    "        break\n",
    "else:\n",
    "    print('Loop done.')"
   ]
  },
  {
   "cell_type": "markdown",
   "id": "7b5fdf4e",
   "metadata": {},
   "source": [
    "## Infinite loops"
   ]
  },
  {
   "cell_type": "code",
   "execution_count": null,
   "id": "7fbe31cb",
   "metadata": {},
   "outputs": [],
   "source": [
    "# tidak akan berakhir\n",
    "\n",
    "# while True:\n",
    "#     print('foo')"
   ]
  },
  {
   "cell_type": "markdown",
   "id": "0c62b15d",
   "metadata": {},
   "source": [
    "## Nested while loops"
   ]
  },
  {
   "cell_type": "code",
   "execution_count": 5,
   "id": "0e3a041e",
   "metadata": {},
   "outputs": [
    {
     "name": "stdout",
     "output_type": "stream",
     "text": [
      "mother\n"
     ]
    }
   ],
   "source": [
    "age = 20\n",
    "if age < 18:\n",
    "    if gender == 'M':\n",
    "        print('son')\n",
    "    else:\n",
    "        print('daughter')\n",
    "elif age >= 18 and age < 65:\n",
    "    if gender == 'M':\n",
    "        print('father')\n",
    "    else:\n",
    "        print('mother')\n",
    "else:\n",
    "    if gender == 'M':\n",
    "        print('grandFather')\n",
    "    else:\n",
    "        print('grandMother')"
   ]
  },
  {
   "cell_type": "code",
   "execution_count": 6,
   "id": "d0957ca0",
   "metadata": {},
   "outputs": [],
   "source": [
    "#"
   ]
  },
  {
   "cell_type": "code",
   "execution_count": 61,
   "id": "b42370fc",
   "metadata": {},
   "outputs": [
    {
     "name": "stdout",
     "output_type": "stream",
     "text": [
      "foo\n",
      "> baz\n",
      "> qux\n",
      "bar\n",
      "> baz\n",
      "> qux\n"
     ]
    }
   ],
   "source": [
    "a = ['foo', 'bar']\n",
    "\n",
    "while len(a):\n",
    "    print(a.pop(0))\n",
    "    \n",
    "    b = ['baz', 'qux']\n",
    "    \n",
    "    while len(b):\n",
    "        print('>', b.pop(0))"
   ]
  },
  {
   "cell_type": "code",
   "execution_count": 2,
   "id": "ab791c13",
   "metadata": {},
   "outputs": [],
   "source": [
    "# break dan continue\n",
    "\n",
    "# while <expr1>:\n",
    "#     statement\n",
    "#     statement\n",
    "\n",
    "#     while <expr2>:\n",
    "#         statement\n",
    "#         statement\n",
    "#         break  # applies to while <expr2>: loop\n",
    "    \n",
    "#     break  # applies to while <expr1>: loop"
   ]
  },
  {
   "cell_type": "code",
   "execution_count": 3,
   "id": "de06df03",
   "metadata": {},
   "outputs": [],
   "source": [
    "# if elif else\n",
    "\n",
    "# if <expr>:\n",
    "#     statement\n",
    "#     while <expr>:\n",
    "#         statement\n",
    "#         statement\n",
    "# else:\n",
    "#     while <expr>:\n",
    "#         statement\n",
    "#         statement\n",
    "#     statement\n",
    "# while <expr>:\n",
    "#     if <expr>:\n",
    "#         statement\n",
    "#     elif <expr>:\n",
    "#         statement\n",
    "#     else:\n",
    "#         statement\n",
    "#     if <expr>:\n",
    "#         statement"
   ]
  },
  {
   "cell_type": "markdown",
   "id": "f9f979c5",
   "metadata": {},
   "source": [
    "## One-Line while Loops"
   ]
  },
  {
   "cell_type": "code",
   "execution_count": 7,
   "id": "bf85ed60",
   "metadata": {},
   "outputs": [
    {
     "name": "stdout",
     "output_type": "stream",
     "text": [
      "4\n",
      "3\n",
      "2\n",
      "1\n",
      "0\n"
     ]
    }
   ],
   "source": [
    "n = 5 \n",
    "while n > 0: n -= 1; print(n)"
   ]
  },
  {
   "cell_type": "markdown",
   "id": "6bffdc38",
   "metadata": {},
   "source": [
    "# A survey of definite iteration in programming"
   ]
  },
  {
   "cell_type": "markdown",
   "id": "693375f3",
   "metadata": {},
   "source": [
    "## Numeric Range Loop"
   ]
  },
  {
   "cell_type": "code",
   "execution_count": null,
   "id": "b4a05c36",
   "metadata": {},
   "outputs": [],
   "source": [
    "# for i = 1 to 10\n",
    "#     <loop body>"
   ]
  },
  {
   "cell_type": "markdown",
   "id": "449ae962",
   "metadata": {},
   "source": [
    "## Three-Expression Loop"
   ]
  },
  {
   "cell_type": "code",
   "execution_count": null,
   "id": "46e5d980",
   "metadata": {},
   "outputs": [],
   "source": [
    "# for (i = 1; i<= 10; i++)\n",
    "#     <loop body>"
   ]
  },
  {
   "cell_type": "markdown",
   "id": "ae6f0926",
   "metadata": {},
   "source": [
    "## Collection-Based or Iterator-Based Loop"
   ]
  },
  {
   "cell_type": "code",
   "execution_count": 10,
   "id": "fa34cd47",
   "metadata": {},
   "outputs": [],
   "source": [
    "# for i in <collection>\n",
    "#     <loop body>"
   ]
  },
  {
   "cell_type": "markdown",
   "id": "66d07514",
   "metadata": {},
   "source": [
    "# The Python for Loop"
   ]
  },
  {
   "cell_type": "code",
   "execution_count": 11,
   "id": "037c070d",
   "metadata": {},
   "outputs": [],
   "source": [
    "# python hanya mengimplementasikan iterasi collection based"
   ]
  },
  {
   "cell_type": "code",
   "execution_count": 12,
   "id": "7a934c23",
   "metadata": {},
   "outputs": [],
   "source": [
    "# for <var> in <iterable>:\n",
    "#     <statement(s)>"
   ]
  },
  {
   "cell_type": "code",
   "execution_count": 16,
   "id": "c4adf1c4",
   "metadata": {},
   "outputs": [
    {
     "name": "stdout",
     "output_type": "stream",
     "text": [
      "foo\n",
      "bar\n",
      "baz\n"
     ]
    }
   ],
   "source": [
    "a = ['foo', 'bar', 'baz']\n",
    "for i in a:\n",
    "    print(i)"
   ]
  },
  {
   "cell_type": "code",
   "execution_count": 17,
   "id": "cedd4f23",
   "metadata": {},
   "outputs": [
    {
     "name": "stdout",
     "output_type": "stream",
     "text": [
      "foo\n",
      "bar\n",
      "baz\n"
     ]
    }
   ],
   "source": [
    "d = {'foo':1, 'bar':2, 'baz':3}\n",
    "for k in d:\n",
    "    print(k)"
   ]
  },
  {
   "cell_type": "code",
   "execution_count": 18,
   "id": "c5c2e634",
   "metadata": {},
   "outputs": [
    {
     "name": "stdout",
     "output_type": "stream",
     "text": [
      "1\n",
      "2\n",
      "3\n"
     ]
    }
   ],
   "source": [
    "for k in d:\n",
    "    print(d[k])"
   ]
  },
  {
   "cell_type": "code",
   "execution_count": 19,
   "id": "b6a638b1",
   "metadata": {},
   "outputs": [
    {
     "name": "stdout",
     "output_type": "stream",
     "text": [
      "1\n",
      "2\n",
      "3\n"
     ]
    }
   ],
   "source": [
    "for k in d.values():\n",
    "    print(k)"
   ]
  },
  {
   "cell_type": "code",
   "execution_count": 20,
   "id": "72d20936",
   "metadata": {},
   "outputs": [
    {
     "name": "stdout",
     "output_type": "stream",
     "text": [
      "foo : 1\n",
      "bar : 2\n",
      "baz : 3\n"
     ]
    }
   ],
   "source": [
    "for k, v in d.items():\n",
    "    print(k, \":\", v)"
   ]
  },
  {
   "cell_type": "markdown",
   "id": "ca191fee",
   "metadata": {},
   "source": [
    "## Iterating Through a Dictionary"
   ]
  },
  {
   "cell_type": "code",
   "execution_count": 21,
   "id": "29183e87",
   "metadata": {},
   "outputs": [
    {
     "name": "stdout",
     "output_type": "stream",
     "text": [
      "foo\n",
      "bar\n",
      "baz\n"
     ]
    }
   ],
   "source": [
    "d = {'foo':1, 'bar':2, 'baz':3}\n",
    "for k in d:\n",
    "    print(k)"
   ]
  },
  {
   "cell_type": "code",
   "execution_count": 23,
   "id": "095afe80",
   "metadata": {},
   "outputs": [
    {
     "name": "stdout",
     "output_type": "stream",
     "text": [
      "1\n",
      "2\n",
      "3\n"
     ]
    }
   ],
   "source": [
    "# untuk mengakses nilai, bukan mengakses key\n",
    "for k in d:\n",
    "    print(d[k])"
   ]
  },
  {
   "cell_type": "code",
   "execution_count": 25,
   "id": "fb038d12",
   "metadata": {},
   "outputs": [
    {
     "name": "stdout",
     "output_type": "stream",
     "text": [
      "1\n",
      "2\n",
      "3\n"
     ]
    }
   ],
   "source": [
    "for v in d.values():\n",
    "    print(v)"
   ]
  },
  {
   "cell_type": "markdown",
   "id": "3b555bfc",
   "metadata": {},
   "source": [
    "## The Range Function"
   ]
  },
  {
   "cell_type": "code",
   "execution_count": 26,
   "id": "25324366",
   "metadata": {},
   "outputs": [
    {
     "name": "stdout",
     "output_type": "stream",
     "text": [
      "0\n",
      "1\n",
      "2\n",
      "3\n",
      "4\n"
     ]
    }
   ],
   "source": [
    "for n in (0, 1, 2, 3, 4):\n",
    "    print(n)"
   ]
  },
  {
   "cell_type": "code",
   "execution_count": 27,
   "id": "9ebf3870",
   "metadata": {},
   "outputs": [],
   "source": [
    "# range function\n",
    "\n",
    "# x = range(5)"
   ]
  },
  {
   "cell_type": "code",
   "execution_count": 29,
   "id": "2b3decdc",
   "metadata": {},
   "outputs": [],
   "source": [
    "# for n in x:\n",
    "#     print(n)"
   ]
  },
  {
   "cell_type": "markdown",
   "id": "aa20eb0e",
   "metadata": {},
   "source": [
    "## Altering for Loop Behavior"
   ]
  },
  {
   "cell_type": "markdown",
   "id": "3b9a4352",
   "metadata": {},
   "source": [
    "### The break and continue Statements"
   ]
  },
  {
   "cell_type": "code",
   "execution_count": 30,
   "id": "83db4f0e",
   "metadata": {},
   "outputs": [
    {
     "name": "stdout",
     "output_type": "stream",
     "text": [
      "foo\n"
     ]
    }
   ],
   "source": [
    "for i in ['foo', 'bar', 'baz', 'qux']:\n",
    "    if 'b' in i:\n",
    "        break\n",
    "    print(i)"
   ]
  },
  {
   "cell_type": "code",
   "execution_count": 31,
   "id": "82087deb",
   "metadata": {},
   "outputs": [
    {
     "name": "stdout",
     "output_type": "stream",
     "text": [
      "foo\n",
      "qux\n"
     ]
    }
   ],
   "source": [
    "for i in ['foo', 'bar', 'baz', 'qux']:\n",
    "    if 'b' in i:\n",
    "        continue\n",
    "    print(i)"
   ]
  },
  {
   "cell_type": "markdown",
   "id": "59de585c",
   "metadata": {},
   "source": [
    "### The else Clause"
   ]
  },
  {
   "cell_type": "code",
   "execution_count": 32,
   "id": "fa9cbfc6",
   "metadata": {},
   "outputs": [
    {
     "name": "stdout",
     "output_type": "stream",
     "text": [
      "foo\n",
      "bar\n",
      "baz\n",
      "qux\n",
      "Done.\n"
     ]
    }
   ],
   "source": [
    "for i in ['foo', 'bar', 'baz', 'qux']:\n",
    "    print(i)\n",
    "else:\n",
    "    print('Done.') "
   ]
  },
  {
   "cell_type": "code",
   "execution_count": 33,
   "id": "0f6dd8af",
   "metadata": {},
   "outputs": [
    {
     "name": "stdout",
     "output_type": "stream",
     "text": [
      "foo\n"
     ]
    }
   ],
   "source": [
    "for i in ['foo', 'bar', 'baz', 'qux']:\n",
    "    if i == 'bar':\n",
    "        break\n",
    "    print(i)\n",
    "else:\n",
    "    print('Done.') "
   ]
  },
  {
   "cell_type": "code",
   "execution_count": null,
   "id": "d62ad40b",
   "metadata": {},
   "outputs": [],
   "source": [
    "temp = input(\"Ketikan temperatur yang ingin dikonversi, eg. 45F, 120C: \")\n",
    "degree = int(temp[:-1])\n",
    "\n",
    "if i_convertion == \"C\":\n",
    "    result = int(round((9*degree) / 5+32))\n",
    "elif i_convertion == \"F\":\n",
    "    result = int(round((degree - 32) * 5 / 9))\n",
    "else: \n",
    "    print(\"Masukan input yang benar\")\n",
    "    \n",
    "print(\"Temperaturnya adalah\", result, \"derajat\")"
   ]
  },
  {
   "cell_type": "code",
   "execution_count": null,
   "id": "3dfab7e0",
   "metadata": {},
   "outputs": [],
   "source": [
    "while True:\n",
    "    msg = input(\"Ketika karakter: \").lower()\n",
    "    print(msg)\n",
    "    if msg == \"stop\":\n",
    "        break"
   ]
  },
  {
   "cell_type": "code",
   "execution_count": null,
   "id": "10249a67",
   "metadata": {},
   "outputs": [],
   "source": [
    "temp = input(\"Ketikkan temperatur yang ingin dikonversi, eg. 45F, 120C: \")\n",
    "degree = int(temp[:-1])  # Mengambil semua karakter kecuali yang terakhir\n",
    "conversion_type = temp[-1]  # Mengambil karakter terakhir untuk menentukan jenis konversi\n",
    "\n",
    "if conversion_type == \"C\":\n",
    "    result = int(round((9 * degree) / 5 + 32))\n",
    "    converted_to = \"Fahrenheit\"\n",
    "elif conversion_type == \"F\":\n",
    "    result = int(round((degree - 32) * 5 / 9))\n",
    "    converted_to = \"Celsius\"\n",
    "else:\n",
    "    print(\"Masukkan input yang benar\")\n",
    "    exit()  # Keluar dari program jika input tidak benar\n",
    "\n",
    "print(f\"Temperature adalah {result} derajat {converted_to}\")"
   ]
  },
  {
   "cell_type": "code",
   "execution_count": null,
   "id": "e01f39ed",
   "metadata": {},
   "outputs": [],
   "source": []
  }
 ],
 "metadata": {
  "kernelspec": {
   "display_name": "Python 3 (ipykernel)",
   "language": "python",
   "name": "python3"
  },
  "language_info": {
   "codemirror_mode": {
    "name": "ipython",
    "version": 3
   },
   "file_extension": ".py",
   "mimetype": "text/x-python",
   "name": "python",
   "nbconvert_exporter": "python",
   "pygments_lexer": "ipython3",
   "version": "3.11.4"
  }
 },
 "nbformat": 4,
 "nbformat_minor": 5
}
