{
 "cells": [
  {
   "cell_type": "code",
   "execution_count": 54,
   "id": "37b53f54",
   "metadata": {},
   "outputs": [],
   "source": [
    "a = 2\n",
    "b = 3"
   ]
  },
  {
   "cell_type": "code",
   "execution_count": 55,
   "id": "fc689c0c",
   "metadata": {},
   "outputs": [
    {
     "data": {
      "text/plain": [
       "True"
      ]
     },
     "execution_count": 55,
     "metadata": {},
     "output_type": "execute_result"
    }
   ],
   "source": [
    "a!= b"
   ]
  },
  {
   "cell_type": "code",
   "execution_count": 56,
   "id": "6b2a1ead",
   "metadata": {},
   "outputs": [
    {
     "data": {
      "text/plain": [
       "False"
      ]
     },
     "execution_count": 56,
     "metadata": {},
     "output_type": "execute_result"
    }
   ],
   "source": [
    "a > b"
   ]
  },
  {
   "cell_type": "code",
   "execution_count": 57,
   "id": "14e0bc48",
   "metadata": {},
   "outputs": [
    {
     "data": {
      "text/plain": [
       "False"
      ]
     },
     "execution_count": 57,
     "metadata": {},
     "output_type": "execute_result"
    }
   ],
   "source": [
    "a >=b"
   ]
  },
  {
   "cell_type": "code",
   "execution_count": 58,
   "id": "4fb447d9",
   "metadata": {},
   "outputs": [
    {
     "data": {
      "text/plain": [
       "True"
      ]
     },
     "execution_count": 58,
     "metadata": {},
     "output_type": "execute_result"
    }
   ],
   "source": [
    "a < b"
   ]
  },
  {
   "cell_type": "code",
   "execution_count": 59,
   "id": "a60c2ba8",
   "metadata": {},
   "outputs": [
    {
     "data": {
      "text/plain": [
       "True"
      ]
     },
     "execution_count": 59,
     "metadata": {},
     "output_type": "execute_result"
    }
   ],
   "source": [
    "a <= b"
   ]
  },
  {
   "cell_type": "markdown",
   "id": "7060a0f7",
   "metadata": {},
   "source": [
    "## if statement"
   ]
  },
  {
   "cell_type": "code",
   "execution_count": 60,
   "id": "ba8253a7",
   "metadata": {},
   "outputs": [],
   "source": [
    "if a == b:\n",
    "    print ('a sama dengan b')"
   ]
  },
  {
   "cell_type": "code",
   "execution_count": 61,
   "id": "32042a61",
   "metadata": {},
   "outputs": [],
   "source": [
    "if a > b:\n",
    "    print ('a besar dari b')"
   ]
  },
  {
   "cell_type": "code",
   "execution_count": 62,
   "id": "1b577f67",
   "metadata": {},
   "outputs": [],
   "source": [
    "if a >= b:\n",
    "    print ('a besar dari atau sama dengan b')"
   ]
  },
  {
   "cell_type": "markdown",
   "id": "187d11e7",
   "metadata": {},
   "source": [
    "## grouping statements : indentation and blocks"
   ]
  },
  {
   "cell_type": "code",
   "execution_count": 63,
   "id": "0aaa2864",
   "metadata": {},
   "outputs": [
    {
     "name": "stdout",
     "output_type": "stream",
     "text": [
      "ya\n",
      "a sama dengan b\n",
      "paling bawah\n"
     ]
    }
   ],
   "source": [
    "if a!=b:\n",
    "    print(\"ya\")\n",
    "    print(\"a sama dengan b\")\n",
    "else:\n",
    "    print('jalankan else')\n",
    "    \n",
    "print(\"paling bawah\")"
   ]
  },
  {
   "cell_type": "code",
   "execution_count": 64,
   "id": "f895b071",
   "metadata": {},
   "outputs": [
    {
     "name": "stdout",
     "output_type": "stream",
     "text": [
      "uang kamu cukup untuk membeli buku\n"
     ]
    }
   ],
   "source": [
    "harga_buku = 15000\n",
    "harga_majalah = 35000\n",
    "uang = 15000\n",
    "\n",
    "if uang > harga_majalah:\n",
    "    print(\"uang kamu cukup untuk membeli majalah\")\n",
    "elif uang >= harga_buku:\n",
    "    print(\"uang kamu cukup untuk membeli buku\")\n",
    "elif uang == harga_buku:\n",
    "    print(\"uang kamu cukup membeli buku, dan habis\")\n",
    "else:\n",
    "    print('uang kamu tidak cukup')"
   ]
  },
  {
   "cell_type": "code",
   "execution_count": 65,
   "id": "76489d05",
   "metadata": {},
   "outputs": [
    {
     "name": "stdout",
     "output_type": "stream",
     "text": [
      "1 kecil dari 2\n",
      "1 kecil dari 2\n"
     ]
    }
   ],
   "source": [
    "if 1 < 2:\n",
    "    print('1 kecil dari 2')\n",
    "if 1 > 2:\n",
    "    print('2 besar dari 1')\n",
    "elif 1 < 2:\n",
    "    print('1 kecil dari 2')"
   ]
  },
  {
   "cell_type": "code",
   "execution_count": 66,
   "id": "48330e11",
   "metadata": {},
   "outputs": [
    {
     "ename": "TypeError",
     "evalue": "'in <string>' requires string as left operand, not int",
     "output_type": "error",
     "traceback": [
      "\u001b[1;31m---------------------------------------------------------------------------\u001b[0m",
      "\u001b[1;31mTypeError\u001b[0m                                 Traceback (most recent call last)",
      "Cell \u001b[1;32mIn[66], line 1\u001b[0m\n\u001b[1;32m----> 1\u001b[0m \u001b[38;5;28;01mif\u001b[39;00m a \u001b[38;5;129;01min\u001b[39;00m \u001b[38;5;124m'\u001b[39m\u001b[38;5;124mbara\u001b[39m\u001b[38;5;124m'\u001b[39m :\u001b[38;5;28mprint\u001b[39m(\u001b[38;5;124m'\u001b[39m\u001b[38;5;124mada\u001b[39m\u001b[38;5;124m'\u001b[39m);\u001b[38;5;28mprint\u001b[39m(\u001b[38;5;124m'\u001b[39m\u001b[38;5;124ma\u001b[39m\u001b[38;5;124m'\u001b[39m)\n",
      "\u001b[1;31mTypeError\u001b[0m: 'in <string>' requires string as left operand, not int"
     ]
    }
   ],
   "source": [
    "if a in 'bara' :print('ada');print('a')"
   ]
  },
  {
   "cell_type": "markdown",
   "id": "137116de",
   "metadata": {},
   "source": [
    "## conditional expression"
   ]
  },
  {
   "cell_type": "code",
   "execution_count": 67,
   "id": "b156b3cd",
   "metadata": {},
   "outputs": [
    {
     "name": "stdout",
     "output_type": "stream",
     "text": [
      "let's go to the beach\n"
     ]
    }
   ],
   "source": [
    "raining = False\n",
    "print(\"let's go to the\", 'beach' if not raining else 'library')"
   ]
  },
  {
   "cell_type": "code",
   "execution_count": 68,
   "id": "3e296049",
   "metadata": {},
   "outputs": [
    {
     "name": "stdout",
     "output_type": "stream",
     "text": [
      "let's go to the library\n"
     ]
    }
   ],
   "source": [
    "raining = True\n",
    "print(\"let's go to the\", 'beach' if not raining else 'library')"
   ]
  },
  {
   "cell_type": "code",
   "execution_count": 69,
   "id": "ed28933f",
   "metadata": {},
   "outputs": [
    {
     "data": {
      "text/plain": [
       "3"
      ]
     },
     "execution_count": 69,
     "metadata": {},
     "output_type": "execute_result"
    }
   ],
   "source": [
    "m = a if a > b else b\n",
    "\n",
    "m"
   ]
  },
  {
   "cell_type": "code",
   "execution_count": 71,
   "id": "e113795c",
   "metadata": {},
   "outputs": [
    {
     "name": "stdout",
     "output_type": "stream",
     "text": [
      "foo\n"
     ]
    }
   ],
   "source": [
    "if True:\n",
    "    pass\n",
    "elif True:\n",
    "    print('y')\n",
    "print('foo')"
   ]
  },
  {
   "cell_type": "markdown",
   "id": "c99dee34",
   "metadata": {},
   "source": [
    "# Looping"
   ]
  },
  {
   "cell_type": "markdown",
   "id": "1c85a0cc",
   "metadata": {},
   "source": [
    "## while loops : iterasi terus berjalan selagi kondisi terpenuhi"
   ]
  },
  {
   "cell_type": "code",
   "execution_count": 72,
   "id": "dcde2c5a",
   "metadata": {},
   "outputs": [],
   "source": [
    "#while True:\n",
    "    #print('a')"
   ]
  },
  {
   "cell_type": "code",
   "execution_count": 74,
   "id": "e317dbaa",
   "metadata": {},
   "outputs": [
    {
     "name": "stdout",
     "output_type": "stream",
     "text": [
      "4\n",
      "3\n",
      "2\n",
      "1\n",
      "0\n"
     ]
    }
   ],
   "source": [
    "n = 5\n",
    "while n > 0:\n",
    "    n -= 1\n",
    "    print(n)\n",
    "    "
   ]
  },
  {
   "cell_type": "markdown",
   "id": "33587cda",
   "metadata": {},
   "source": [
    "### break"
   ]
  },
  {
   "cell_type": "code",
   "execution_count": 76,
   "id": "8e6994c6",
   "metadata": {},
   "outputs": [
    {
     "name": "stdout",
     "output_type": "stream",
     "text": [
      "4\n",
      "while loop selesai\n"
     ]
    }
   ],
   "source": [
    "n = 5\n",
    "while n > 0:\n",
    "    n -= 1\n",
    "    print(n)\n",
    "    break\n",
    "    \n",
    "print('while loop selesai')"
   ]
  },
  {
   "cell_type": "code",
   "execution_count": 78,
   "id": "3d575570",
   "metadata": {},
   "outputs": [
    {
     "name": "stdout",
     "output_type": "stream",
     "text": [
      "4\n",
      "3\n",
      "2\n"
     ]
    }
   ],
   "source": [
    "n = 5\n",
    "while n > 0:\n",
    "    n -= 1\n",
    "    print(n)\n",
    "    \n",
    "    if n == 2:\n",
    "        break"
   ]
  },
  {
   "cell_type": "markdown",
   "id": "64daf7ab",
   "metadata": {},
   "source": [
    "### continue"
   ]
  },
  {
   "cell_type": "code",
   "execution_count": 79,
   "id": "36c5dc4a",
   "metadata": {},
   "outputs": [
    {
     "name": "stdout",
     "output_type": "stream",
     "text": [
      "4\n",
      "3\n",
      "1\n",
      "0\n",
      "while loop selesai\n"
     ]
    }
   ],
   "source": [
    "n = 5\n",
    "while n > 0:\n",
    "    n -= 1\n",
    "    \n",
    "    if n == 2:\n",
    "        continue\n",
    "    print(n)\n",
    "\n",
    "print('while loop selesai')"
   ]
  },
  {
   "cell_type": "markdown",
   "id": "0381fe03",
   "metadata": {},
   "source": [
    "### else clause"
   ]
  },
  {
   "cell_type": "code",
   "execution_count": 81,
   "id": "b17414fd",
   "metadata": {},
   "outputs": [
    {
     "name": "stdout",
     "output_type": "stream",
     "text": [
      "4\n",
      "3\n",
      "1\n",
      "0\n",
      "while loop selesai\n",
      "ini print di luar loop\n"
     ]
    }
   ],
   "source": [
    "n = 5\n",
    "while n > 0:\n",
    "    n -= 1\n",
    "    \n",
    "    if n == 2:\n",
    "        continue\n",
    "    print(n)\n",
    "else:\n",
    "    print('while loop selesai')\n",
    "\n",
    "print('ini print di luar loop')"
   ]
  },
  {
   "cell_type": "markdown",
   "id": "332c3743",
   "metadata": {},
   "source": [
    "### nested"
   ]
  },
  {
   "cell_type": "code",
   "execution_count": 82,
   "id": "8b63269f",
   "metadata": {},
   "outputs": [
    {
     "name": "stdout",
     "output_type": "stream",
     "text": [
      "foo\n",
      "> baz\n",
      "> qux\n",
      "bar\n",
      "> baz\n",
      "> qux\n"
     ]
    }
   ],
   "source": [
    "a = ['foo', 'bar']\n",
    "\n",
    "while len(a):\n",
    "    print(a.pop(0))\n",
    "    \n",
    "    b = ['baz', 'qux']\n",
    "    \n",
    "    while len(b):\n",
    "        print('>', b.pop(0))"
   ]
  },
  {
   "cell_type": "markdown",
   "id": "5709c843",
   "metadata": {},
   "source": [
    "### for loop"
   ]
  },
  {
   "cell_type": "markdown",
   "id": "cc8ff7ad",
   "metadata": {},
   "source": [
    "### three expression loop"
   ]
  },
  {
   "cell_type": "markdown",
   "id": "36e0944c",
   "metadata": {},
   "source": [
    "### collection based"
   ]
  },
  {
   "cell_type": "code",
   "execution_count": 95,
   "id": "d40b68dc",
   "metadata": {},
   "outputs": [
    {
     "name": "stdout",
     "output_type": "stream",
     "text": [
      "1\n",
      "2\n",
      "3\n"
     ]
    },
    {
     "data": {
      "text/plain": [
       "dict_items([('foo', 1), ('bar', 2), ('buzz', 3)])"
      ]
     },
     "execution_count": 95,
     "metadata": {},
     "output_type": "execute_result"
    }
   ],
   "source": [
    "a = {'foo':1, 'bar':2, 'buzz':3}\n",
    "for i in a.values():\n",
    "    print(i)\n",
    "a.items()"
   ]
  },
  {
   "cell_type": "code",
   "execution_count": 86,
   "id": "0fae4db1",
   "metadata": {},
   "outputs": [],
   "source": []
  },
  {
   "cell_type": "markdown",
   "id": "7a2e71cc",
   "metadata": {},
   "source": [
    "## range function"
   ]
  },
  {
   "cell_type": "code",
   "execution_count": 97,
   "id": "8b95d2f9",
   "metadata": {},
   "outputs": [
    {
     "name": "stdout",
     "output_type": "stream",
     "text": [
      "0\n",
      "1\n",
      "2\n",
      "3\n",
      "4\n",
      "<class 'range'>\n"
     ]
    }
   ],
   "source": [
    "x = range(5)\n",
    "for n in x:\n",
    "    print(n)\n",
    "print(type(range(5)))"
   ]
  },
  {
   "cell_type": "code",
   "execution_count": 96,
   "id": "3120a431",
   "metadata": {},
   "outputs": [
    {
     "name": "stdout",
     "output_type": "stream",
     "text": [
      "0\n",
      "1\n",
      "2\n",
      "3\n",
      "4\n"
     ]
    }
   ],
   "source": [
    "# start:stop:step\n",
    "for i in range(0,5,1):\n",
    "    print(i)"
   ]
  },
  {
   "cell_type": "code",
   "execution_count": 99,
   "id": "fb3d47df",
   "metadata": {},
   "outputs": [
    {
     "name": "stdout",
     "output_type": "stream",
     "text": [
      "1\n",
      "3\n",
      "5\n",
      "7\n",
      "9\n",
      "11\n",
      "13\n",
      "15\n",
      "17\n",
      "19\n"
     ]
    }
   ],
   "source": [
    "for i in range(1,20,2):\n",
    "    print(i)"
   ]
  },
  {
   "cell_type": "code",
   "execution_count": 104,
   "id": "fefdd633",
   "metadata": {},
   "outputs": [
    {
     "name": "stdout",
     "output_type": "stream",
     "text": [
      "20\n",
      "19\n",
      "18\n",
      "17\n",
      "16\n",
      "15\n",
      "14\n",
      "13\n",
      "12\n",
      "11\n",
      "10\n",
      "9\n",
      "8\n",
      "7\n",
      "6\n",
      "5\n",
      "4\n",
      "3\n",
      "2\n"
     ]
    }
   ],
   "source": [
    "#start lebih besar dari stop\n",
    "for i in range(20,1,-1):\n",
    "    print(i)"
   ]
  },
  {
   "cell_type": "code",
   "execution_count": 105,
   "id": "4ed27cdf",
   "metadata": {},
   "outputs": [
    {
     "name": "stdout",
     "output_type": "stream",
     "text": [
      "20\n",
      "19\n",
      "18\n",
      "17\n",
      "16\n",
      "15\n",
      "14\n",
      "13\n",
      "12\n",
      "11\n",
      "10\n",
      "9\n",
      "8\n",
      "7\n",
      "6\n",
      "5\n",
      "4\n",
      "3\n",
      "2\n",
      "mantap\n"
     ]
    }
   ],
   "source": [
    "for i in range(20,1,-1):\n",
    "    print(i)\n",
    "else: print('mantap')"
   ]
  },
  {
   "cell_type": "code",
   "execution_count": 106,
   "id": "d1f60475",
   "metadata": {},
   "outputs": [
    {
     "name": "stdout",
     "output_type": "stream",
     "text": [
      "20\n",
      "19\n",
      "18\n",
      "17\n",
      "16\n"
     ]
    }
   ],
   "source": [
    "for i in range(20,1,-1):\n",
    "    if i == 15:\n",
    "        break\n",
    "    print(i)\n",
    "else: print('mantap')"
   ]
  },
  {
   "cell_type": "code",
   "execution_count": 2,
   "id": "32f191ca",
   "metadata": {},
   "outputs": [
    {
     "name": "stdout",
     "output_type": "stream",
     "text": [
      "4\n",
      "3\n"
     ]
    }
   ],
   "source": [
    "a = 5\n",
    "while a > 0:\n",
    "    a -= 1\n",
    "    if a == 2:\n",
    "        break\n",
    "    print(a)\n",
    "else:\n",
    "    print('selesai')"
   ]
  },
  {
   "cell_type": "code",
   "execution_count": 1,
   "id": "2a06607f",
   "metadata": {},
   "outputs": [
    {
     "name": "stdout",
     "output_type": "stream",
     "text": [
      "berapa umur kamu?12\n",
      "14\n",
      "tipe data umur adalah <class 'str'>\n",
      "tipe data umur_int adalah <class 'int'>\n"
     ]
    }
   ],
   "source": [
    "umur = input('berapa umur kamu?')\n",
    "umur_int = int(umur)\n",
    "print(umur_int + 2)\n",
    "\n",
    "print('tipe data umur adalah', type(umur))\n",
    "print('tipe data umur_int adalah', type(umur_int))"
   ]
  },
  {
   "cell_type": "code",
   "execution_count": 7,
   "id": "b92f7513",
   "metadata": {},
   "outputs": [
    {
     "name": "stdout",
     "output_type": "stream",
     "text": [
      "Ketikan temperatur yang ingin dikonversi, eg. 45F, 120C: 100\n",
      "Masukan input yang benar\n"
     ]
    },
    {
     "ename": "NameError",
     "evalue": "name 'result' is not defined",
     "output_type": "error",
     "traceback": [
      "\u001b[1;31m---------------------------------------------------------------------------\u001b[0m",
      "\u001b[1;31mNameError\u001b[0m                                 Traceback (most recent call last)",
      "Cell \u001b[1;32mIn[7], line 12\u001b[0m\n\u001b[0;32m      9\u001b[0m \u001b[38;5;28;01melse\u001b[39;00m: \n\u001b[0;32m     10\u001b[0m     \u001b[38;5;28mprint\u001b[39m(\u001b[38;5;124m\"\u001b[39m\u001b[38;5;124mMasukan input yang benar\u001b[39m\u001b[38;5;124m\"\u001b[39m)\n\u001b[1;32m---> 12\u001b[0m \u001b[38;5;28mprint\u001b[39m(\u001b[38;5;124m\"\u001b[39m\u001b[38;5;124mTemperaturnya adalah\u001b[39m\u001b[38;5;124m\"\u001b[39m, result, \u001b[38;5;124m\"\u001b[39m\u001b[38;5;124mderajat\u001b[39m\u001b[38;5;124m\"\u001b[39m)\n",
      "\u001b[1;31mNameError\u001b[0m: name 'result' is not defined"
     ]
    }
   ],
   "source": [
    "temp = input(\"Ketikan temperatur yang ingin dikonversi, eg. 45F, 120C: \") \n",
    "degree = int(temp[:-1])\n",
    "i_convertion = temp[-1]\n",
    "\n",
    "if i_convertion == \"C\":\n",
    "    result = int(round ((9* degree) / 5 + 32))\n",
    "elif i_convertion == \"F\": \n",
    "    result = int(round ((degree - 32) * 5 / 9))\n",
    "else: \n",
    "    print(\"Masukan input yang benar\")\n",
    "    \n",
    "print(\"Temperaturnya adalah\", result, \"derajat\")"
   ]
  },
  {
   "cell_type": "code",
   "execution_count": 9,
   "id": "6f35338f",
   "metadata": {},
   "outputs": [
    {
     "name": "stdout",
     "output_type": "stream",
     "text": [
      "masukan password kamu:dini\n",
      "password yang kamu masukan salah\n",
      "masukan password kamu:hacktiv8\n"
     ]
    }
   ],
   "source": [
    "while True:\n",
    "    password = input('masukan password kamu:')\n",
    "    \n",
    "    if password == 'hacktiv8':\n",
    "        break\n",
    "    else: \n",
    "        print('password yang kamu masukan salah')\n"
   ]
  },
  {
   "cell_type": "code",
   "execution_count": null,
   "id": "66b7532f",
   "metadata": {},
   "outputs": [],
   "source": []
  },
  {
   "cell_type": "code",
   "execution_count": null,
   "id": "d35adc51",
   "metadata": {},
   "outputs": [],
   "source": []
  }
 ],
 "metadata": {
  "kernelspec": {
   "display_name": "Python 3 (ipykernel)",
   "language": "python",
   "name": "python3"
  },
  "language_info": {
   "codemirror_mode": {
    "name": "ipython",
    "version": 3
   },
   "file_extension": ".py",
   "mimetype": "text/x-python",
   "name": "python",
   "nbconvert_exporter": "python",
   "pygments_lexer": "ipython3",
   "version": "3.11.4"
  }
 },
 "nbformat": 4,
 "nbformat_minor": 5
}
