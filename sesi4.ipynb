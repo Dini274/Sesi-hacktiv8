{
 "cells": [
  {
   "cell_type": "markdown",
   "id": "bd80122f",
   "metadata": {},
   "source": [
    "# NumPy"
   ]
  },
  {
   "cell_type": "code",
   "execution_count": 1,
   "id": "91469b62",
   "metadata": {},
   "outputs": [],
   "source": [
    "import numpy as np"
   ]
  },
  {
   "cell_type": "code",
   "execution_count": 4,
   "id": "255fdd9d",
   "metadata": {},
   "outputs": [
    {
     "data": {
      "text/plain": [
       "list"
      ]
     },
     "execution_count": 4,
     "metadata": {},
     "output_type": "execute_result"
    }
   ],
   "source": [
    "#array adalah struktur data central numpy\n",
    "l = [[1,2,3],[2,5,6],[7,8,9]]\n",
    "type(l)"
   ]
  },
  {
   "cell_type": "code",
   "execution_count": 6,
   "id": "b7ec351a",
   "metadata": {},
   "outputs": [
    {
     "data": {
      "text/plain": [
       "numpy.ndarray"
      ]
     },
     "execution_count": 6,
     "metadata": {},
     "output_type": "execute_result"
    }
   ],
   "source": [
    "a = np.array([[1,2,3],[2,5,6],[7,8,9]])\n",
    "type(a)"
   ]
  },
  {
   "cell_type": "code",
   "execution_count": 10,
   "id": "d41e6a8b",
   "metadata": {},
   "outputs": [
    {
     "data": {
      "text/plain": [
       "array([1, 2, 3])"
      ]
     },
     "metadata": {},
     "output_type": "display_data"
    },
    {
     "name": "stdout",
     "output_type": "stream",
     "text": [
      "[1 2 3]\n"
     ]
    },
    {
     "data": {
      "text/plain": [
       "[1, 2, 3]"
      ]
     },
     "execution_count": 10,
     "metadata": {},
     "output_type": "execute_result"
    }
   ],
   "source": [
    "a = np.array([[1,2,3],[2,5,6],[7,8,9]])\n",
    "b = [[1,2,3],[2,5,6],[7,8,9]]\n",
    "display(a[0])\n",
    "print(a[0])\n",
    "b[0]"
   ]
  },
  {
   "cell_type": "code",
   "execution_count": 11,
   "id": "7dd62ce0",
   "metadata": {},
   "outputs": [
    {
     "data": {
      "text/plain": [
       "numpy.ndarray"
      ]
     },
     "metadata": {},
     "output_type": "display_data"
    }
   ],
   "source": [
    "display(type(a[0]))"
   ]
  },
  {
   "cell_type": "code",
   "execution_count": 12,
   "id": "8ff45f80",
   "metadata": {},
   "outputs": [
    {
     "ename": "SyntaxError",
     "evalue": "invalid syntax. Perhaps you forgot a comma? (3773061721.py, line 1)",
     "output_type": "error",
     "traceback": [
      "\u001b[1;36m  Cell \u001b[1;32mIn[12], line 1\u001b[1;36m\u001b[0m\n\u001b[1;33m    print([1 2 3])\u001b[0m\n\u001b[1;37m           ^\u001b[0m\n\u001b[1;31mSyntaxError\u001b[0m\u001b[1;31m:\u001b[0m invalid syntax. Perhaps you forgot a comma?\n"
     ]
    }
   ],
   "source": [
    "print([1 2 3])"
   ]
  },
  {
   "cell_type": "code",
   "execution_count": 13,
   "id": "65496025",
   "metadata": {},
   "outputs": [
    {
     "name": "stdout",
     "output_type": "stream",
     "text": [
      "[123]\n"
     ]
    }
   ],
   "source": [
    "print([123])"
   ]
  },
  {
   "cell_type": "code",
   "execution_count": 14,
   "id": "62b8423d",
   "metadata": {},
   "outputs": [
    {
     "data": {
      "text/plain": [
       "array([1, 2, 3])"
      ]
     },
     "execution_count": 14,
     "metadata": {},
     "output_type": "execute_result"
    }
   ],
   "source": [
    "a = np.array([1,2,3])\n",
    "a"
   ]
  },
  {
   "cell_type": "code",
   "execution_count": 27,
   "id": "6e4b12e5",
   "metadata": {},
   "outputs": [],
   "source": [
    "#np.zeros(6)"
   ]
  },
  {
   "cell_type": "code",
   "execution_count": 25,
   "id": "01ebb1df",
   "metadata": {},
   "outputs": [],
   "source": [
    "#np.ones(6)"
   ]
  },
  {
   "cell_type": "code",
   "execution_count": 30,
   "id": "947861c8",
   "metadata": {},
   "outputs": [
    {
     "data": {
      "text/plain": [
       "array([0, 1, 2, 3])"
      ]
     },
     "execution_count": 30,
     "metadata": {},
     "output_type": "execute_result"
    }
   ],
   "source": [
    "#np.empty(6, order='F')\n",
    "np.arange(4)"
   ]
  },
  {
   "cell_type": "code",
   "execution_count": 32,
   "id": "d72ba1ac",
   "metadata": {},
   "outputs": [
    {
     "data": {
      "text/plain": [
       "array([ 5,  7,  9, 11, 13, 15, 17, 19])"
      ]
     },
     "execution_count": 32,
     "metadata": {},
     "output_type": "execute_result"
    }
   ],
   "source": [
    "np.arange(5,20,2) \n",
    "#start stop step"
   ]
  },
  {
   "cell_type": "code",
   "execution_count": 36,
   "id": "2a919ac2",
   "metadata": {},
   "outputs": [
    {
     "data": {
      "text/plain": [
       "array([5, 7, 9])"
      ]
     },
     "execution_count": 36,
     "metadata": {},
     "output_type": "execute_result"
    }
   ],
   "source": [
    "cth = np.arange(5,10,2)\n",
    "cth"
   ]
  },
  {
   "cell_type": "code",
   "execution_count": 41,
   "id": "c15af064",
   "metadata": {},
   "outputs": [
    {
     "data": {
      "text/plain": [
       "array([5, 7, 9])"
      ]
     },
     "execution_count": 41,
     "metadata": {},
     "output_type": "execute_result"
    }
   ],
   "source": [
    "np.append(cth, [1,2,3]) #minimal 2 array pd append\n",
    "\n",
    "#deleting element of array by index\n",
    "np.delete(cth, 1) \n",
    "\n",
    "#cth = np.append(cth, [1,2,10])\n",
    "np.sort(cth)"
   ]
  },
  {
   "cell_type": "code",
   "execution_count": 40,
   "id": "375ef5c6",
   "metadata": {},
   "outputs": [
    {
     "data": {
      "text/plain": [
       "array([5, 7, 9])"
      ]
     },
     "execution_count": 40,
     "metadata": {},
     "output_type": "execute_result"
    }
   ],
   "source": [
    "ndarray.ndim()\n",
    "\n",
    "ndarray.size()\n",
    "\n",
    "ndarray.shape()"
   ]
  },
  {
   "cell_type": "code",
   "execution_count": 42,
   "id": "9c39c5a7",
   "metadata": {},
   "outputs": [
    {
     "name": "stdout",
     "output_type": "stream",
     "text": [
      "[[[0 1 2 3]\n",
      "  [4 5 6 7]]\n",
      "\n",
      " [[0 1 2 3]\n",
      "  [4 5 6 7]]\n",
      "\n",
      " [[0 1 2 3]\n",
      "  [4 5 6 7]]]\n"
     ]
    }
   ],
   "source": [
    "array_example = np.array([\n",
    "    [ \n",
    "        [0,1,2,3],\n",
    "        [4,5,6,7]],\n",
    "     [ \n",
    "        [0,1,2,3],\n",
    "        [4,5,6,7]],\n",
    "    [ \n",
    "        [0,1,2,3],\n",
    "        [4,5,6,7]]\n",
    "])\n",
    "print (array_example)"
   ]
  },
  {
   "cell_type": "code",
   "execution_count": 44,
   "id": "eda4337a",
   "metadata": {},
   "outputs": [
    {
     "name": "stdout",
     "output_type": "stream",
     "text": [
      "3\n",
      "24\n",
      "(3, 2, 4)\n"
     ]
    }
   ],
   "source": [
    "#show array dimension\n",
    "print(array_example.ndim)\n",
    "\n",
    "#show array total element\n",
    "print(array_example.size)\n",
    "\n",
    "#show array total element\n",
    "print(array_example.shape)"
   ]
  },
  {
   "cell_type": "code",
   "execution_count": 46,
   "id": "c43196b0",
   "metadata": {},
   "outputs": [
    {
     "data": {
      "text/plain": [
       "(2, 2, 4)"
      ]
     },
     "execution_count": 46,
     "metadata": {},
     "output_type": "execute_result"
    }
   ],
   "source": [
    "array_example2 = np.array([\n",
    "    [ \n",
    "        [0,1,2,3],\n",
    "        [4,5,6,7]],\n",
    "     [ \n",
    "        [0,1,2,3],\n",
    "        [4,5,6,7]]\n",
    "])\n",
    "array_example2.shape"
   ]
  },
  {
   "cell_type": "code",
   "execution_count": 50,
   "id": "1393dd00",
   "metadata": {},
   "outputs": [
    {
     "data": {
      "text/plain": [
       "8"
      ]
     },
     "execution_count": 50,
     "metadata": {},
     "output_type": "execute_result"
    }
   ],
   "source": [
    "array_example3 = np.array([\n",
    "    [ \n",
    "        [0,1,2,3],\n",
    "        [4,5,6,7]],\n",
    "])\n",
    "array_example3.shape\n",
    "array_example3.ndim\n",
    "array_example3.size"
   ]
  },
  {
   "cell_type": "code",
   "execution_count": 63,
   "id": "83de3577",
   "metadata": {},
   "outputs": [
    {
     "data": {
      "text/plain": [
       "array([0, 1, 2, 3, 4, 5])"
      ]
     },
     "execution_count": 63,
     "metadata": {},
     "output_type": "execute_result"
    }
   ],
   "source": [
    "a = np.arange(6)\n",
    "a"
   ]
  },
  {
   "cell_type": "code",
   "execution_count": 64,
   "id": "603aa992",
   "metadata": {},
   "outputs": [
    {
     "data": {
      "text/plain": [
       "array([[0, 1],\n",
       "       [2, 3],\n",
       "       [4, 5]])"
      ]
     },
     "execution_count": 64,
     "metadata": {},
     "output_type": "execute_result"
    }
   ],
   "source": [
    "b = a.reshape(3,2)\n",
    "b"
   ]
  },
  {
   "cell_type": "code",
   "execution_count": 56,
   "id": "2c4eb056",
   "metadata": {},
   "outputs": [
    {
     "data": {
      "text/plain": [
       "2"
      ]
     },
     "execution_count": 56,
     "metadata": {},
     "output_type": "execute_result"
    }
   ],
   "source": [
    "b.ndim"
   ]
  },
  {
   "cell_type": "code",
   "execution_count": 60,
   "id": "9684bfe2",
   "metadata": {},
   "outputs": [
    {
     "data": {
      "text/plain": [
       "1"
      ]
     },
     "execution_count": 60,
     "metadata": {},
     "output_type": "execute_result"
    }
   ],
   "source": [
    "# ndim adalah number of dimension\n",
    "a.ndim "
   ]
  },
  {
   "cell_type": "markdown",
   "id": "2c8f2182",
   "metadata": {},
   "source": [
    "## convert 1d to 2d"
   ]
  },
  {
   "cell_type": "code",
   "execution_count": 66,
   "id": "392c0a85",
   "metadata": {},
   "outputs": [
    {
     "data": {
      "text/plain": [
       "array([ 0,  1,  2,  3,  4,  5,  6,  7,  8,  9, 10, 11, 12, 13, 14, 15])"
      ]
     },
     "execution_count": 66,
     "metadata": {},
     "output_type": "execute_result"
    }
   ],
   "source": [
    "a = np.arange(16)\n",
    "a"
   ]
  },
  {
   "cell_type": "code",
   "execution_count": 72,
   "id": "96f7ee6e",
   "metadata": {},
   "outputs": [
    {
     "data": {
      "text/plain": [
       "array([ 0,  1,  2,  3,  4,  5,  6,  7,  8,  9, 10, 11, 12, 13, 14, 15])"
      ]
     },
     "metadata": {},
     "output_type": "display_data"
    },
    {
     "data": {
      "text/plain": [
       "array([[ 0,  1,  2,  3,  4,  5,  6,  7,  8,  9, 10, 11, 12, 13, 14, 15]])"
      ]
     },
     "metadata": {},
     "output_type": "display_data"
    },
    {
     "data": {
      "text/plain": [
       "array([[[ 0,  1,  2,  3,  4,  5,  6,  7,  8,  9, 10, 11, 12, 13, 14, 15]]])"
      ]
     },
     "metadata": {},
     "output_type": "display_data"
    }
   ],
   "source": [
    "display(a)\n",
    "a2 = a[np.newaxis]\n",
    "display(a2)\n",
    "a3 = a2[np.newaxis]\n",
    "display(a3)"
   ]
  },
  {
   "cell_type": "code",
   "execution_count": 75,
   "id": "cebfac5e",
   "metadata": {},
   "outputs": [
    {
     "data": {
      "text/plain": [
       "array([[ 0],\n",
       "       [ 1],\n",
       "       [ 2],\n",
       "       [ 3],\n",
       "       [ 4],\n",
       "       [ 5],\n",
       "       [ 6],\n",
       "       [ 7],\n",
       "       [ 8],\n",
       "       [ 9],\n",
       "       [10],\n",
       "       [11],\n",
       "       [12],\n",
       "       [13],\n",
       "       [14],\n",
       "       [15]])"
      ]
     },
     "execution_count": 75,
     "metadata": {},
     "output_type": "execute_result"
    }
   ],
   "source": [
    "row_vector = a[:, np.newaxis]\n",
    "row_vector"
   ]
  },
  {
   "cell_type": "code",
   "execution_count": 77,
   "id": "05fbc50f",
   "metadata": {},
   "outputs": [
    {
     "data": {
      "text/plain": [
       "array([[ 0,  1,  2,  3,  4,  5,  6,  7,  8,  9, 10, 11, 12, 13, 14, 15]])"
      ]
     },
     "execution_count": 77,
     "metadata": {},
     "output_type": "execute_result"
    }
   ],
   "source": [
    "row_vector = a[np.newaxis, :]\n",
    "row_vector"
   ]
  },
  {
   "cell_type": "code",
   "execution_count": 78,
   "id": "ed9a7666",
   "metadata": {},
   "outputs": [
    {
     "data": {
      "text/plain": [
       "array([ 0,  1,  2,  3,  4,  5,  6,  7,  8,  9, 10, 11, 12, 13, 14, 15])"
      ]
     },
     "execution_count": 78,
     "metadata": {},
     "output_type": "execute_result"
    }
   ],
   "source": [
    "a"
   ]
  },
  {
   "cell_type": "code",
   "execution_count": 81,
   "id": "21406b7e",
   "metadata": {},
   "outputs": [
    {
     "data": {
      "text/plain": [
       "array([0, 1, 2, 3, 4])"
      ]
     },
     "metadata": {},
     "output_type": "display_data"
    },
    {
     "data": {
      "text/plain": [
       "(5,)"
      ]
     },
     "metadata": {},
     "output_type": "display_data"
    },
    {
     "data": {
      "text/plain": [
       "array([[0],\n",
       "       [1],\n",
       "       [2],\n",
       "       [3],\n",
       "       [4]])"
      ]
     },
     "metadata": {},
     "output_type": "display_data"
    },
    {
     "data": {
      "text/plain": [
       "(5, 1)"
      ]
     },
     "metadata": {},
     "output_type": "display_data"
    }
   ],
   "source": [
    "a = np.arange(5)\n",
    "display (a)\n",
    "display (a.shape)\n",
    "b = np.expand_dims(a, axis=1)\n",
    "display(b)\n",
    "display(b.shape)"
   ]
  },
  {
   "cell_type": "code",
   "execution_count": 83,
   "id": "4fdcf6aa",
   "metadata": {},
   "outputs": [
    {
     "data": {
      "text/plain": [
       "array([[0, 1, 2, 3, 4]])"
      ]
     },
     "metadata": {},
     "output_type": "display_data"
    },
    {
     "data": {
      "text/plain": [
       "(1, 5)"
      ]
     },
     "metadata": {},
     "output_type": "display_data"
    }
   ],
   "source": [
    "b = np.expand_dims(a, axis=0)\n",
    "display(b)\n",
    "display(b.shape)"
   ]
  },
  {
   "cell_type": "code",
   "execution_count": 85,
   "id": "84e2d9cb",
   "metadata": {},
   "outputs": [
    {
     "name": "stdout",
     "output_type": "stream",
     "text": [
      "[0 1 2 3 4]\n",
      "2\n",
      "[0 1 2]\n",
      "[4 3 2 1 0]\n",
      "[3 4]\n"
     ]
    }
   ],
   "source": [
    "print(a)\n",
    "print(a[2])\n",
    "print(a[:3])\n",
    "print(a[::-1])\n",
    "print(a[-2:])"
   ]
  },
  {
   "cell_type": "code",
   "execution_count": 89,
   "id": "cf685d55",
   "metadata": {},
   "outputs": [
    {
     "name": "stdout",
     "output_type": "stream",
     "text": [
      "[[[0 1 2 3]\n",
      "  [4 5 6 7]]]\n"
     ]
    }
   ],
   "source": [
    "array_example = np.array([\n",
    "    [ \n",
    "        [0,1,2,3],\n",
    "        [4,5,6,7]]\n",
    "])\n",
    "print (array_example)"
   ]
  },
  {
   "cell_type": "code",
   "execution_count": 90,
   "id": "58cc7ba6",
   "metadata": {},
   "outputs": [
    {
     "data": {
      "text/plain": [
       "array([5, 6, 7])"
      ]
     },
     "execution_count": 90,
     "metadata": {},
     "output_type": "execute_result"
    }
   ],
   "source": [
    "array_example[array_example >= 5]"
   ]
  },
  {
   "cell_type": "code",
   "execution_count": 92,
   "id": "d518c75a",
   "metadata": {},
   "outputs": [
    {
     "data": {
      "text/plain": [
       "array([5, 6, 7])"
      ]
     },
     "execution_count": 92,
     "metadata": {},
     "output_type": "execute_result"
    }
   ],
   "source": [
    "five_up = (array_example >= 5)\n",
    "array_example[five_up]"
   ]
  },
  {
   "cell_type": "code",
   "execution_count": 93,
   "id": "6f2fe655",
   "metadata": {},
   "outputs": [
    {
     "data": {
      "text/plain": [
       "array([0, 2, 4, 6])"
      ]
     },
     "execution_count": 93,
     "metadata": {},
     "output_type": "execute_result"
    }
   ],
   "source": [
    "array_example[array_example%2 == 0]"
   ]
  },
  {
   "cell_type": "code",
   "execution_count": 95,
   "id": "9036d198",
   "metadata": {},
   "outputs": [
    {
     "data": {
      "text/plain": [
       "array([[[0, 2, 4, 6],\n",
       "        [1, 3, 5, 7]]], dtype=int32)"
      ]
     },
     "execution_count": 95,
     "metadata": {},
     "output_type": "execute_result"
    }
   ],
   "source": [
    "array_example[array_example%2 == 0] & (array_example > 3)\n",
    "array_example[array_example%2 == 0] | (array_example > 3) "
   ]
  },
  {
   "cell_type": "markdown",
   "id": "c25e7b07",
   "metadata": {},
   "source": [
    "## Creating array from existing data"
   ]
  },
  {
   "cell_type": "code",
   "execution_count": 98,
   "id": "dd482ba6",
   "metadata": {},
   "outputs": [
    {
     "data": {
      "text/plain": [
       "array([ 1,  2,  3,  4,  5,  6,  7,  8,  9, 10])"
      ]
     },
     "execution_count": 98,
     "metadata": {},
     "output_type": "execute_result"
    }
   ],
   "source": [
    "a = np.arange(1,11)\n",
    "b = a[3:8]\n",
    "a"
   ]
  },
  {
   "cell_type": "code",
   "execution_count": 99,
   "id": "cbf0a73e",
   "metadata": {},
   "outputs": [
    {
     "data": {
      "text/plain": [
       "array([4, 5, 6, 7, 8])"
      ]
     },
     "execution_count": 99,
     "metadata": {},
     "output_type": "execute_result"
    }
   ],
   "source": [
    "b"
   ]
  },
  {
   "cell_type": "code",
   "execution_count": 103,
   "id": "6bb5fac9",
   "metadata": {},
   "outputs": [
    {
     "data": {
      "text/plain": [
       "array([[2, 3],\n",
       "       [6, 7]])"
      ]
     },
     "execution_count": 103,
     "metadata": {},
     "output_type": "execute_result"
    }
   ],
   "source": [
    "a1 = np.array(\n",
    "    [ \n",
    "        [0,1,],\n",
    "        [4,5,]\n",
    "])\n",
    "\n",
    "a2 = np.array(\n",
    "    [ \n",
    "        [2,3,],\n",
    "        [6,7,]\n",
    "])\n",
    "a2"
   ]
  },
  {
   "cell_type": "code",
   "execution_count": 104,
   "id": "7b0697ab",
   "metadata": {},
   "outputs": [
    {
     "data": {
      "text/plain": [
       "array([[0, 1],\n",
       "       [4, 5],\n",
       "       [2, 3],\n",
       "       [6, 7]])"
      ]
     },
     "execution_count": 104,
     "metadata": {},
     "output_type": "execute_result"
    }
   ],
   "source": [
    "np.vstack((a1,a2))"
   ]
  },
  {
   "cell_type": "code",
   "execution_count": 105,
   "id": "8e7c2f5b",
   "metadata": {},
   "outputs": [
    {
     "data": {
      "text/plain": [
       "array([[0, 1, 2, 3],\n",
       "       [4, 5, 6, 7]])"
      ]
     },
     "execution_count": 105,
     "metadata": {},
     "output_type": "execute_result"
    }
   ],
   "source": [
    "np.hstack((a1,a2))"
   ]
  },
  {
   "cell_type": "code",
   "execution_count": 109,
   "id": "61ea59d1",
   "metadata": {},
   "outputs": [
    {
     "data": {
      "text/plain": [
       "array([ 1,  2,  3,  4,  5,  6,  7,  8,  9, 10])"
      ]
     },
     "metadata": {},
     "output_type": "display_data"
    },
    {
     "data": {
      "text/plain": [
       "array([[ 1,  2,  3,  4,  5,  6,  7,  8,  9, 10],\n",
       "       [ 1,  2,  3,  4,  5,  6,  7,  8,  9, 10]])"
      ]
     },
     "execution_count": 109,
     "metadata": {},
     "output_type": "execute_result"
    }
   ],
   "source": [
    "display(a)\n",
    "a2 = a[np.newaxis]\n",
    "a4 = np.vstack((a2,a2))\n",
    "a4"
   ]
  },
  {
   "cell_type": "code",
   "execution_count": 110,
   "id": "0d689559",
   "metadata": {},
   "outputs": [
    {
     "data": {
      "text/plain": [
       "[array([[1, 2, 3, 4, 5],\n",
       "        [1, 2, 3, 4, 5]]),\n",
       " array([[ 6,  7,  8,  9, 10],\n",
       "        [ 6,  7,  8,  9, 10]])]"
      ]
     },
     "execution_count": 110,
     "metadata": {},
     "output_type": "execute_result"
    }
   ],
   "source": [
    "np.hsplit(a4,2)"
   ]
  },
  {
   "cell_type": "code",
   "execution_count": 111,
   "id": "011f316d",
   "metadata": {},
   "outputs": [
    {
     "data": {
      "text/plain": [
       "array([[ 1,  2,  3,  4],\n",
       "       [ 5,  6,  7,  8],\n",
       "       [ 9, 10, 11, 12]])"
      ]
     },
     "execution_count": 111,
     "metadata": {},
     "output_type": "execute_result"
    }
   ],
   "source": [
    "a = np.array([[1,2,3,4],[5,6,7,8],[9,10,11,12]])\n",
    "a"
   ]
  },
  {
   "cell_type": "code",
   "execution_count": 113,
   "id": "e499a74a",
   "metadata": {},
   "outputs": [
    {
     "data": {
      "text/plain": [
       "array([[ 1,  2,  3,  4],\n",
       "       [ 5,  6,  7,  8],\n",
       "       [ 9, 10, 11, 12]])"
      ]
     },
     "execution_count": 113,
     "metadata": {},
     "output_type": "execute_result"
    }
   ],
   "source": [
    "b = a.view()\n",
    "b"
   ]
  },
  {
   "cell_type": "code",
   "execution_count": 114,
   "id": "98832e7d",
   "metadata": {},
   "outputs": [
    {
     "data": {
      "text/plain": [
       "array([[ 1,  2,  3,  4],\n",
       "       [ 5,  6,  7,  8],\n",
       "       [ 9, 10, 11, 12],\n",
       "       [ 1,  2,  3,  4],\n",
       "       [ 5,  6,  7,  8],\n",
       "       [ 9, 10, 11, 12]])"
      ]
     },
     "execution_count": 114,
     "metadata": {},
     "output_type": "execute_result"
    }
   ],
   "source": [
    "np.vstack((b,b))"
   ]
  },
  {
   "cell_type": "code",
   "execution_count": 115,
   "id": "310a2fb8",
   "metadata": {},
   "outputs": [
    {
     "data": {
      "text/plain": [
       "array([[ 1,  2,  3,  4],\n",
       "       [ 5,  6,  7,  8],\n",
       "       [ 9, 10, 11, 12]])"
      ]
     },
     "execution_count": 115,
     "metadata": {},
     "output_type": "execute_result"
    }
   ],
   "source": [
    "b = a.copy()\n",
    "b"
   ]
  },
  {
   "cell_type": "code",
   "execution_count": 116,
   "id": "b6008b7a",
   "metadata": {},
   "outputs": [],
   "source": [
    "## array dan copy biasanya kalo kita mau bereksperimen tanpa ngubah array aslinya"
   ]
  },
  {
   "cell_type": "markdown",
   "id": "4f3861ba",
   "metadata": {},
   "source": [
    "## basic array operation"
   ]
  },
  {
   "cell_type": "code",
   "execution_count": 121,
   "id": "f3ff221b",
   "metadata": {},
   "outputs": [
    {
     "name": "stdout",
     "output_type": "stream",
     "text": [
      "[0 1 2]\n",
      "[4 5 6]\n"
     ]
    }
   ],
   "source": [
    "a = np.arange(3)\n",
    "b = np.arange(4,7)\n",
    "print(a)\n",
    "print(b)"
   ]
  },
  {
   "cell_type": "code",
   "execution_count": 123,
   "id": "be1c2a41",
   "metadata": {},
   "outputs": [
    {
     "name": "stdout",
     "output_type": "stream",
     "text": [
      "[4 6 8]\n",
      "[-4 -4 -4]\n",
      "[ 0  5 12]\n",
      "[0.         0.2        0.33333333]\n"
     ]
    }
   ],
   "source": [
    "print(a+b)\n",
    "print(a-b)\n",
    "print(a*b)\n",
    "print(a/b)"
   ]
  },
  {
   "cell_type": "code",
   "execution_count": 126,
   "id": "5aa02d5a",
   "metadata": {},
   "outputs": [
    {
     "data": {
      "text/plain": [
       "array([[[ 0,  1,  2,  3,  4,  5,  6,  7,  8,  9, 10, 11, 12, 13, 14, 15]]])"
      ]
     },
     "execution_count": 126,
     "metadata": {},
     "output_type": "execute_result"
    }
   ],
   "source": [
    "a3"
   ]
  },
  {
   "cell_type": "code",
   "execution_count": 127,
   "id": "32eafb71",
   "metadata": {},
   "outputs": [
    {
     "data": {
      "text/plain": [
       "120"
      ]
     },
     "execution_count": 127,
     "metadata": {},
     "output_type": "execute_result"
    }
   ],
   "source": [
    "a3.sum()"
   ]
  },
  {
   "cell_type": "code",
   "execution_count": 129,
   "id": "813aefd8",
   "metadata": {},
   "outputs": [
    {
     "data": {
      "text/plain": [
       "array([[ 1,  2,  3,  4],\n",
       "       [ 5,  6,  7,  8],\n",
       "       [ 9, 10, 11, 12]])"
      ]
     },
     "execution_count": 129,
     "metadata": {},
     "output_type": "execute_result"
    }
   ],
   "source": [
    "c = np.array([[1,2,3,4],[5,6,7,8],[9,10,11,12]])\n",
    "c"
   ]
  },
  {
   "cell_type": "code",
   "execution_count": 130,
   "id": "ab563558",
   "metadata": {},
   "outputs": [
    {
     "data": {
      "text/plain": [
       "array([15, 18, 21, 24])"
      ]
     },
     "execution_count": 130,
     "metadata": {},
     "output_type": "execute_result"
    }
   ],
   "source": [
    "c.sum(axis = 0)"
   ]
  },
  {
   "cell_type": "code",
   "execution_count": 131,
   "id": "99a3b4a2",
   "metadata": {},
   "outputs": [
    {
     "name": "stdout",
     "output_type": "stream",
     "text": [
      "[15 18 21 24]\n",
      "[10 26 42]\n"
     ]
    }
   ],
   "source": [
    "# axis 0 adalah kolom, axis 1 adalah baris\n",
    "print(c.sum(axis = 0))\n",
    "print(c.sum(axis = 1))"
   ]
  },
  {
   "cell_type": "markdown",
   "id": "072e6a18",
   "metadata": {},
   "source": [
    "## Broadcasting"
   ]
  },
  {
   "cell_type": "code",
   "execution_count": 132,
   "id": "be006e07",
   "metadata": {},
   "outputs": [
    {
     "data": {
      "text/plain": [
       "array([0, 1, 2])"
      ]
     },
     "execution_count": 132,
     "metadata": {},
     "output_type": "execute_result"
    }
   ],
   "source": [
    "a"
   ]
  },
  {
   "cell_type": "code",
   "execution_count": 134,
   "id": "277238c4",
   "metadata": {},
   "outputs": [
    {
     "name": "stdout",
     "output_type": "stream",
     "text": [
      "[0 1 2]\n"
     ]
    },
    {
     "data": {
      "text/plain": [
       "array([0. , 1.6, 3.2])"
      ]
     },
     "execution_count": 134,
     "metadata": {},
     "output_type": "execute_result"
    }
   ],
   "source": [
    "print(a)\n",
    "a * 1.6"
   ]
  },
  {
   "cell_type": "code",
   "execution_count": 135,
   "id": "3c63eb24",
   "metadata": {},
   "outputs": [
    {
     "ename": "UFuncTypeError",
     "evalue": "ufunc 'multiply' did not contain a loop with signature matching types (dtype('<U11'), dtype('int32')) -> None",
     "output_type": "error",
     "traceback": [
      "\u001b[1;31m---------------------------------------------------------------------------\u001b[0m",
      "\u001b[1;31mUFuncTypeError\u001b[0m                            Traceback (most recent call last)",
      "Cell \u001b[1;32mIn[135], line 2\u001b[0m\n\u001b[0;32m      1\u001b[0m z \u001b[38;5;241m=\u001b[39m np\u001b[38;5;241m.\u001b[39marray([\u001b[38;5;241m1\u001b[39m,\u001b[38;5;241m2\u001b[39m,\u001b[38;5;124m'\u001b[39m\u001b[38;5;124mz\u001b[39m\u001b[38;5;124m'\u001b[39m])\n\u001b[1;32m----> 2\u001b[0m z \u001b[38;5;241m*\u001b[39m \u001b[38;5;241m15\u001b[39m\n",
      "\u001b[1;31mUFuncTypeError\u001b[0m: ufunc 'multiply' did not contain a loop with signature matching types (dtype('<U11'), dtype('int32')) -> None"
     ]
    }
   ],
   "source": [
    "#karena beda tipe\n",
    "z = np.array([1,2,'z'])\n",
    "z * 15"
   ]
  },
  {
   "cell_type": "code",
   "execution_count": 136,
   "id": "7f737121",
   "metadata": {},
   "outputs": [
    {
     "data": {
      "text/plain": [
       "array([[ 1,  2,  3,  4],\n",
       "       [ 5,  6,  7,  8],\n",
       "       [ 9, 10, 11, 12]])"
      ]
     },
     "execution_count": 136,
     "metadata": {},
     "output_type": "execute_result"
    }
   ],
   "source": [
    "c"
   ]
  },
  {
   "cell_type": "code",
   "execution_count": 141,
   "id": "3277bebe",
   "metadata": {},
   "outputs": [
    {
     "name": "stdout",
     "output_type": "stream",
     "text": [
      "1\n",
      "12\n",
      "78\n",
      "3.452052529534663\n",
      "[1 5 9]\n",
      "[ 4  8 12]\n",
      "[10 26 42]\n"
     ]
    }
   ],
   "source": [
    "print(c.min())\n",
    "print(c.max())\n",
    "print(c.sum())\n",
    "print(c.std())\n",
    "print(c.min(axis = 1))\n",
    "print(c.max(axis = 1))\n",
    "print(c.sum(axis = 1))"
   ]
  },
  {
   "cell_type": "code",
   "execution_count": 139,
   "id": "ac912105",
   "metadata": {},
   "outputs": [
    {
     "name": "stdout",
     "output_type": "stream",
     "text": [
      "[1 5 9]\n"
     ]
    }
   ],
   "source": [
    "print(c.min(axis = 1))"
   ]
  },
  {
   "cell_type": "markdown",
   "id": "974f77ba",
   "metadata": {},
   "source": [
    "## Matriks"
   ]
  },
  {
   "cell_type": "code",
   "execution_count": 148,
   "id": "f7e96ac5",
   "metadata": {},
   "outputs": [
    {
     "name": "stdout",
     "output_type": "stream",
     "text": [
      "[[0. 0.]\n",
      " [0. 0.]\n",
      " [0. 0.]\n",
      " [0. 0.]\n",
      " [0. 0.]\n",
      " [0. 0.]]\n",
      "[[1. 1.]\n",
      " [1. 1.]\n",
      " [1. 1.]\n",
      " [1. 1.]\n",
      " [1. 1.]\n",
      " [1. 1.]]\n",
      "[[0.60099992 0.54378132]\n",
      " [0.34015317 0.74848305]\n",
      " [0.65182079 0.23244955]\n",
      " [0.28473125 0.59229992]\n",
      " [0.78466947 0.08258864]\n",
      " [0.35798838 0.93225036]]\n"
     ]
    }
   ],
   "source": [
    "z = np.zeros((6,2))\n",
    "o = np.ones((6,2))\n",
    "r = np.random.random((6,2))\n",
    "print(z)\n",
    "print(o)\n",
    "print(r)"
   ]
  },
  {
   "cell_type": "markdown",
   "id": "9644f016",
   "metadata": {},
   "source": [
    "### Matriks Aritmatika"
   ]
  },
  {
   "cell_type": "code",
   "execution_count": 149,
   "id": "4b162895",
   "metadata": {},
   "outputs": [
    {
     "data": {
      "text/plain": [
       "array([[1.60099992, 1.54378132],\n",
       "       [1.34015317, 1.74848305],\n",
       "       [1.65182079, 1.23244955],\n",
       "       [1.28473125, 1.59229992],\n",
       "       [1.78466947, 1.08258864],\n",
       "       [1.35798838, 1.93225036]])"
      ]
     },
     "execution_count": 149,
     "metadata": {},
     "output_type": "execute_result"
    }
   ],
   "source": [
    "r + o"
   ]
  },
  {
   "cell_type": "markdown",
   "id": "851ceba0",
   "metadata": {},
   "source": [
    "### Dot Product"
   ]
  },
  {
   "cell_type": "code",
   "execution_count": 150,
   "id": "6aaa9947",
   "metadata": {},
   "outputs": [
    {
     "data": {
      "text/plain": [
       "array([[0, 1],\n",
       "       [4, 5]])"
      ]
     },
     "execution_count": 150,
     "metadata": {},
     "output_type": "execute_result"
    }
   ],
   "source": [
    "a1"
   ]
  },
  {
   "cell_type": "code",
   "execution_count": 151,
   "id": "69873447",
   "metadata": {},
   "outputs": [
    {
     "data": {
      "text/plain": [
       "array([[ 1,  2,  3,  4,  5,  6,  7,  8,  9, 10]])"
      ]
     },
     "execution_count": 151,
     "metadata": {},
     "output_type": "execute_result"
    }
   ],
   "source": [
    "a2"
   ]
  },
  {
   "cell_type": "code",
   "execution_count": 162,
   "id": "dc709938",
   "metadata": {},
   "outputs": [
    {
     "name": "stdout",
     "output_type": "stream",
     "text": [
      "[[0 1]\n",
      " [4 5]\n",
      " [7 8]]\n",
      "[[0 1 2]\n",
      " [4 5 6]]\n"
     ]
    }
   ],
   "source": [
    "a1 = np.array([[0,1],[4,5],[7,8]])\n",
    "print(a1)\n",
    "a2 = np.array([[0,1,2],[4,5,6]])\n",
    "print(a2)"
   ]
  },
  {
   "cell_type": "code",
   "execution_count": 163,
   "id": "92176acb",
   "metadata": {},
   "outputs": [
    {
     "data": {
      "text/plain": [
       "array([[ 4,  5,  6],\n",
       "       [20, 29, 38],\n",
       "       [32, 47, 62]])"
      ]
     },
     "execution_count": 163,
     "metadata": {},
     "output_type": "execute_result"
    }
   ],
   "source": [
    "np.dot(a1,a2)"
   ]
  },
  {
   "cell_type": "markdown",
   "id": "959a81a5",
   "metadata": {},
   "source": [
    "### Matrix Indexing"
   ]
  },
  {
   "cell_type": "code",
   "execution_count": 170,
   "id": "25cbd3a6",
   "metadata": {},
   "outputs": [
    {
     "name": "stdout",
     "output_type": "stream",
     "text": [
      "[[1 2]\n",
      " [3 4]\n",
      " [5 6]]\n",
      "[1 2]\n",
      "[5 6]\n",
      "[[1 2]\n",
      " [3 4]]\n",
      "2\n",
      "2\n"
     ]
    }
   ],
   "source": [
    "a1 = np.array([[1,2],[3,4],[5,6]])\n",
    "print(a1)\n",
    "print(a1[0])\n",
    "print(a1[2])\n",
    "print(a1[0:2])\n",
    "print(a1[0,1])\n",
    "print(a1[0][1])"
   ]
  },
  {
   "cell_type": "markdown",
   "id": "a8e6dcfb",
   "metadata": {},
   "source": [
    "### Transpos & Reshaping"
   ]
  },
  {
   "cell_type": "code",
   "execution_count": 171,
   "id": "949309c8",
   "metadata": {},
   "outputs": [
    {
     "data": {
      "text/plain": [
       "array([[1, 2],\n",
       "       [3, 4],\n",
       "       [5, 6]])"
      ]
     },
     "metadata": {},
     "output_type": "display_data"
    },
    {
     "name": "stdout",
     "output_type": "stream",
     "text": [
      "(3, 2)\n",
      "[[1 3 5]\n",
      " [2 4 6]]\n",
      "(2, 3)\n"
     ]
    }
   ],
   "source": [
    "# dengan T\n",
    "display(a1)\n",
    "print(a1.shape)\n",
    "print(a1.T)\n",
    "print(a1.T.shape)"
   ]
  },
  {
   "cell_type": "code",
   "execution_count": 172,
   "id": "0ff96bf0",
   "metadata": {},
   "outputs": [],
   "source": [
    "a = np.arange(6)"
   ]
  },
  {
   "cell_type": "code",
   "execution_count": 173,
   "id": "99a3a10e",
   "metadata": {},
   "outputs": [
    {
     "data": {
      "text/plain": [
       "array([[0],\n",
       "       [1],\n",
       "       [2],\n",
       "       [3],\n",
       "       [4],\n",
       "       [5]])"
      ]
     },
     "execution_count": 173,
     "metadata": {},
     "output_type": "execute_result"
    }
   ],
   "source": [
    "a2 = a[np.newaxis]\n",
    "a2.T"
   ]
  },
  {
   "cell_type": "code",
   "execution_count": 174,
   "id": "0df7b54e",
   "metadata": {},
   "outputs": [
    {
     "data": {
      "text/plain": [
       "array([[0, 1],\n",
       "       [2, 3],\n",
       "       [4, 5]])"
      ]
     },
     "execution_count": 174,
     "metadata": {},
     "output_type": "execute_result"
    }
   ],
   "source": [
    "a2.reshape(3,2)"
   ]
  },
  {
   "cell_type": "code",
   "execution_count": 175,
   "id": "227115ea",
   "metadata": {},
   "outputs": [
    {
     "data": {
      "text/plain": [
       "array([[0, 1, 2],\n",
       "       [3, 4, 5]])"
      ]
     },
     "execution_count": 175,
     "metadata": {},
     "output_type": "execute_result"
    }
   ],
   "source": [
    "a2.reshape(2,3)"
   ]
  },
  {
   "cell_type": "code",
   "execution_count": 176,
   "id": "bed4e1c6",
   "metadata": {},
   "outputs": [
    {
     "data": {
      "text/plain": [
       "array([[0, 1],\n",
       "       [2, 3],\n",
       "       [4, 5]])"
      ]
     },
     "execution_count": 176,
     "metadata": {},
     "output_type": "execute_result"
    }
   ],
   "source": [
    "a2.reshape(3,-1)"
   ]
  },
  {
   "cell_type": "code",
   "execution_count": 177,
   "id": "6cfbb669",
   "metadata": {},
   "outputs": [
    {
     "data": {
      "text/plain": [
       "array([[0, 1, 2],\n",
       "       [3, 4, 5]])"
      ]
     },
     "execution_count": 177,
     "metadata": {},
     "output_type": "execute_result"
    }
   ],
   "source": [
    "a2.reshape(-1,3)"
   ]
  },
  {
   "cell_type": "markdown",
   "id": "7b3f17c4",
   "metadata": {},
   "source": [
    "### Flatten N-Dimensioal Array"
   ]
  },
  {
   "cell_type": "code",
   "execution_count": 178,
   "id": "ff3f7216",
   "metadata": {},
   "outputs": [
    {
     "data": {
      "text/plain": [
       "array([[0, 1, 2],\n",
       "       [3, 4, 5]])"
      ]
     },
     "execution_count": 178,
     "metadata": {},
     "output_type": "execute_result"
    }
   ],
   "source": [
    "a3 = a2.reshape(-1,3)\n",
    "a3"
   ]
  },
  {
   "cell_type": "code",
   "execution_count": 181,
   "id": "9ba3a100",
   "metadata": {},
   "outputs": [
    {
     "data": {
      "text/plain": [
       "array([0, 1, 2, 3, 4, 5])"
      ]
     },
     "execution_count": 181,
     "metadata": {},
     "output_type": "execute_result"
    }
   ],
   "source": [
    "a4 = a3.flatten()\n",
    "a4"
   ]
  },
  {
   "cell_type": "code",
   "execution_count": 183,
   "id": "72a4420e",
   "metadata": {},
   "outputs": [
    {
     "data": {
      "text/plain": [
       "array([0, 2, 3, 4, 5])"
      ]
     },
     "execution_count": 183,
     "metadata": {},
     "output_type": "execute_result"
    }
   ],
   "source": [
    "np.delete(a4,1)"
   ]
  },
  {
   "cell_type": "code",
   "execution_count": 184,
   "id": "7ae16a4d",
   "metadata": {},
   "outputs": [
    {
     "data": {
      "text/plain": [
       "array([[0, 1, 2],\n",
       "       [3, 4, 5]])"
      ]
     },
     "execution_count": 184,
     "metadata": {},
     "output_type": "execute_result"
    }
   ],
   "source": [
    "a3"
   ]
  },
  {
   "cell_type": "code",
   "execution_count": 188,
   "id": "91730e2a",
   "metadata": {},
   "outputs": [
    {
     "data": {
      "text/plain": [
       "array([0, 1, 2, 3, 4, 5])"
      ]
     },
     "execution_count": 188,
     "metadata": {},
     "output_type": "execute_result"
    }
   ],
   "source": [
    "a4 = a3.ravel()\n",
    "a4"
   ]
  },
  {
   "cell_type": "markdown",
   "id": "a81729dc",
   "metadata": {},
   "source": [
    "### working with math formulas"
   ]
  },
  {
   "cell_type": "code",
   "execution_count": null,
   "id": "4d0986ce",
   "metadata": {},
   "outputs": [],
   "source": []
  }
 ],
 "metadata": {
  "kernelspec": {
   "display_name": "Python 3 (ipykernel)",
   "language": "python",
   "name": "python3"
  },
  "language_info": {
   "codemirror_mode": {
    "name": "ipython",
    "version": 3
   },
   "file_extension": ".py",
   "mimetype": "text/x-python",
   "name": "python",
   "nbconvert_exporter": "python",
   "pygments_lexer": "ipython3",
   "version": "3.11.4"
  }
 },
 "nbformat": 4,
 "nbformat_minor": 5
}
