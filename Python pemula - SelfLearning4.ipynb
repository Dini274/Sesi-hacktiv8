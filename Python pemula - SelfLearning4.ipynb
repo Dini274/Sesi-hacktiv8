{
 "cells": [
  {
   "cell_type": "markdown",
   "id": "ec50bdab",
   "metadata": {},
   "source": [
    "# Data Structure"
   ]
  },
  {
   "cell_type": "markdown",
   "id": "f59c4e77",
   "metadata": {},
   "source": [
    "## List"
   ]
  },
  {
   "cell_type": "code",
   "execution_count": 1,
   "id": "a35bb3b1",
   "metadata": {},
   "outputs": [
    {
     "name": "stdout",
     "output_type": "stream",
     "text": [
      "[1, 2, 3]\n"
     ]
    }
   ],
   "source": [
    "my_list = [1,2,3]\n",
    "print(my_list)"
   ]
  },
  {
   "cell_type": "code",
   "execution_count": 2,
   "id": "25822350",
   "metadata": {},
   "outputs": [
    {
     "ename": "TypeError",
     "evalue": "can only concatenate list (not \"int\") to list",
     "output_type": "error",
     "traceback": [
      "\u001b[1;31m---------------------------------------------------------------------------\u001b[0m",
      "\u001b[1;31mTypeError\u001b[0m                                 Traceback (most recent call last)",
      "Cell \u001b[1;32mIn[2], line 2\u001b[0m\n\u001b[0;32m      1\u001b[0m \u001b[38;5;66;03m#list hanya bisa ditambahkan dengan list\u001b[39;00m\n\u001b[1;32m----> 2\u001b[0m my_list \u001b[38;5;241m+\u001b[39m \u001b[38;5;241m4\u001b[39m\n",
      "\u001b[1;31mTypeError\u001b[0m: can only concatenate list (not \"int\") to list"
     ]
    }
   ],
   "source": [
    "#list hanya bisa ditambahkan dengan list\n",
    "my_list + 4"
   ]
  },
  {
   "cell_type": "code",
   "execution_count": 3,
   "id": "ff4fb3a5",
   "metadata": {},
   "outputs": [
    {
     "data": {
      "text/plain": [
       "[1, 2, 3, 4, 5]"
      ]
     },
     "execution_count": 3,
     "metadata": {},
     "output_type": "execute_result"
    }
   ],
   "source": [
    "my_list + [4,5]"
   ]
  },
  {
   "cell_type": "code",
   "execution_count": 4,
   "id": "911bde8a",
   "metadata": {},
   "outputs": [
    {
     "name": "stdout",
     "output_type": "stream",
     "text": [
      "[1, 2, 3, 1, 2, 3]\n"
     ]
    }
   ],
   "source": [
    "print(my_list * 2)"
   ]
  },
  {
   "cell_type": "code",
   "execution_count": 5,
   "id": "fc496f1f",
   "metadata": {},
   "outputs": [
    {
     "name": "stdout",
     "output_type": "stream",
     "text": [
      "[1, 2, 3, 3]\n"
     ]
    }
   ],
   "source": [
    "my_list.append(3)\n",
    "print(my_list)"
   ]
  },
  {
   "cell_type": "code",
   "execution_count": 6,
   "id": "39e5a9d4",
   "metadata": {},
   "outputs": [
    {
     "name": "stdout",
     "output_type": "stream",
     "text": [
      "[1, 2, 3, 3, [4, 5]]\n"
     ]
    }
   ],
   "source": [
    "my_list.append([4,5])\n",
    "print(my_list)"
   ]
  },
  {
   "cell_type": "code",
   "execution_count": 7,
   "id": "c2cbd578",
   "metadata": {},
   "outputs": [],
   "source": [
    "my_list = [1,2,3,4]"
   ]
  },
  {
   "cell_type": "code",
   "execution_count": 8,
   "id": "bfea217c",
   "metadata": {},
   "outputs": [
    {
     "name": "stdout",
     "output_type": "stream",
     "text": [
      "[1, 2, 3, 4, [4, 5]]\n"
     ]
    }
   ],
   "source": [
    "#hanya bisa menambah 1 \n",
    "my_list.append([4,5])\n",
    "print(my_list)"
   ]
  },
  {
   "cell_type": "code",
   "execution_count": 9,
   "id": "155f5586",
   "metadata": {},
   "outputs": [
    {
     "name": "stdout",
     "output_type": "stream",
     "text": [
      "[1, 2, 3, 4, 5, 6]\n"
     ]
    }
   ],
   "source": [
    "mylist = [1,2,3]\n",
    "mylist.extend([4,5,6])\n",
    "print(mylist)"
   ]
  },
  {
   "cell_type": "code",
   "execution_count": 10,
   "id": "e87e82f4",
   "metadata": {},
   "outputs": [],
   "source": [
    "mylist.remove(4)"
   ]
  },
  {
   "cell_type": "code",
   "execution_count": 11,
   "id": "4fdd1c14",
   "metadata": {},
   "outputs": [
    {
     "name": "stdout",
     "output_type": "stream",
     "text": [
      "[1, 2, 3, 5, 6]\n"
     ]
    }
   ],
   "source": [
    "print(mylist)"
   ]
  },
  {
   "cell_type": "code",
   "execution_count": 12,
   "id": "6de4600e",
   "metadata": {},
   "outputs": [
    {
     "data": {
      "text/plain": [
       "[1, 2, 3, 4, [4, 5]]"
      ]
     },
     "execution_count": 12,
     "metadata": {},
     "output_type": "execute_result"
    }
   ],
   "source": [
    "my_list"
   ]
  },
  {
   "cell_type": "code",
   "execution_count": 13,
   "id": "b17f939e",
   "metadata": {},
   "outputs": [],
   "source": [
    "my_list.remove([4,5])"
   ]
  },
  {
   "cell_type": "code",
   "execution_count": 14,
   "id": "5e9d3c7a",
   "metadata": {},
   "outputs": [
    {
     "name": "stdout",
     "output_type": "stream",
     "text": [
      "[1, 2, 3, 4]\n"
     ]
    }
   ],
   "source": [
    "print(my_list)"
   ]
  },
  {
   "cell_type": "markdown",
   "id": "4ece8d3e",
   "metadata": {},
   "source": [
    "## Dictionary"
   ]
  },
  {
   "cell_type": "code",
   "execution_count": 15,
   "id": "2f814384",
   "metadata": {},
   "outputs": [],
   "source": [
    "student = {}\n",
    "student = {'name':'Raka', 'age':18}"
   ]
  },
  {
   "cell_type": "code",
   "execution_count": 16,
   "id": "8ed954fe",
   "metadata": {},
   "outputs": [],
   "source": [
    "employee = {'cto':{'name':'raka', 'age': 18}}"
   ]
  },
  {
   "cell_type": "code",
   "execution_count": 17,
   "id": "54748752",
   "metadata": {},
   "outputs": [],
   "source": [
    "student = dict(name='Billy', age=38)"
   ]
  },
  {
   "cell_type": "code",
   "execution_count": 18,
   "id": "5eeaa38e",
   "metadata": {},
   "outputs": [
    {
     "name": "stdout",
     "output_type": "stream",
     "text": [
      "Billy\n"
     ]
    }
   ],
   "source": [
    "print(student['name'])"
   ]
  },
  {
   "cell_type": "code",
   "execution_count": 19,
   "id": "82825482",
   "metadata": {},
   "outputs": [
    {
     "name": "stdout",
     "output_type": "stream",
     "text": [
      "38\n"
     ]
    }
   ],
   "source": [
    "print(student['age'])"
   ]
  },
  {
   "cell_type": "code",
   "execution_count": 20,
   "id": "3af59163",
   "metadata": {},
   "outputs": [
    {
     "name": "stdout",
     "output_type": "stream",
     "text": [
      "{'name': 'Billy', 'age': 38}\n"
     ]
    }
   ],
   "source": [
    "print(student)"
   ]
  },
  {
   "cell_type": "code",
   "execution_count": 21,
   "id": "ddeef0f5",
   "metadata": {},
   "outputs": [],
   "source": [
    "del student['age']"
   ]
  },
  {
   "cell_type": "code",
   "execution_count": 22,
   "id": "377de9c5",
   "metadata": {},
   "outputs": [
    {
     "name": "stdout",
     "output_type": "stream",
     "text": [
      "{'name': 'Billy'}\n"
     ]
    }
   ],
   "source": [
    "print(student)"
   ]
  },
  {
   "cell_type": "code",
   "execution_count": 23,
   "id": "2ab632c2",
   "metadata": {},
   "outputs": [
    {
     "name": "stdout",
     "output_type": "stream",
     "text": [
      "dict_keys(['name', 'age'])\n",
      "dict_values(['Raka', 17])\n"
     ]
    }
   ],
   "source": [
    "student = {'name':'Raka', 'age':17}\n",
    "print(student.keys())\n",
    "print(student.values())"
   ]
  },
  {
   "cell_type": "markdown",
   "id": "5d96ca76",
   "metadata": {},
   "source": [
    "## Tuples"
   ]
  },
  {
   "cell_type": "code",
   "execution_count": 24,
   "id": "e3069022",
   "metadata": {},
   "outputs": [],
   "source": [
    "#Tuples tidak bisa diubah, immutables\n",
    "#dibuat dengan notasi ()"
   ]
  },
  {
   "cell_type": "code",
   "execution_count": 25,
   "id": "a964e8f5",
   "metadata": {},
   "outputs": [
    {
     "name": "stdout",
     "output_type": "stream",
     "text": [
      "('Raka', ('kode', 'random'))\n"
     ]
    }
   ],
   "source": [
    "people = ('Raka', ('kode', 'random'))\n",
    "print(people)"
   ]
  },
  {
   "cell_type": "code",
   "execution_count": 26,
   "id": "00a229a6",
   "metadata": {},
   "outputs": [
    {
     "name": "stdout",
     "output_type": "stream",
     "text": [
      "Raka\n"
     ]
    }
   ],
   "source": [
    "print(people[0])"
   ]
  },
  {
   "cell_type": "code",
   "execution_count": 27,
   "id": "ab85b587",
   "metadata": {},
   "outputs": [
    {
     "name": "stdout",
     "output_type": "stream",
     "text": [
      "('kode', 'random')\n"
     ]
    }
   ],
   "source": [
    "print(people[1])"
   ]
  },
  {
   "cell_type": "code",
   "execution_count": 28,
   "id": "a08bb682",
   "metadata": {},
   "outputs": [
    {
     "name": "stdout",
     "output_type": "stream",
     "text": [
      "kode\n",
      "random\n"
     ]
    }
   ],
   "source": [
    "print(people[1][0])\n",
    "print(people[1][1])"
   ]
  },
  {
   "cell_type": "code",
   "execution_count": 29,
   "id": "706135d5",
   "metadata": {},
   "outputs": [
    {
     "name": "stdout",
     "output_type": "stream",
     "text": [
      "(1, (2, 3))\n"
     ]
    }
   ],
   "source": [
    "#slicing tuple\n",
    "numbers = (1,2,3,4)\n",
    "new_numbers = numbers[0], numbers[1:3]\n",
    "print(new_numbers)"
   ]
  },
  {
   "cell_type": "code",
   "execution_count": 30,
   "id": "a426e09c",
   "metadata": {},
   "outputs": [
    {
     "name": "stdout",
     "output_type": "stream",
     "text": [
      "(1, 2, 3, 4)\n"
     ]
    }
   ],
   "source": [
    "print(numbers)"
   ]
  },
  {
   "cell_type": "code",
   "execution_count": 31,
   "id": "7a553383",
   "metadata": {},
   "outputs": [],
   "source": [
    "#sorting, harus konversi dulu dari tuple ke list\n",
    "email_attr = ('to', 'from', 'cc', 'bcc', 'subject', 'body' )\n",
    "email_attr_list = list(email_attr)"
   ]
  },
  {
   "cell_type": "code",
   "execution_count": 32,
   "id": "b0671882",
   "metadata": {},
   "outputs": [],
   "source": [
    "email_attr_list.sort()"
   ]
  },
  {
   "cell_type": "code",
   "execution_count": 33,
   "id": "0342a323",
   "metadata": {},
   "outputs": [
    {
     "name": "stdout",
     "output_type": "stream",
     "text": [
      "['bcc', 'body', 'cc', 'from', 'subject', 'to']\n"
     ]
    }
   ],
   "source": [
    "print(email_attr_list)"
   ]
  },
  {
   "cell_type": "markdown",
   "id": "0e4f0c97",
   "metadata": {},
   "source": [
    "## Files"
   ]
  },
  {
   "cell_type": "code",
   "execution_count": 34,
   "id": "6d56003b",
   "metadata": {},
   "outputs": [],
   "source": [
    "#open('*.txt', a)\n",
    "myfile = open('text.txt', 'w')"
   ]
  },
  {
   "cell_type": "code",
   "execution_count": 35,
   "id": "52f94f43",
   "metadata": {},
   "outputs": [
    {
     "data": {
      "text/plain": [
       "16"
      ]
     },
     "execution_count": 35,
     "metadata": {},
     "output_type": "execute_result"
    }
   ],
   "source": [
    "myfile.write('halo text file!\\n')"
   ]
  },
  {
   "cell_type": "code",
   "execution_count": 36,
   "id": "5079ce9f",
   "metadata": {},
   "outputs": [
    {
     "data": {
      "text/plain": [
       "27"
      ]
     },
     "execution_count": 36,
     "metadata": {},
     "output_type": "execute_result"
    }
   ],
   "source": [
    "myfile.write('selamat tinggal text file!\\n')"
   ]
  },
  {
   "cell_type": "code",
   "execution_count": 37,
   "id": "c24b1cc1",
   "metadata": {},
   "outputs": [],
   "source": [
    "myfile.close()"
   ]
  },
  {
   "cell_type": "code",
   "execution_count": 38,
   "id": "720cba7a",
   "metadata": {},
   "outputs": [],
   "source": [
    "myfile = open('text.txt')"
   ]
  },
  {
   "cell_type": "code",
   "execution_count": 39,
   "id": "6a9253ed",
   "metadata": {},
   "outputs": [
    {
     "data": {
      "text/plain": [
       "'halo text file!\\n'"
      ]
     },
     "execution_count": 39,
     "metadata": {},
     "output_type": "execute_result"
    }
   ],
   "source": [
    "myfile.readline()"
   ]
  },
  {
   "cell_type": "code",
   "execution_count": 40,
   "id": "b93b2393",
   "metadata": {},
   "outputs": [
    {
     "data": {
      "text/plain": [
       "'selamat tinggal text file!\\n'"
      ]
     },
     "execution_count": 40,
     "metadata": {},
     "output_type": "execute_result"
    }
   ],
   "source": [
    "myfile.readline()"
   ]
  },
  {
   "cell_type": "code",
   "execution_count": 41,
   "id": "a133657a",
   "metadata": {},
   "outputs": [
    {
     "data": {
      "text/plain": [
       "'halo text file!\\nselamat tinggal text file!\\n'"
      ]
     },
     "execution_count": 41,
     "metadata": {},
     "output_type": "execute_result"
    }
   ],
   "source": [
    "#membaca seluruh isi\n",
    "open('text.txt').read()"
   ]
  },
  {
   "cell_type": "code",
   "execution_count": 42,
   "id": "e756abb3",
   "metadata": {},
   "outputs": [
    {
     "name": "stdout",
     "output_type": "stream",
     "text": [
      "halo text file!\n",
      "selamat tinggal text file!\n",
      "\n"
     ]
    }
   ],
   "source": [
    "print(open('text.txt').read())"
   ]
  },
  {
   "cell_type": "code",
   "execution_count": 89,
   "id": "63bd0179",
   "metadata": {},
   "outputs": [],
   "source": [
    "x, y, z = 43, 44, 45"
   ]
  },
  {
   "cell_type": "code",
   "execution_count": 90,
   "id": "a01eeafe",
   "metadata": {},
   "outputs": [],
   "source": [
    "message= 'Spam'"
   ]
  },
  {
   "cell_type": "code",
   "execution_count": 91,
   "id": "f7e4e280",
   "metadata": {},
   "outputs": [],
   "source": [
    "data = {'a': 1, 'b':2}\n",
    "list = [1,2,3]"
   ]
  },
  {
   "cell_type": "code",
   "execution_count": 92,
   "id": "201a61e0",
   "metadata": {},
   "outputs": [],
   "source": [
    "file = open('text.txt', 'w')"
   ]
  },
  {
   "cell_type": "code",
   "execution_count": 93,
   "id": "43e82b87",
   "metadata": {},
   "outputs": [
    {
     "data": {
      "text/plain": [
       "5"
      ]
     },
     "execution_count": 93,
     "metadata": {},
     "output_type": "execute_result"
    }
   ],
   "source": [
    "file.write(message + '\\n')"
   ]
  },
  {
   "cell_type": "code",
   "execution_count": 94,
   "id": "6d3e02de",
   "metadata": {},
   "outputs": [
    {
     "data": {
      "text/plain": [
       "9"
      ]
     },
     "execution_count": 94,
     "metadata": {},
     "output_type": "execute_result"
    }
   ],
   "source": [
    "file.write('%s,%s,%s\\n' % (x,y,z))"
   ]
  },
  {
   "cell_type": "code",
   "execution_count": 97,
   "id": "080c4b1b",
   "metadata": {},
   "outputs": [
    {
     "data": {
      "text/plain": [
       "27"
      ]
     },
     "execution_count": 97,
     "metadata": {},
     "output_type": "execute_result"
    }
   ],
   "source": [
    "#konversi list ke string\n",
    "file.write(str(list) + '$' + str(data) + '\\n')"
   ]
  },
  {
   "cell_type": "code",
   "execution_count": 98,
   "id": "ef3fa254",
   "metadata": {},
   "outputs": [],
   "source": [
    "#untuk melihat hasil\n",
    "file.close()"
   ]
  },
  {
   "cell_type": "markdown",
   "id": "5f3f3f08",
   "metadata": {},
   "source": [
    "## Loops & Iterators"
   ]
  },
  {
   "cell_type": "markdown",
   "id": "63348183",
   "metadata": {},
   "source": [
    "### while"
   ]
  },
  {
   "cell_type": "code",
   "execution_count": 1,
   "id": "46854979",
   "metadata": {},
   "outputs": [],
   "source": [
    "#while test :\n",
    "    #statements"
   ]
  },
  {
   "cell_type": "code",
   "execution_count": null,
   "id": "15d0ca09",
   "metadata": {},
   "outputs": [],
   "source": [
    "# infinite loop (looping terus menerus)\n",
    "while True:\n",
    "    print('PrintCtrl-C to stop me!')"
   ]
  },
  {
   "cell_type": "code",
   "execution_count": 4,
   "id": "906cb617",
   "metadata": {},
   "outputs": [
    {
     "name": "stdout",
     "output_type": "stream",
     "text": [
      "spam pam am m "
     ]
    }
   ],
   "source": [
    "message = \"spam\"\n",
    "while message != '':\n",
    "    print(message, end=' ')\n",
    "    message = message[1:]"
   ]
  },
  {
   "cell_type": "code",
   "execution_count": 5,
   "id": "12d28a0e",
   "metadata": {},
   "outputs": [
    {
     "name": "stdout",
     "output_type": "stream",
     "text": [
      "0 1 2 3 4 5 6 7 8 9 10 11 12 "
     ]
    }
   ],
   "source": [
    "a = 0\n",
    "b = 13\n",
    "while a < b :\n",
    "    print(a, end= ' ')\n",
    "    a = a + 1"
   ]
  },
  {
   "cell_type": "code",
   "execution_count": 6,
   "id": "194512e0",
   "metadata": {},
   "outputs": [
    {
     "ename": "IndentationError",
     "evalue": "unexpected indent (2242564584.py, line 6)",
     "output_type": "error",
     "traceback": [
      "\u001b[1;36m  Cell \u001b[1;32mIn[6], line 6\u001b[1;36m\u001b[0m\n\u001b[1;33m    if test: continue\u001b[0m\n\u001b[1;37m    ^\u001b[0m\n\u001b[1;31mIndentationError\u001b[0m\u001b[1;31m:\u001b[0m unexpected indent\n"
     ]
    }
   ],
   "source": [
    "#break utk keluar dari loop\n",
    "#syntaks berikut :\n",
    "while test:\n",
    "    statements\n",
    "    if test: break\n",
    "        if test: continue\n",
    "else:\n",
    "    statements\n",
    "        \n"
   ]
  },
  {
   "cell_type": "code",
   "execution_count": 8,
   "id": "03cb96c4",
   "metadata": {},
   "outputs": [
    {
     "name": "stdout",
     "output_type": "stream",
     "text": [
      "Enter name: raka\n",
      "Enter age: 12\n",
      "Hello raka => 144\n",
      "Enter name: dini\n",
      "Enter age: 21\n",
      "Hello dini => 441\n",
      "Enter name: stop\n"
     ]
    }
   ],
   "source": [
    "#yg paling umum adalah break\n",
    "while True: \n",
    "    name = input('Enter name: ')\n",
    "    if name == 'stop': break\n",
    "    age = input('Enter age: ')\n",
    "    print('Hello', name, '=>', int(age) ** 2)"
   ]
  },
  {
   "cell_type": "markdown",
   "id": "331fb70a",
   "metadata": {},
   "source": [
    "### For loop"
   ]
  },
  {
   "cell_type": "code",
   "execution_count": 9,
   "id": "6d961af1",
   "metadata": {},
   "outputs": [
    {
     "name": "stdout",
     "output_type": "stream",
     "text": [
      "raka\n",
      "billy\n",
      "kode\n"
     ]
    }
   ],
   "source": [
    "for word in ['raka', 'billy', 'kode']:\n",
    "    print(word, end='\\n')"
   ]
  },
  {
   "cell_type": "code",
   "execution_count": 10,
   "id": "d5d347c2",
   "metadata": {},
   "outputs": [
    {
     "data": {
      "text/plain": [
       "10"
      ]
     },
     "execution_count": 10,
     "metadata": {},
     "output_type": "execute_result"
    }
   ],
   "source": [
    "sum = 0\n",
    "for i in [1,2,3,4]:\n",
    "    sum = sum + i\n",
    "sum"
   ]
  },
  {
   "cell_type": "code",
   "execution_count": 11,
   "id": "967b606d",
   "metadata": {},
   "outputs": [],
   "source": [
    "prod = 1\n",
    "for item in [1,2,3,4]: prod *= item"
   ]
  },
  {
   "cell_type": "code",
   "execution_count": 12,
   "id": "a3a5d15c",
   "metadata": {},
   "outputs": [
    {
     "data": {
      "text/plain": [
       "24"
      ]
     },
     "execution_count": 12,
     "metadata": {},
     "output_type": "execute_result"
    }
   ],
   "source": [
    "prod"
   ]
  },
  {
   "cell_type": "code",
   "execution_count": 13,
   "id": "033ddb0f",
   "metadata": {},
   "outputs": [
    {
     "name": "stdout",
     "output_type": "stream",
     "text": [
      "f o x y   f o x "
     ]
    }
   ],
   "source": [
    "text = 'foxy fox'\n",
    "words = ('is', 'great', 'animal')\n",
    "for chara in text: print(chara, end=' ')"
   ]
  },
  {
   "cell_type": "code",
   "execution_count": 14,
   "id": "21d29fac",
   "metadata": {},
   "outputs": [
    {
     "name": "stdout",
     "output_type": "stream",
     "text": [
      "is...great...animal..."
     ]
    }
   ],
   "source": [
    "for word in words: print(word, end='...')"
   ]
  },
  {
   "cell_type": "code",
   "execution_count": 17,
   "id": "c1c48e4f",
   "metadata": {},
   "outputs": [
    {
     "name": "stdout",
     "output_type": "stream",
     "text": [
      "1 2\n",
      "3 4\n",
      "5 6\n"
     ]
    }
   ],
   "source": [
    "coor = [(1,2), (3,4), (5,6)]\n",
    "for(x, y) in coor: print(x,y)"
   ]
  },
  {
   "cell_type": "markdown",
   "id": "ce5317fc",
   "metadata": {},
   "source": [
    "## Branching in python"
   ]
  },
  {
   "cell_type": "markdown",
   "id": "765a9264",
   "metadata": {},
   "source": [
    "### if statement"
   ]
  },
  {
   "cell_type": "code",
   "execution_count": null,
   "id": "09bc28e9",
   "metadata": {},
   "outputs": [],
   "source": [
    "#syntaks:\n",
    "if kondisi1:\n",
    "    blok kode1\n",
    "elif kondisi2:\n",
    "    blok kode2\n",
    "else: \n",
    "    blok kode3"
   ]
  },
  {
   "cell_type": "code",
   "execution_count": 19,
   "id": "8db4ebe6",
   "metadata": {},
   "outputs": [
    {
     "name": "stdout",
     "output_type": "stream",
     "text": [
      "true\n"
     ]
    }
   ],
   "source": [
    "if 1:\n",
    "    print ('true')"
   ]
  },
  {
   "cell_type": "code",
   "execution_count": 20,
   "id": "50a79d3c",
   "metadata": {},
   "outputs": [
    {
     "name": "stdout",
     "output_type": "stream",
     "text": [
      "false\n"
     ]
    }
   ],
   "source": [
    "if not 1:\n",
    "    print('true')\n",
    "else:\n",
    "    print('false')"
   ]
  },
  {
   "cell_type": "code",
   "execution_count": 24,
   "id": "0f6c8344",
   "metadata": {},
   "outputs": [
    {
     "name": "stdout",
     "output_type": "stream",
     "text": [
      "Enter your age: 17\n",
      "Time to get started!\n"
     ]
    }
   ],
   "source": [
    "age = input('Enter your age: ')\n",
    "if int(age) * 365 > 20000:\n",
    "    print('Time to retire!')\n",
    "elif int(age) * 365 > 10000:\n",
    "    print('Lots of time left!')\n",
    "else:\n",
    "    print('Time to get started!')"
   ]
  },
  {
   "cell_type": "code",
   "execution_count": 27,
   "id": "a26f988c",
   "metadata": {},
   "outputs": [
    {
     "name": "stdout",
     "output_type": "stream",
     "text": [
      "Enter your age: 17\n",
      "You are a young Padawan\n"
     ]
    }
   ],
   "source": [
    "user_age = input('Enter your age: ')\n",
    "age = int(user_age) * 365\n",
    "if age >= 9490:\n",
    "    print('You are a Jedi Master now. Go learn from Master Yoda!!')\n",
    "elif age >= 8395 and age < 9490 :\n",
    "    print('Becoming Jedi Knight')\n",
    "else:\n",
    "    print('You are a young Padawan')"
   ]
  },
  {
   "cell_type": "markdown",
   "id": "de8c1a1b",
   "metadata": {},
   "source": [
    "## Functions & Packages"
   ]
  },
  {
   "cell_type": "markdown",
   "id": "10bb08da",
   "metadata": {},
   "source": [
    "### Functions"
   ]
  },
  {
   "cell_type": "code",
   "execution_count": 2,
   "id": "259a0aca",
   "metadata": {},
   "outputs": [],
   "source": [
    "def add(a, b):\n",
    "    return a + b"
   ]
  },
  {
   "cell_type": "code",
   "execution_count": 3,
   "id": "9843cd84",
   "metadata": {},
   "outputs": [
    {
     "data": {
      "text/plain": [
       "9"
      ]
     },
     "execution_count": 3,
     "metadata": {},
     "output_type": "execute_result"
    }
   ],
   "source": [
    "add(5,4)"
   ]
  },
  {
   "cell_type": "code",
   "execution_count": 4,
   "id": "ea662459",
   "metadata": {},
   "outputs": [],
   "source": [
    "add_things = add(10, 4)"
   ]
  },
  {
   "cell_type": "code",
   "execution_count": 5,
   "id": "b6ffba0c",
   "metadata": {},
   "outputs": [
    {
     "name": "stdout",
     "output_type": "stream",
     "text": [
      "14\n"
     ]
    }
   ],
   "source": [
    "print(add_things)"
   ]
  },
  {
   "cell_type": "code",
   "execution_count": 6,
   "id": "f6c36c36",
   "metadata": {},
   "outputs": [],
   "source": [
    "def add_and_print(a, b):\n",
    "    print(a + b)"
   ]
  },
  {
   "cell_type": "code",
   "execution_count": 7,
   "id": "2872c744",
   "metadata": {},
   "outputs": [
    {
     "name": "stdout",
     "output_type": "stream",
     "text": [
      "4\n"
     ]
    }
   ],
   "source": [
    "add_and_print(1,3)"
   ]
  },
  {
   "cell_type": "code",
   "execution_count": 8,
   "id": "8eafdf15",
   "metadata": {},
   "outputs": [
    {
     "name": "stdout",
     "output_type": "stream",
     "text": [
      "8\n"
     ]
    }
   ],
   "source": [
    "x = add_and_print(5,3)"
   ]
  },
  {
   "cell_type": "code",
   "execution_count": 9,
   "id": "4b4f9760",
   "metadata": {},
   "outputs": [
    {
     "name": "stdout",
     "output_type": "stream",
     "text": [
      "None\n"
     ]
    }
   ],
   "source": [
    "print(x)"
   ]
  },
  {
   "cell_type": "code",
   "execution_count": 10,
   "id": "68704129",
   "metadata": {},
   "outputs": [],
   "source": [
    "def intersection(first_word, second_word):\n",
    "    result = []\n",
    "    for x in first_word:\n",
    "        if x in second_word:\n",
    "            result.append(x)\n",
    "    return result"
   ]
  },
  {
   "cell_type": "code",
   "execution_count": 11,
   "id": "f4e4605a",
   "metadata": {},
   "outputs": [
    {
     "name": "stdout",
     "output_type": "stream",
     "text": [
      "['s', 'a', 'm']\n"
     ]
    }
   ],
   "source": [
    "word1 = 'spam'\n",
    "word2 = 'scam'\n",
    "char_of_intersect = intersection(word1, word2)\n",
    "print(char_of_intersect)"
   ]
  },
  {
   "cell_type": "markdown",
   "id": "d22c27af",
   "metadata": {},
   "source": [
    "### Modules & Built in Function"
   ]
  },
  {
   "cell_type": "code",
   "execution_count": 12,
   "id": "99a9e177",
   "metadata": {},
   "outputs": [
    {
     "name": "stdout",
     "output_type": "stream",
     "text": [
      "123\n"
     ]
    }
   ],
   "source": [
    "print(abs(-123))"
   ]
  },
  {
   "cell_type": "code",
   "execution_count": 13,
   "id": "216fbecb",
   "metadata": {},
   "outputs": [
    {
     "name": "stdout",
     "output_type": "stream",
     "text": [
      "123\n"
     ]
    }
   ],
   "source": [
    "print(abs(123))"
   ]
  },
  {
   "cell_type": "code",
   "execution_count": 16,
   "id": "4df48d5d",
   "metadata": {},
   "outputs": [
    {
     "name": "stdout",
     "output_type": "stream",
     "text": [
      "True\n"
     ]
    }
   ],
   "source": [
    "#apakah si number adalah list\n",
    "numbers = [1,2,3]\n",
    "print(isinstance(numbers, list))"
   ]
  },
  {
   "cell_type": "code",
   "execution_count": 15,
   "id": "a6a8a481",
   "metadata": {},
   "outputs": [
    {
     "name": "stdout",
     "output_type": "stream",
     "text": [
      "False\n"
     ]
    }
   ],
   "source": [
    "print(isinstance(numbers, dict))"
   ]
  },
  {
   "cell_type": "code",
   "execution_count": 17,
   "id": "b79219ca",
   "metadata": {},
   "outputs": [],
   "source": [
    "number = 22"
   ]
  },
  {
   "cell_type": "code",
   "execution_count": 19,
   "id": "2aa66f8f",
   "metadata": {},
   "outputs": [
    {
     "name": "stdout",
     "output_type": "stream",
     "text": [
      "False\n"
     ]
    }
   ],
   "source": [
    "print(isinstance(number, list))"
   ]
  },
  {
   "cell_type": "code",
   "execution_count": 20,
   "id": "3732c304",
   "metadata": {},
   "outputs": [
    {
     "name": "stdout",
     "output_type": "stream",
     "text": [
      "False\n"
     ]
    }
   ],
   "source": [
    "print(isinstance(numbers, int))"
   ]
  },
  {
   "cell_type": "code",
   "execution_count": 21,
   "id": "4ca6963a",
   "metadata": {},
   "outputs": [
    {
     "name": "stdout",
     "output_type": "stream",
     "text": [
      "6\n"
     ]
    }
   ],
   "source": [
    "numbers = [1,2,3,4,5,6]\n",
    "print(max(numbers))"
   ]
  },
  {
   "cell_type": "code",
   "execution_count": 22,
   "id": "dcbb1de9",
   "metadata": {},
   "outputs": [
    {
     "name": "stdout",
     "output_type": "stream",
     "text": [
      "1\n"
     ]
    }
   ],
   "source": [
    "print(min(numbers))"
   ]
  },
  {
   "cell_type": "code",
   "execution_count": 24,
   "id": "d455ec40",
   "metadata": {},
   "outputs": [
    {
     "name": "stdout",
     "output_type": "stream",
     "text": [
      "z\n",
      "a\n"
     ]
    }
   ],
   "source": [
    "alphas = ['a', 'b', 'z']\n",
    "print(max(alphas))\n",
    "print(min(alphas))"
   ]
  },
  {
   "cell_type": "markdown",
   "id": "4c9f1a25",
   "metadata": {},
   "source": [
    "### built in metode"
   ]
  },
  {
   "cell_type": "code",
   "execution_count": 25,
   "id": "c14a287e",
   "metadata": {},
   "outputs": [
    {
     "name": "stdout",
     "output_type": "stream",
     "text": [
      "2\n"
     ]
    }
   ],
   "source": [
    "languages = ['py', 'js', 'go', 'c']\n",
    "print(languages.index('go'))"
   ]
  },
  {
   "cell_type": "code",
   "execution_count": 26,
   "id": "b77ff511",
   "metadata": {},
   "outputs": [
    {
     "name": "stdout",
     "output_type": "stream",
     "text": [
      "['c', 'go', 'js', 'py']\n"
     ]
    }
   ],
   "source": [
    "languages.sort()\n",
    "print(languages)"
   ]
  },
  {
   "cell_type": "code",
   "execution_count": 27,
   "id": "5a62678a",
   "metadata": {},
   "outputs": [
    {
     "name": "stdout",
     "output_type": "stream",
     "text": [
      "raka\n"
     ]
    }
   ],
   "source": [
    "name = 'raka'\n",
    "print(name)"
   ]
  },
  {
   "cell_type": "code",
   "execution_count": 28,
   "id": "d278d7d1",
   "metadata": {},
   "outputs": [
    {
     "data": {
      "text/plain": [
       "'raca'"
      ]
     },
     "execution_count": 28,
     "metadata": {},
     "output_type": "execute_result"
    }
   ],
   "source": [
    "name.replace('k', 'c')"
   ]
  },
  {
   "cell_type": "code",
   "execution_count": 29,
   "id": "b9110479",
   "metadata": {},
   "outputs": [
    {
     "data": {
      "text/plain": [
       "'Raka'"
      ]
     },
     "execution_count": 29,
     "metadata": {},
     "output_type": "execute_result"
    }
   ],
   "source": [
    "name.capitalize()"
   ]
  },
  {
   "cell_type": "markdown",
   "id": "0d8f156a",
   "metadata": {},
   "source": [
    "### Packages"
   ]
  },
  {
   "cell_type": "code",
   "execution_count": 34,
   "id": "3ea74ab9",
   "metadata": {},
   "outputs": [],
   "source": [
    "import requests"
   ]
  },
  {
   "cell_type": "code",
   "execution_count": 35,
   "id": "4aae6712",
   "metadata": {},
   "outputs": [],
   "source": [
    "r = requests.get('https://api.github.com/events')"
   ]
  },
  {
   "cell_type": "code",
   "execution_count": 36,
   "id": "8920765b",
   "metadata": {},
   "outputs": [
    {
     "name": "stdout",
     "output_type": "stream",
     "text": [
      "200\n"
     ]
    }
   ],
   "source": [
    "print(r.status_code)"
   ]
  },
  {
   "cell_type": "code",
   "execution_count": 37,
   "id": "72026b55",
   "metadata": {},
   "outputs": [
    {
     "name": "stdout",
     "output_type": "stream",
     "text": [
      "[{'id': '31830657782', 'type': 'PullRequestEvent', 'actor': {'id': 8098421, 'login': 'radnov', 'display_login': 'radnov', 'gravatar_id': '', 'url': 'https://api.github.com/users/radnov', 'avatar_url': 'https://avatars.githubusercontent.com/u/8098421?'}, 'repo': {'id': 149104249, 'name': 'dhis2/metadata-package-development', 'url': 'https://api.github.com/repos/dhis2/metadata-package-development'}, 'payload': {'action': 'opened', 'number': 60, 'pull_request': {'url': 'https://api.github.com/repos/dhis2/metadata-package-development/pulls/60', 'id': 1515422147, 'node_id': 'PR_kwDOCOMmec5aU4HD', 'html_url': 'https://github.com/dhis2/metadata-package-development/pull/60', 'diff_url': 'https://github.com/dhis2/metadata-package-development/pull/60.diff', 'patch_url': 'https://github.com/dhis2/metadata-package-development/pull/60.patch', 'issue_url': 'https://api.github.com/repos/dhis2/metadata-package-development/issues/60', 'number': 60, 'state': 'open', 'locked': False, 'title': 'refactor: use packages index spreadsheet for populating parameters', 'user': {'login': 'radnov', 'id': 8098421, 'node_id': 'MDQ6VXNlcjgwOTg0MjE=', 'avatar_url': 'https://avatars.githubusercontent.com/u/8098421?v=4', 'gravatar_id': '', 'url': 'https://api.github.com/users/radnov', 'html_url': 'https://github.com/radnov', 'followers_url': 'https://api.github.com/users/radnov/followers', 'following_url': 'https://api.github.com/users/radnov/following{/other_user}', 'gists_url': 'https://api.github.com/users/radnov/gists{/gist_id}', 'starred_url': 'https://api.github.com/users/radnov/starred{/owner}{/repo}', 'subscriptions_url': 'https://api.github.com/users/radnov/subscriptions', 'organizations_url': 'https://api.github.com/users/radnov/orgs', 'repos_url': 'https://api.github.com/users/radnov/repos', 'events_url': 'https://api.github.com/users/radnov/events{/privacy}', 'received_events_url': 'https://api.github.com/users/radnov/received_events', 'type': 'User', 'site_admin': False}, 'body': None, 'created_at': '2023-09-14T10:21:07Z', 'updated_at': '2023-09-14T10:21:07Z', 'closed_at': None, 'merged_at': None, 'merge_commit_sha': None, 'assignee': None, 'assignees': [], 'requested_reviewers': [], 'requested_teams': [], 'labels': [], 'milestone': None, 'draft': True, 'commits_url': 'https://api.github.com/repos/dhis2/metadata-package-development/pulls/60/commits', 'review_comments_url': 'https://api.github.com/repos/dhis2/metadata-package-development/pulls/60/comments', 'review_comment_url': 'https://api.github.com/repos/dhis2/metadata-package-development/pulls/comments{/number}', 'comments_url': 'https://api.github.com/repos/dhis2/metadata-package-development/issues/60/comments', 'statuses_url': 'https://api.github.com/repos/dhis2/metadata-package-development/statuses/4148d3cb813788fe3d641fdb1200ffe3ac2125bf', 'head': {'label': 'dhis2:use-spreadsheet-for-parameters', 'ref': 'use-spreadsheet-for-parameters', 'sha': '4148d3cb813788fe3d641fdb1200ffe3ac2125bf', 'user': {'login': 'dhis2', 'id': 1089987, 'node_id': 'MDEyOk9yZ2FuaXphdGlvbjEwODk5ODc=', 'avatar_url': 'https://avatars.githubusercontent.com/u/1089987?v=4', 'gravatar_id': '', 'url': 'https://api.github.com/users/dhis2', 'html_url': 'https://github.com/dhis2', 'followers_url': 'https://api.github.com/users/dhis2/followers', 'following_url': 'https://api.github.com/users/dhis2/following{/other_user}', 'gists_url': 'https://api.github.com/users/dhis2/gists{/gist_id}', 'starred_url': 'https://api.github.com/users/dhis2/starred{/owner}{/repo}', 'subscriptions_url': 'https://api.github.com/users/dhis2/subscriptions', 'organizations_url': 'https://api.github.com/users/dhis2/orgs', 'repos_url': 'https://api.github.com/users/dhis2/repos', 'events_url': 'https://api.github.com/users/dhis2/events{/privacy}', 'received_events_url': 'https://api.github.com/users/dhis2/received_events', 'type': 'Organization', 'site_admin': False}, 'repo': {'id': 149104249, 'node_id': 'MDEwOlJlcG9zaXRvcnkxNDkxMDQyNDk=', 'name': 'metadata-package-development', 'full_name': 'dhis2/metadata-package-development', 'private': False, 'owner': {'login': 'dhis2', 'id': 1089987, 'node_id': 'MDEyOk9yZ2FuaXphdGlvbjEwODk5ODc=', 'avatar_url': 'https://avatars.githubusercontent.com/u/1089987?v=4', 'gravatar_id': '', 'url': 'https://api.github.com/users/dhis2', 'html_url': 'https://github.com/dhis2', 'followers_url': 'https://api.github.com/users/dhis2/followers', 'following_url': 'https://api.github.com/users/dhis2/following{/other_user}', 'gists_url': 'https://api.github.com/users/dhis2/gists{/gist_id}', 'starred_url': 'https://api.github.com/users/dhis2/starred{/owner}{/repo}', 'subscriptions_url': 'https://api.github.com/users/dhis2/subscriptions', 'organizations_url': 'https://api.github.com/users/dhis2/orgs', 'repos_url': 'https://api.github.com/users/dhis2/repos', 'events_url': 'https://api.github.com/users/dhis2/events{/privacy}', 'received_events_url': 'https://api.github.com/users/dhis2/received_events', 'type': 'Organization', 'site_admin': False}, 'html_url': 'https://github.com/dhis2/metadata-package-development', 'description': 'Development and packaging of metadata', 'fork': False, 'url': 'https://api.github.com/repos/dhis2/metadata-package-development', 'forks_url': 'https://api.github.com/repos/dhis2/metadata-package-development/forks', 'keys_url': 'https://api.github.com/repos/dhis2/metadata-package-development/keys{/key_id}', 'collaborators_url': 'https://api.github.com/repos/dhis2/metadata-package-development/collaborators{/collaborator}', 'teams_url': 'https://api.github.com/repos/dhis2/metadata-package-development/teams', 'hooks_url': 'https://api.github.com/repos/dhis2/metadata-package-development/hooks', 'issue_events_url': 'https://api.github.com/repos/dhis2/metadata-package-development/issues/events{/number}', 'events_url': 'https://api.github.com/repos/dhis2/metadata-package-development/events', 'assignees_url': 'https://api.github.com/repos/dhis2/metadata-package-development/assignees{/user}', 'branches_url': 'https://api.github.com/repos/dhis2/metadata-package-development/branches{/branch}', 'tags_url': 'https://api.github.com/repos/dhis2/metadata-package-development/tags', 'blobs_url': 'https://api.github.com/repos/dhis2/metadata-package-development/git/blobs{/sha}', 'git_tags_url': 'https://api.github.com/repos/dhis2/metadata-package-development/git/tags{/sha}', 'git_refs_url': 'https://api.github.com/repos/dhis2/metadata-package-development/git/refs{/sha}', 'trees_url': 'https://api.github.com/repos/dhis2/metadata-package-development/git/trees{/sha}', 'statuses_url': 'https://api.github.com/repos/dhis2/metadata-package-development/statuses/{sha}', 'languages_url': 'https://api.github.com/repos/dhis2/metadata-package-development/languages', 'stargazers_url': 'https://api.github.com/repos/dhis2/metadata-package-development/stargazers', 'contributors_url': 'https://api.github.com/repos/dhis2/metadata-package-development/contributors', 'subscribers_url': 'https://api.github.com/repos/dhis2/metadata-package-development/subscribers', 'subscription_url': 'https://api.github.com/repos/dhis2/metadata-package-development/subscription', 'commits_url': 'https://api.github.com/repos/dhis2/metadata-package-development/commits{/sha}', 'git_commits_url': 'https://api.github.com/repos/dhis2/metadata-package-development/git/commits{/sha}', 'comments_url': 'https://api.github.com/repos/dhis2/metadata-package-development/comments{/number}', 'issue_comment_url': 'https://api.github.com/repos/dhis2/metadata-package-development/issues/comments{/number}', 'contents_url': 'https://api.github.com/repos/dhis2/metadata-package-development/contents/{+path}', 'compare_url': 'https://api.github.com/repos/dhis2/metadata-package-development/compare/{base}...{head}', 'merges_url': 'https://api.github.com/repos/dhis2/metadata-package-development/merges', 'archive_url': 'https://api.github.com/repos/dhis2/metadata-package-development/{archive_format}{/ref}', 'downloads_url': 'https://api.github.com/repos/dhis2/metadata-package-development/downloads', 'issues_url': 'https://api.github.com/repos/dhis2/metadata-package-development/issues{/number}', 'pulls_url': 'https://api.github.com/repos/dhis2/metadata-package-development/pulls{/number}', 'milestones_url': 'https://api.github.com/repos/dhis2/metadata-package-development/milestones{/number}', 'notifications_url': 'https://api.github.com/repos/dhis2/metadata-package-development/notifications{?since,all,participating}', 'labels_url': 'https://api.github.com/repos/dhis2/metadata-package-development/labels{/name}', 'releases_url': 'https://api.github.com/repos/dhis2/metadata-package-development/releases{/id}', 'deployments_url': 'https://api.github.com/repos/dhis2/metadata-package-development/deployments', 'created_at': '2018-09-17T09:51:49Z', 'updated_at': '2023-01-15T23:19:47Z', 'pushed_at': '2023-09-14T10:21:07Z', 'git_url': 'git://github.com/dhis2/metadata-package-development.git', 'ssh_url': 'git@github.com:dhis2/metadata-package-development.git', 'clone_url': 'https://github.com/dhis2/metadata-package-development.git', 'svn_url': 'https://github.com/dhis2/metadata-package-development', 'homepage': '', 'size': 54625, 'stargazers_count': 6, 'watchers_count': 6, 'language': 'HTML', 'has_issues': True, 'has_projects': True, 'has_downloads': True, 'has_wiki': True, 'has_pages': False, 'has_discussions': False, 'forks_count': 19, 'mirror_url': None, 'archived': False, 'disabled': False, 'open_issues_count': 5, 'license': None, 'allow_forking': True, 'is_template': False, 'web_commit_signoff_required': False, 'topics': [], 'visibility': 'public', 'forks': 19, 'open_issues': 5, 'watchers': 6, 'default_branch': 'master'}}, 'base': {'label': 'dhis2:master', 'ref': 'master', 'sha': '56a845654c5ab0dfe42078c8ab60f5c85613d4bf', 'user': {'login': 'dhis2', 'id': 1089987, 'node_id': 'MDEyOk9yZ2FuaXphdGlvbjEwODk5ODc=', 'avatar_url': 'https://avatars.githubusercontent.com/u/1089987?v=4', 'gravatar_id': '', 'url': 'https://api.github.com/users/dhis2', 'html_url': 'https://github.com/dhis2', 'followers_url': 'https://api.github.com/users/dhis2/followers', 'following_url': 'https://api.github.com/users/dhis2/following{/other_user}', 'gists_url': 'https://api.github.com/users/dhis2/gists{/gist_id}', 'starred_url': 'https://api.github.com/users/dhis2/starred{/owner}{/repo}', 'subscriptions_url': 'https://api.github.com/users/dhis2/subscriptions', 'organizations_url': 'https://api.github.com/users/dhis2/orgs', 'repos_url': 'https://api.github.com/users/dhis2/repos', 'events_url': 'https://api.github.com/users/dhis2/events{/privacy}', 'received_events_url': 'https://api.github.com/users/dhis2/received_events', 'type': 'Organization', 'site_admin': False}, 'repo': {'id': 149104249, 'node_id': 'MDEwOlJlcG9zaXRvcnkxNDkxMDQyNDk=', 'name': 'metadata-package-development', 'full_name': 'dhis2/metadata-package-development', 'private': False, 'owner': {'login': 'dhis2', 'id': 1089987, 'node_id': 'MDEyOk9yZ2FuaXphdGlvbjEwODk5ODc=', 'avatar_url': 'https://avatars.githubusercontent.com/u/1089987?v=4', 'gravatar_id': '', 'url': 'https://api.github.com/users/dhis2', 'html_url': 'https://github.com/dhis2', 'followers_url': 'https://api.github.com/users/dhis2/followers', 'following_url': 'https://api.github.com/users/dhis2/following{/other_user}', 'gists_url': 'https://api.github.com/users/dhis2/gists{/gist_id}', 'starred_url': 'https://api.github.com/users/dhis2/starred{/owner}{/repo}', 'subscriptions_url': 'https://api.github.com/users/dhis2/subscriptions', 'organizations_url': 'https://api.github.com/users/dhis2/orgs', 'repos_url': 'https://api.github.com/users/dhis2/repos', 'events_url': 'https://api.github.com/users/dhis2/events{/privacy}', 'received_events_url': 'https://api.github.com/users/dhis2/received_events', 'type': 'Organization', 'site_admin': False}, 'html_url': 'https://github.com/dhis2/metadata-package-development', 'description': 'Development and packaging of metadata', 'fork': False, 'url': 'https://api.github.com/repos/dhis2/metadata-package-development', 'forks_url': 'https://api.github.com/repos/dhis2/metadata-package-development/forks', 'keys_url': 'https://api.github.com/repos/dhis2/metadata-package-development/keys{/key_id}', 'collaborators_url': 'https://api.github.com/repos/dhis2/metadata-package-development/collaborators{/collaborator}', 'teams_url': 'https://api.github.com/repos/dhis2/metadata-package-development/teams', 'hooks_url': 'https://api.github.com/repos/dhis2/metadata-package-development/hooks', 'issue_events_url': 'https://api.github.com/repos/dhis2/metadata-package-development/issues/events{/number}', 'events_url': 'https://api.github.com/repos/dhis2/metadata-package-development/events', 'assignees_url': 'https://api.github.com/repos/dhis2/metadata-package-development/assignees{/user}', 'branches_url': 'https://api.github.com/repos/dhis2/metadata-package-development/branches{/branch}', 'tags_url': 'https://api.github.com/repos/dhis2/metadata-package-development/tags', 'blobs_url': 'https://api.github.com/repos/dhis2/metadata-package-development/git/blobs{/sha}', 'git_tags_url': 'https://api.github.com/repos/dhis2/metadata-package-development/git/tags{/sha}', 'git_refs_url': 'https://api.github.com/repos/dhis2/metadata-package-development/git/refs{/sha}', 'trees_url': 'https://api.github.com/repos/dhis2/metadata-package-development/git/trees{/sha}', 'statuses_url': 'https://api.github.com/repos/dhis2/metadata-package-development/statuses/{sha}', 'languages_url': 'https://api.github.com/repos/dhis2/metadata-package-development/languages', 'stargazers_url': 'https://api.github.com/repos/dhis2/metadata-package-development/stargazers', 'contributors_url': 'https://api.github.com/repos/dhis2/metadata-package-development/contributors', 'subscribers_url': 'https://api.github.com/repos/dhis2/metadata-package-development/subscribers', 'subscription_url': 'https://api.github.com/repos/dhis2/metadata-package-development/subscription', 'commits_url': 'https://api.github.com/repos/dhis2/metadata-package-development/commits{/sha}', 'git_commits_url': 'https://api.github.com/repos/dhis2/metadata-package-development/git/commits{/sha}', 'comments_url': 'https://api.github.com/repos/dhis2/metadata-package-development/comments{/number}', 'issue_comment_url': 'https://api.github.com/repos/dhis2/metadata-package-development/issues/comments{/number}', 'contents_url': 'https://api.github.com/repos/dhis2/metadata-package-development/contents/{+path}', 'compare_url': 'https://api.github.com/repos/dhis2/metadata-package-development/compare/{base}...{head}', 'merges_url': 'https://api.github.com/repos/dhis2/metadata-package-development/merges', 'archive_url': 'https://api.github.com/repos/dhis2/metadata-package-development/{archive_format}{/ref}', 'downloads_url': 'https://api.github.com/repos/dhis2/metadata-package-development/downloads', 'issues_url': 'https://api.github.com/repos/dhis2/metadata-package-development/issues{/number}', 'pulls_url': 'https://api.github.com/repos/dhis2/metadata-package-development/pulls{/number}', 'milestones_url': 'https://api.github.com/repos/dhis2/metadata-package-development/milestones{/number}', 'notifications_url': 'https://api.github.com/repos/dhis2/metadata-package-development/notifications{?since,all,participating}', 'labels_url': 'https://api.github.com/repos/dhis2/metadata-package-development/labels{/name}', 'releases_url': 'https://api.github.com/repos/dhis2/metadata-package-development/releases{/id}', 'deployments_url': 'https://api.github.com/repos/dhis2/metadata-package-development/deployments', 'created_at': '2018-09-17T09:51:49Z', 'updated_at': '2023-01-15T23:19:47Z', 'pushed_at': '2023-09-14T10:21:07Z', 'git_url': 'git://github.com/dhis2/metadata-package-development.git', 'ssh_url': 'git@github.com:dhis2/metadata-package-development.git', 'clone_url': 'https://github.com/dhis2/metadata-package-development.git', 'svn_url': 'https://github.com/dhis2/metadata-package-development', 'homepage': '', 'size': 54625, 'stargazers_count': 6, 'watchers_count': 6, 'language': 'HTML', 'has_issues': True, 'has_projects': True, 'has_downloads': True, 'has_wiki': True, 'has_pages': False, 'has_discussions': False, 'forks_count': 19, 'mirror_url': None, 'archived': False, 'disabled': False, 'open_issues_count': 5, 'license': None, 'allow_forking': True, 'is_template': False, 'web_commit_signoff_required': False, 'topics': [], 'visibility': 'public', 'forks': 19, 'open_issues': 5, 'watchers': 6, 'default_branch': 'master'}}, '_links': {'self': {'href': 'https://api.github.com/repos/dhis2/metadata-package-development/pulls/60'}, 'html': {'href': 'https://github.com/dhis2/metadata-package-development/pull/60'}, 'issue': {'href': 'https://api.github.com/repos/dhis2/metadata-package-development/issues/60'}, 'comments': {'href': 'https://api.github.com/repos/dhis2/metadata-package-development/issues/60/comments'}, 'review_comments': {'href': 'https://api.github.com/repos/dhis2/metadata-package-development/pulls/60/comments'}, 'review_comment': {'href': 'https://api.github.com/repos/dhis2/metadata-package-development/pulls/comments{/number}'}, 'commits': {'href': 'https://api.github.com/repos/dhis2/metadata-package-development/pulls/60/commits'}, 'statuses': {'href': 'https://api.github.com/repos/dhis2/metadata-package-development/statuses/4148d3cb813788fe3d641fdb1200ffe3ac2125bf'}}, 'author_association': 'COLLABORATOR', 'auto_merge': None, 'active_lock_reason': None, 'merged': False, 'mergeable': None, 'rebaseable': None, 'mergeable_state': 'unknown', 'merged_by': None, 'comments': 0, 'review_comments': 0, 'maintainer_can_modify': False, 'commits': 1, 'additions': 58, 'deletions': 45, 'changed_files': 3}}, 'public': True, 'created_at': '2023-09-14T10:21:07Z', 'org': {'id': 1089987, 'login': 'dhis2', 'gravatar_id': '', 'url': 'https://api.github.com/orgs/dhis2', 'avatar_url': 'https://avatars.githubusercontent.com/u/1089987?'}}, {'id': '31830658272', 'type': 'PushEvent', 'actor': {'id': 45696255, 'login': 'krosy1337', 'display_login': 'krosy1337', 'gravatar_id': '', 'url': 'https://api.github.com/users/krosy1337', 'avatar_url': 'https://avatars.githubusercontent.com/u/45696255?'}, 'repo': {'id': 458166037, 'name': 'ydb-platform/ydb-embedded-ui', 'url': 'https://api.github.com/repos/ydb-platform/ydb-embedded-ui'}, 'payload': {'repository_id': 458166037, 'push_id': 15040238102, 'size': 1, 'distinct_size': 1, 'ref': 'refs/heads/metrics-healthcheck-to-tabs', 'head': '08e6c0412f1728c1ed9ed3ab3acd6de41e51a52c', 'before': '7baa1c202f203b5029c2cb079ba9eff860f9cd1a', 'commits': [{'sha': '08e6c0412f1728c1ed9ed3ab3acd6de41e51a52c', 'author': {'email': 'krosy1337@gmail.com', 'name': 'KROSY'}, 'message': 'fix: move healthcheck to tabs', 'distinct': True, 'url': 'https://api.github.com/repos/ydb-platform/ydb-embedded-ui/commits/08e6c0412f1728c1ed9ed3ab3acd6de41e51a52c'}]}, 'public': True, 'created_at': '2023-09-14T10:21:08Z', 'org': {'id': 88314308, 'login': 'ydb-platform', 'gravatar_id': '', 'url': 'https://api.github.com/orgs/ydb-platform', 'avatar_url': 'https://avatars.githubusercontent.com/u/88314308?'}}, {'id': '31830658654', 'type': 'PushEvent', 'actor': {'id': 18233225, 'login': 'bcbrookman', 'display_login': 'bcbrookman', 'gravatar_id': '', 'url': 'https://api.github.com/users/bcbrookman', 'avatar_url': 'https://avatars.githubusercontent.com/u/18233225?'}, 'repo': {'id': 650425841, 'name': 'bcbrookman/flux-image-updates', 'url': 'https://api.github.com/repos/bcbrookman/flux-image-updates'}, 'payload': {'repository_id': 650425841, 'push_id': 15040238289, 'size': 1, 'distinct_size': 1, 'ref': 'refs/heads/fluxcdbot/podinfo', 'head': '598e4e928feb0967073e571ed3f12f855dd50cf4', 'before': '4144e701ea3cfded1e974cc0435e070221fcd807', 'commits': [{'sha': '598e4e928feb0967073e571ed3f12f855dd50cf4', 'author': {'email': 'fluxcdbot@users.noreply.github.com', 'name': 'fluxcdbot'}, 'message': 'ghcr.io/stefanprodan/podinfo:5.0.2\\nghcr.io/stefanprodan/podinfo:5.0.1', 'distinct': True, 'url': 'https://api.github.com/repos/bcbrookman/flux-image-updates/commits/598e4e928feb0967073e571ed3f12f855dd50cf4'}]}, 'public': True, 'created_at': '2023-09-14T10:21:09Z'}, {'id': '31830658232', 'type': 'PushEvent', 'actor': {'id': 88683302, 'login': 'Win720', 'display_login': 'Win720', 'gravatar_id': '', 'url': 'https://api.github.com/users/Win720', 'avatar_url': 'https://avatars.githubusercontent.com/u/88683302?'}, 'repo': {'id': 394408734, 'name': 'Win720/appbox', 'url': 'https://api.github.com/repos/Win720/appbox'}, 'payload': {'repository_id': 394408734, 'push_id': 15040238096, 'size': 1, 'distinct_size': 1, 'ref': 'refs/heads/main', 'head': 'f2634eb844ca79154b771054d8d3f65667e03628', 'before': 'ad920d59951e02a69715b1c861c3efb601380d5e', 'commits': [{'sha': 'f2634eb844ca79154b771054d8d3f65667e03628', 'author': {'email': '88683302+Win720@users.noreply.github.com', 'name': 'Win720'}, 'message': '날짜 2023-09-07', 'distinct': True, 'url': 'https://api.github.com/repos/Win720/appbox/commits/f2634eb844ca79154b771054d8d3f65667e03628'}]}, 'public': True, 'created_at': '2023-09-14T10:21:08Z'}, {'id': '31830657754', 'type': 'PushEvent', 'actor': {'id': 17857833, 'login': 'kgpax', 'display_login': 'kgpax', 'gravatar_id': '', 'url': 'https://api.github.com/users/kgpax', 'avatar_url': 'https://avatars.githubusercontent.com/u/17857833?'}, 'repo': {'id': 688208274, 'name': 'FormidableLabs/envy', 'url': 'https://api.github.com/repos/FormidableLabs/envy'}, 'payload': {'repository_id': 688208274, 'push_id': 15040237854, 'size': 1, 'distinct_size': 1, 'ref': 'refs/heads/apollo-integration', 'head': '40ef84f37c0080515f3ebb1d267211fd9d32bf82', 'before': '0dffe88c4293c93e50a89e8ef802609b8274b421', 'commits': [{'sha': '40ef84f37c0080515f3ebb1d267211fd9d32bf82', 'author': {'email': 'kevin.paxton@formidable.com', 'name': 'Kevin Paxton'}, 'message': 'Fixed a few remaining issues', 'distinct': True, 'url': 'https://api.github.com/repos/FormidableLabs/envy/commits/40ef84f37c0080515f3ebb1d267211fd9d32bf82'}]}, 'public': True, 'created_at': '2023-09-14T10:21:07Z', 'org': {'id': 5078602, 'login': 'FormidableLabs', 'gravatar_id': '', 'url': 'https://api.github.com/orgs/FormidableLabs', 'avatar_url': 'https://avatars.githubusercontent.com/u/5078602?'}}, {'id': '31830658236', 'type': 'MemberEvent', 'actor': {'id': 66690702, 'login': 'github-classroom[bot]', 'display_login': 'github-classroom', 'gravatar_id': '', 'url': 'https://api.github.com/users/github-classroom[bot]', 'avatar_url': 'https://avatars.githubusercontent.com/u/66690702?'}, 'repo': {'id': 691509388, 'name': 'Exp-Intro-to-GitHub-Flow-Cohort-1/series-intro-to-github-flow-Ayom04', 'url': 'https://api.github.com/repos/Exp-Intro-to-GitHub-Flow-Cohort-1/series-intro-to-github-flow-Ayom04'}, 'payload': {'member': {'login': 'Ayom04', 'id': 117732903, 'node_id': 'U_kgDOBwR2Jw', 'avatar_url': 'https://avatars.githubusercontent.com/u/117732903?v=4', 'gravatar_id': '', 'url': 'https://api.github.com/users/Ayom04', 'html_url': 'https://github.com/Ayom04', 'followers_url': 'https://api.github.com/users/Ayom04/followers', 'following_url': 'https://api.github.com/users/Ayom04/following{/other_user}', 'gists_url': 'https://api.github.com/users/Ayom04/gists{/gist_id}', 'starred_url': 'https://api.github.com/users/Ayom04/starred{/owner}{/repo}', 'subscriptions_url': 'https://api.github.com/users/Ayom04/subscriptions', 'organizations_url': 'https://api.github.com/users/Ayom04/orgs', 'repos_url': 'https://api.github.com/users/Ayom04/repos', 'events_url': 'https://api.github.com/users/Ayom04/events{/privacy}', 'received_events_url': 'https://api.github.com/users/Ayom04/received_events', 'type': 'User', 'site_admin': False}, 'action': 'added'}, 'public': True, 'created_at': '2023-09-14T10:21:08Z', 'org': {'id': 141875263, 'login': 'Exp-Intro-to-GitHub-Flow-Cohort-1', 'gravatar_id': '', 'url': 'https://api.github.com/orgs/Exp-Intro-to-GitHub-Flow-Cohort-1', 'avatar_url': 'https://avatars.githubusercontent.com/u/141875263?'}}, {'id': '31830658225', 'type': 'PushEvent', 'actor': {'id': 50304249, 'login': 'HazyVT', 'display_login': 'HazyVT', 'gravatar_id': '', 'url': 'https://api.github.com/users/HazyVT', 'avatar_url': 'https://avatars.githubusercontent.com/u/50304249?'}, 'repo': {'id': 669079231, 'name': 'HazyVT/Branch', 'url': 'https://api.github.com/repos/HazyVT/Branch'}, 'payload': {'repository_id': 669079231, 'push_id': 15040238068, 'size': 1, 'distinct_size': 1, 'ref': 'refs/heads/main', 'head': '67e7644cde2d166d71326ee68880725cf8a1191a', 'before': '9e7c50561ff0e76227fd66e5816c5d6fd9588b7a', 'commits': [{'sha': '67e7644cde2d166d71326ee68880725cf8a1191a', 'author': {'email': '50304249+HazyAutumnRain@users.noreply.github.com', 'name': 'Mohammed Salim'}, 'message': 'init', 'distinct': True, 'url': 'https://api.github.com/repos/HazyVT/Branch/commits/67e7644cde2d166d71326ee68880725cf8a1191a'}]}, 'public': True, 'created_at': '2023-09-14T10:21:08Z'}, {'id': '31830658279', 'type': 'PushEvent', 'actor': {'id': 145008830, 'login': 'Felix1463', 'display_login': 'Felix1463', 'gravatar_id': '', 'url': 'https://api.github.com/users/Felix1463', 'avatar_url': 'https://avatars.githubusercontent.com/u/145008830?'}, 'repo': {'id': 691504281, 'name': 'Felix1463/felix1463.github.io', 'url': 'https://api.github.com/repos/Felix1463/felix1463.github.io'}, 'payload': {'repository_id': 691504281, 'push_id': 15040238125, 'size': 1, 'distinct_size': 1, 'ref': 'refs/heads/main', 'head': '195245aa9c52a16c56d18a6a0dfb5a0b32670705', 'before': '044217d7b8070bc7d623f0016f10ea84e331f3fa', 'commits': [{'sha': '195245aa9c52a16c56d18a6a0dfb5a0b32670705', 'author': {'email': '145008830+Felix1463@users.noreply.github.com', 'name': 'Felix1463'}, 'message': 'Add files via upload', 'distinct': True, 'url': 'https://api.github.com/repos/Felix1463/felix1463.github.io/commits/195245aa9c52a16c56d18a6a0dfb5a0b32670705'}]}, 'public': True, 'created_at': '2023-09-14T10:21:08Z'}, {'id': '31830658293', 'type': 'PushEvent', 'actor': {'id': 92451492, 'login': 'MaBad1', 'display_login': 'MaBad1', 'gravatar_id': '', 'url': 'https://api.github.com/users/MaBad1', 'avatar_url': 'https://avatars.githubusercontent.com/u/92451492?'}, 'repo': {'id': 656875127, 'name': 'Minewarpro/Mafia', 'url': 'https://api.github.com/repos/Minewarpro/Mafia'}, 'payload': {'repository_id': 656875127, 'push_id': 15040238122, 'size': 1, 'distinct_size': 1, 'ref': 'refs/heads/main', 'head': 'be12884b700f7875f55d27d1259703521414fbdc', 'before': '8a48fb22edf2b81663aabccc90239de59a4552e5', 'commits': [{'sha': 'be12884b700f7875f55d27d1259703521414fbdc', 'author': {'email': '92451492+MaBad1@users.noreply.github.com', 'name': 'MaBad1'}, 'message': 'MovingArenaBase', 'distinct': True, 'url': 'https://api.github.com/repos/Minewarpro/Mafia/commits/be12884b700f7875f55d27d1259703521414fbdc'}]}, 'public': True, 'created_at': '2023-09-14T10:21:08Z'}, {'id': '31830657793', 'type': 'PullRequestReviewEvent', 'actor': {'id': 87762815, 'login': 'TinyFrogs', 'display_login': 'TinyFrogs', 'gravatar_id': '', 'url': 'https://api.github.com/users/TinyFrogs', 'avatar_url': 'https://avatars.githubusercontent.com/u/87762815?'}, 'repo': {'id': 643439250, 'name': 'TheUpperPart/leaguehub-backend', 'url': 'https://api.github.com/repos/TheUpperPart/leaguehub-backend'}, 'payload': {'action': 'created', 'review': {'id': 1626552253, 'node_id': 'PRR_kwDOJloaks5g8ze9', 'user': {'login': 'TinyFrogs', 'id': 87762815, 'node_id': 'MDQ6VXNlcjg3NzYyODE1', 'avatar_url': 'https://avatars.githubusercontent.com/u/87762815?v=4', 'gravatar_id': '', 'url': 'https://api.github.com/users/TinyFrogs', 'html_url': 'https://github.com/TinyFrogs', 'followers_url': 'https://api.github.com/users/TinyFrogs/followers', 'following_url': 'https://api.github.com/users/TinyFrogs/following{/other_user}', 'gists_url': 'https://api.github.com/users/TinyFrogs/gists{/gist_id}', 'starred_url': 'https://api.github.com/users/TinyFrogs/starred{/owner}{/repo}', 'subscriptions_url': 'https://api.github.com/users/TinyFrogs/subscriptions', 'organizations_url': 'https://api.github.com/users/TinyFrogs/orgs', 'repos_url': 'https://api.github.com/users/TinyFrogs/repos', 'events_url': 'https://api.github.com/users/TinyFrogs/events{/privacy}', 'received_events_url': 'https://api.github.com/users/TinyFrogs/received_events', 'type': 'User', 'site_admin': False}, 'body': '', 'commit_id': 'a8e059af6f70ed060d41dedea1a9576883785a5e', 'submitted_at': '2023-09-14T10:21:06Z', 'state': 'approved', 'html_url': 'https://github.com/TheUpperPart/leaguehub-backend/pull/280#pullrequestreview-1626552253', 'pull_request_url': 'https://api.github.com/repos/TheUpperPart/leaguehub-backend/pulls/280', 'author_association': 'CONTRIBUTOR', '_links': {'html': {'href': 'https://github.com/TheUpperPart/leaguehub-backend/pull/280#pullrequestreview-1626552253'}, 'pull_request': {'href': 'https://api.github.com/repos/TheUpperPart/leaguehub-backend/pulls/280'}}}, 'pull_request': {'url': 'https://api.github.com/repos/TheUpperPart/leaguehub-backend/pulls/280', 'id': 1515319727, 'node_id': 'PR_kwDOJloaks5aUfGv', 'html_url': 'https://github.com/TheUpperPart/leaguehub-backend/pull/280', 'diff_url': 'https://github.com/TheUpperPart/leaguehub-backend/pull/280.diff', 'patch_url': 'https://github.com/TheUpperPart/leaguehub-backend/pull/280.patch', 'issue_url': 'https://api.github.com/repos/TheUpperPart/leaguehub-backend/issues/280', 'number': 280, 'state': 'open', 'locked': False, 'title': 'Feat#272: 몽고 DB 추가 및 경기 결과 관련 기능 추가', 'user': {'login': 'HyeonJun0530', 'id': 102659136, 'node_id': 'U_kgDOBh50QA', 'avatar_url': 'https://avatars.githubusercontent.com/u/102659136?v=4', 'gravatar_id': '', 'url': 'https://api.github.com/users/HyeonJun0530', 'html_url': 'https://github.com/HyeonJun0530', 'followers_url': 'https://api.github.com/users/HyeonJun0530/followers', 'following_url': 'https://api.github.com/users/HyeonJun0530/following{/other_user}', 'gists_url': 'https://api.github.com/users/HyeonJun0530/gists{/gist_id}', 'starred_url': 'https://api.github.com/users/HyeonJun0530/starred{/owner}{/repo}', 'subscriptions_url': 'https://api.github.com/users/HyeonJun0530/subscriptions', 'organizations_url': 'https://api.github.com/users/HyeonJun0530/orgs', 'repos_url': 'https://api.github.com/users/HyeonJun0530/repos', 'events_url': 'https://api.github.com/users/HyeonJun0530/events{/privacy}', 'received_events_url': 'https://api.github.com/users/HyeonJun0530/received_events', 'type': 'User', 'site_admin': False}, 'body': '## 🙆\\u200d♂️ Issue\\r\\n\\r\\n#272 \\r\\n\\r\\n## 📝 Description\\r\\n\\r\\n몽고 DB 도입에 따른 DAO와 각종 설정, 그리고 코드를 작성했어요. GameResult 엔티티로 저장하는데 라이엇 API에서 가져온 등수 및 게임아이디를 그대로 넣기 위해 DTO 그대로 저장했어요. 그리고 Id는 matchSet PK 값을 GameResult의 PK로 지정해 게임 결과를 matchSet Id  값으로 불러 올 수 있도록 했어요. \\r\\n게임 점수 업데이트 시에 성공적으로 저장했으면, 게임 결과를 Save 하도록 했어요.\\r\\n해당 부분들을 유심히 보시길 바랄께요.\\r\\n\\r\\n## ✨ Feature\\r\\n\\r\\nMongo 관련 Config, Mongo Dao, Mongo Entity, 게임 결과 저장 및 조회 기능\\r\\n\\r\\n## 👌 Review Change\\r\\n\\r\\n리뷰를 통해 수정한 부분을 나열해주세요.\\r\\n\\r\\nThis is closes #272 ', 'created_at': '2023-09-14T09:20:58Z', 'updated_at': '2023-09-14T10:21:06Z', 'closed_at': None, 'merged_at': None, 'merge_commit_sha': 'd398d34720145bfc0d4c3c115fad50808b74be30', 'assignee': {'login': 'HyeonJun0530', 'id': 102659136, 'node_id': 'U_kgDOBh50QA', 'avatar_url': 'https://avatars.githubusercontent.com/u/102659136?v=4', 'gravatar_id': '', 'url': 'https://api.github.com/users/HyeonJun0530', 'html_url': 'https://github.com/HyeonJun0530', 'followers_url': 'https://api.github.com/users/HyeonJun0530/followers', 'following_url': 'https://api.github.com/users/HyeonJun0530/following{/other_user}', 'gists_url': 'https://api.github.com/users/HyeonJun0530/gists{/gist_id}', 'starred_url': 'https://api.github.com/users/HyeonJun0530/starred{/owner}{/repo}', 'subscriptions_url': 'https://api.github.com/users/HyeonJun0530/subscriptions', 'organizations_url': 'https://api.github.com/users/HyeonJun0530/orgs', 'repos_url': 'https://api.github.com/users/HyeonJun0530/repos', 'events_url': 'https://api.github.com/users/HyeonJun0530/events{/privacy}', 'received_events_url': 'https://api.github.com/users/HyeonJun0530/received_events', 'type': 'User', 'site_admin': False}, 'assignees': [{'login': 'HyeonJun0530', 'id': 102659136, 'node_id': 'U_kgDOBh50QA', 'avatar_url': 'https://avatars.githubusercontent.com/u/102659136?v=4', 'gravatar_id': '', 'url': 'https://api.github.com/users/HyeonJun0530', 'html_url': 'https://github.com/HyeonJun0530', 'followers_url': 'https://api.github.com/users/HyeonJun0530/followers', 'following_url': 'https://api.github.com/users/HyeonJun0530/following{/other_user}', 'gists_url': 'https://api.github.com/users/HyeonJun0530/gists{/gist_id}', 'starred_url': 'https://api.github.com/users/HyeonJun0530/starred{/owner}{/repo}', 'subscriptions_url': 'https://api.github.com/users/HyeonJun0530/subscriptions', 'organizations_url': 'https://api.github.com/users/HyeonJun0530/orgs', 'repos_url': 'https://api.github.com/users/HyeonJun0530/repos', 'events_url': 'https://api.github.com/users/HyeonJun0530/events{/privacy}', 'received_events_url': 'https://api.github.com/users/HyeonJun0530/received_events', 'type': 'User', 'site_admin': False}], 'requested_reviewers': [{'login': 'hennible0612', 'id': 48763809, 'node_id': 'MDQ6VXNlcjQ4NzYzODA5', 'avatar_url': 'https://avatars.githubusercontent.com/u/48763809?v=4', 'gravatar_id': '', 'url': 'https://api.github.com/users/hennible0612', 'html_url': 'https://github.com/hennible0612', 'followers_url': 'https://api.github.com/users/hennible0612/followers', 'following_url': 'https://api.github.com/users/hennible0612/following{/other_user}', 'gists_url': 'https://api.github.com/users/hennible0612/gists{/gist_id}', 'starred_url': 'https://api.github.com/users/hennible0612/starred{/owner}{/repo}', 'subscriptions_url': 'https://api.github.com/users/hennible0612/subscriptions', 'organizations_url': 'https://api.github.com/users/hennible0612/orgs', 'repos_url': 'https://api.github.com/users/hennible0612/repos', 'events_url': 'https://api.github.com/users/hennible0612/events{/privacy}', 'received_events_url': 'https://api.github.com/users/hennible0612/received_events', 'type': 'User', 'site_admin': False}], 'requested_teams': [], 'labels': [{'id': 5527306965, 'node_id': 'LA_kwDOJloaks8AAAABSXQC1Q', 'url': 'https://api.github.com/repos/TheUpperPart/leaguehub-backend/labels/documentation', 'name': 'documentation', 'color': '0075ca', 'default': True, 'description': 'Improvements or additions to documentation'}, {'id': 5527306969, 'node_id': 'LA_kwDOJloaks8AAAABSXQC2Q', 'url': 'https://api.github.com/repos/TheUpperPart/leaguehub-backend/labels/enhancement', 'name': 'enhancement', 'color': 'a2eeef', 'default': True, 'description': 'New feature or request'}], 'milestone': None, 'draft': False, 'commits_url': 'https://api.github.com/repos/TheUpperPart/leaguehub-backend/pulls/280/commits', 'review_comments_url': 'https://api.github.com/repos/TheUpperPart/leaguehub-backend/pulls/280/comments', 'review_comment_url': 'https://api.github.com/repos/TheUpperPart/leaguehub-backend/pulls/comments{/number}', 'comments_url': 'https://api.github.com/repos/TheUpperPart/leaguehub-backend/issues/280/comments', 'statuses_url': 'https://api.github.com/repos/TheUpperPart/leaguehub-backend/statuses/a8e059af6f70ed060d41dedea1a9576883785a5e', 'head': {'label': 'TheUpperPart:feat#272', 'ref': 'feat#272', 'sha': 'a8e059af6f70ed060d41dedea1a9576883785a5e', 'user': {'login': 'TheUpperPart', 'id': 133736202, 'node_id': 'O_kgDOB_inCg', 'avatar_url': 'https://avatars.githubusercontent.com/u/133736202?v=4', 'gravatar_id': '', 'url': 'https://api.github.com/users/TheUpperPart', 'html_url': 'https://github.com/TheUpperPart', 'followers_url': 'https://api.github.com/users/TheUpperPart/followers', 'following_url': 'https://api.github.com/users/TheUpperPart/following{/other_user}', 'gists_url': 'https://api.github.com/users/TheUpperPart/gists{/gist_id}', 'starred_url': 'https://api.github.com/users/TheUpperPart/starred{/owner}{/repo}', 'subscriptions_url': 'https://api.github.com/users/TheUpperPart/subscriptions', 'organizations_url': 'https://api.github.com/users/TheUpperPart/orgs', 'repos_url': 'https://api.github.com/users/TheUpperPart/repos', 'events_url': 'https://api.github.com/users/TheUpperPart/events{/privacy}', 'received_events_url': 'https://api.github.com/users/TheUpperPart/received_events', 'type': 'Organization', 'site_admin': False}, 'repo': {'id': 643439250, 'node_id': 'R_kgDOJloakg', 'name': 'leaguehub-backend', 'full_name': 'TheUpperPart/leaguehub-backend', 'private': False, 'owner': {'login': 'TheUpperPart', 'id': 133736202, 'node_id': 'O_kgDOB_inCg', 'avatar_url': 'https://avatars.githubusercontent.com/u/133736202?v=4', 'gravatar_id': '', 'url': 'https://api.github.com/users/TheUpperPart', 'html_url': 'https://github.com/TheUpperPart', 'followers_url': 'https://api.github.com/users/TheUpperPart/followers', 'following_url': 'https://api.github.com/users/TheUpperPart/following{/other_user}', 'gists_url': 'https://api.github.com/users/TheUpperPart/gists{/gist_id}', 'starred_url': 'https://api.github.com/users/TheUpperPart/starred{/owner}{/repo}', 'subscriptions_url': 'https://api.github.com/users/TheUpperPart/subscriptions', 'organizations_url': 'https://api.github.com/users/TheUpperPart/orgs', 'repos_url': 'https://api.github.com/users/TheUpperPart/repos', 'events_url': 'https://api.github.com/users/TheUpperPart/events{/privacy}', 'received_events_url': 'https://api.github.com/users/TheUpperPart/received_events', 'type': 'Organization', 'site_admin': False}, 'html_url': 'https://github.com/TheUpperPart/leaguehub-backend', 'description': None, 'fork': False, 'url': 'https://api.github.com/repos/TheUpperPart/leaguehub-backend', 'forks_url': 'https://api.github.com/repos/TheUpperPart/leaguehub-backend/forks', 'keys_url': 'https://api.github.com/repos/TheUpperPart/leaguehub-backend/keys{/key_id}', 'collaborators_url': 'https://api.github.com/repos/TheUpperPart/leaguehub-backend/collaborators{/collaborator}', 'teams_url': 'https://api.github.com/repos/TheUpperPart/leaguehub-backend/teams', 'hooks_url': 'https://api.github.com/repos/TheUpperPart/leaguehub-backend/hooks', 'issue_events_url': 'https://api.github.com/repos/TheUpperPart/leaguehub-backend/issues/events{/number}', 'events_url': 'https://api.github.com/repos/TheUpperPart/leaguehub-backend/events', 'assignees_url': 'https://api.github.com/repos/TheUpperPart/leaguehub-backend/assignees{/user}', 'branches_url': 'https://api.github.com/repos/TheUpperPart/leaguehub-backend/branches{/branch}', 'tags_url': 'https://api.github.com/repos/TheUpperPart/leaguehub-backend/tags', 'blobs_url': 'https://api.github.com/repos/TheUpperPart/leaguehub-backend/git/blobs{/sha}', 'git_tags_url': 'https://api.github.com/repos/TheUpperPart/leaguehub-backend/git/tags{/sha}', 'git_refs_url': 'https://api.github.com/repos/TheUpperPart/leaguehub-backend/git/refs{/sha}', 'trees_url': 'https://api.github.com/repos/TheUpperPart/leaguehub-backend/git/trees{/sha}', 'statuses_url': 'https://api.github.com/repos/TheUpperPart/leaguehub-backend/statuses/{sha}', 'languages_url': 'https://api.github.com/repos/TheUpperPart/leaguehub-backend/languages', 'stargazers_url': 'https://api.github.com/repos/TheUpperPart/leaguehub-backend/stargazers', 'contributors_url': 'https://api.github.com/repos/TheUpperPart/leaguehub-backend/contributors', 'subscribers_url': 'https://api.github.com/repos/TheUpperPart/leaguehub-backend/subscribers', 'subscription_url': 'https://api.github.com/repos/TheUpperPart/leaguehub-backend/subscription', 'commits_url': 'https://api.github.com/repos/TheUpperPart/leaguehub-backend/commits{/sha}', 'git_commits_url': 'https://api.github.com/repos/TheUpperPart/leaguehub-backend/git/commits{/sha}', 'comments_url': 'https://api.github.com/repos/TheUpperPart/leaguehub-backend/comments{/number}', 'issue_comment_url': 'https://api.github.com/repos/TheUpperPart/leaguehub-backend/issues/comments{/number}', 'contents_url': 'https://api.github.com/repos/TheUpperPart/leaguehub-backend/contents/{+path}', 'compare_url': 'https://api.github.com/repos/TheUpperPart/leaguehub-backend/compare/{base}...{head}', 'merges_url': 'https://api.github.com/repos/TheUpperPart/leaguehub-backend/merges', 'archive_url': 'https://api.github.com/repos/TheUpperPart/leaguehub-backend/{archive_format}{/ref}', 'downloads_url': 'https://api.github.com/repos/TheUpperPart/leaguehub-backend/downloads', 'issues_url': 'https://api.github.com/repos/TheUpperPart/leaguehub-backend/issues{/number}', 'pulls_url': 'https://api.github.com/repos/TheUpperPart/leaguehub-backend/pulls{/number}', 'milestones_url': 'https://api.github.com/repos/TheUpperPart/leaguehub-backend/milestones{/number}', 'notifications_url': 'https://api.github.com/repos/TheUpperPart/leaguehub-backend/notifications{?since,all,participating}', 'labels_url': 'https://api.github.com/repos/TheUpperPart/leaguehub-backend/labels{/name}', 'releases_url': 'https://api.github.com/repos/TheUpperPart/leaguehub-backend/releases{/id}', 'deployments_url': 'https://api.github.com/repos/TheUpperPart/leaguehub-backend/deployments', 'created_at': '2023-05-21T06:51:26Z', 'updated_at': '2023-08-17T19:06:13Z', 'pushed_at': '2023-09-14T10:20:16Z', 'git_url': 'git://github.com/TheUpperPart/leaguehub-backend.git', 'ssh_url': 'git@github.com:TheUpperPart/leaguehub-backend.git', 'clone_url': 'https://github.com/TheUpperPart/leaguehub-backend.git', 'svn_url': 'https://github.com/TheUpperPart/leaguehub-backend', 'homepage': None, 'size': 618, 'stargazers_count': 4, 'watchers_count': 4, 'language': 'Java', 'has_issues': True, 'has_projects': True, 'has_downloads': True, 'has_wiki': True, 'has_pages': False, 'has_discussions': False, 'forks_count': 2, 'mirror_url': None, 'archived': False, 'disabled': False, 'open_issues_count': 12, 'license': None, 'allow_forking': True, 'is_template': False, 'web_commit_signoff_required': False, 'topics': [], 'visibility': 'public', 'forks': 2, 'open_issues': 12, 'watchers': 4, 'default_branch': 'develop'}}, 'base': {'label': 'TheUpperPart:develop', 'ref': 'develop', 'sha': '9936515cc3f0b0593673f3de8f6da8bb716c6bbf', 'user': {'login': 'TheUpperPart', 'id': 133736202, 'node_id': 'O_kgDOB_inCg', 'avatar_url': 'https://avatars.githubusercontent.com/u/133736202?v=4', 'gravatar_id': '', 'url': 'https://api.github.com/users/TheUpperPart', 'html_url': 'https://github.com/TheUpperPart', 'followers_url': 'https://api.github.com/users/TheUpperPart/followers', 'following_url': 'https://api.github.com/users/TheUpperPart/following{/other_user}', 'gists_url': 'https://api.github.com/users/TheUpperPart/gists{/gist_id}', 'starred_url': 'https://api.github.com/users/TheUpperPart/starred{/owner}{/repo}', 'subscriptions_url': 'https://api.github.com/users/TheUpperPart/subscriptions', 'organizations_url': 'https://api.github.com/users/TheUpperPart/orgs', 'repos_url': 'https://api.github.com/users/TheUpperPart/repos', 'events_url': 'https://api.github.com/users/TheUpperPart/events{/privacy}', 'received_events_url': 'https://api.github.com/users/TheUpperPart/received_events', 'type': 'Organization', 'site_admin': False}, 'repo': {'id': 643439250, 'node_id': 'R_kgDOJloakg', 'name': 'leaguehub-backend', 'full_name': 'TheUpperPart/leaguehub-backend', 'private': False, 'owner': {'login': 'TheUpperPart', 'id': 133736202, 'node_id': 'O_kgDOB_inCg', 'avatar_url': 'https://avatars.githubusercontent.com/u/133736202?v=4', 'gravatar_id': '', 'url': 'https://api.github.com/users/TheUpperPart', 'html_url': 'https://github.com/TheUpperPart', 'followers_url': 'https://api.github.com/users/TheUpperPart/followers', 'following_url': 'https://api.github.com/users/TheUpperPart/following{/other_user}', 'gists_url': 'https://api.github.com/users/TheUpperPart/gists{/gist_id}', 'starred_url': 'https://api.github.com/users/TheUpperPart/starred{/owner}{/repo}', 'subscriptions_url': 'https://api.github.com/users/TheUpperPart/subscriptions', 'organizations_url': 'https://api.github.com/users/TheUpperPart/orgs', 'repos_url': 'https://api.github.com/users/TheUpperPart/repos', 'events_url': 'https://api.github.com/users/TheUpperPart/events{/privacy}', 'received_events_url': 'https://api.github.com/users/TheUpperPart/received_events', 'type': 'Organization', 'site_admin': False}, 'html_url': 'https://github.com/TheUpperPart/leaguehub-backend', 'description': None, 'fork': False, 'url': 'https://api.github.com/repos/TheUpperPart/leaguehub-backend', 'forks_url': 'https://api.github.com/repos/TheUpperPart/leaguehub-backend/forks', 'keys_url': 'https://api.github.com/repos/TheUpperPart/leaguehub-backend/keys{/key_id}', 'collaborators_url': 'https://api.github.com/repos/TheUpperPart/leaguehub-backend/collaborators{/collaborator}', 'teams_url': 'https://api.github.com/repos/TheUpperPart/leaguehub-backend/teams', 'hooks_url': 'https://api.github.com/repos/TheUpperPart/leaguehub-backend/hooks', 'issue_events_url': 'https://api.github.com/repos/TheUpperPart/leaguehub-backend/issues/events{/number}', 'events_url': 'https://api.github.com/repos/TheUpperPart/leaguehub-backend/events', 'assignees_url': 'https://api.github.com/repos/TheUpperPart/leaguehub-backend/assignees{/user}', 'branches_url': 'https://api.github.com/repos/TheUpperPart/leaguehub-backend/branches{/branch}', 'tags_url': 'https://api.github.com/repos/TheUpperPart/leaguehub-backend/tags', 'blobs_url': 'https://api.github.com/repos/TheUpperPart/leaguehub-backend/git/blobs{/sha}', 'git_tags_url': 'https://api.github.com/repos/TheUpperPart/leaguehub-backend/git/tags{/sha}', 'git_refs_url': 'https://api.github.com/repos/TheUpperPart/leaguehub-backend/git/refs{/sha}', 'trees_url': 'https://api.github.com/repos/TheUpperPart/leaguehub-backend/git/trees{/sha}', 'statuses_url': 'https://api.github.com/repos/TheUpperPart/leaguehub-backend/statuses/{sha}', 'languages_url': 'https://api.github.com/repos/TheUpperPart/leaguehub-backend/languages', 'stargazers_url': 'https://api.github.com/repos/TheUpperPart/leaguehub-backend/stargazers', 'contributors_url': 'https://api.github.com/repos/TheUpperPart/leaguehub-backend/contributors', 'subscribers_url': 'https://api.github.com/repos/TheUpperPart/leaguehub-backend/subscribers', 'subscription_url': 'https://api.github.com/repos/TheUpperPart/leaguehub-backend/subscription', 'commits_url': 'https://api.github.com/repos/TheUpperPart/leaguehub-backend/commits{/sha}', 'git_commits_url': 'https://api.github.com/repos/TheUpperPart/leaguehub-backend/git/commits{/sha}', 'comments_url': 'https://api.github.com/repos/TheUpperPart/leaguehub-backend/comments{/number}', 'issue_comment_url': 'https://api.github.com/repos/TheUpperPart/leaguehub-backend/issues/comments{/number}', 'contents_url': 'https://api.github.com/repos/TheUpperPart/leaguehub-backend/contents/{+path}', 'compare_url': 'https://api.github.com/repos/TheUpperPart/leaguehub-backend/compare/{base}...{head}', 'merges_url': 'https://api.github.com/repos/TheUpperPart/leaguehub-backend/merges', 'archive_url': 'https://api.github.com/repos/TheUpperPart/leaguehub-backend/{archive_format}{/ref}', 'downloads_url': 'https://api.github.com/repos/TheUpperPart/leaguehub-backend/downloads', 'issues_url': 'https://api.github.com/repos/TheUpperPart/leaguehub-backend/issues{/number}', 'pulls_url': 'https://api.github.com/repos/TheUpperPart/leaguehub-backend/pulls{/number}', 'milestones_url': 'https://api.github.com/repos/TheUpperPart/leaguehub-backend/milestones{/number}', 'notifications_url': 'https://api.github.com/repos/TheUpperPart/leaguehub-backend/notifications{?since,all,participating}', 'labels_url': 'https://api.github.com/repos/TheUpperPart/leaguehub-backend/labels{/name}', 'releases_url': 'https://api.github.com/repos/TheUpperPart/leaguehub-backend/releases{/id}', 'deployments_url': 'https://api.github.com/repos/TheUpperPart/leaguehub-backend/deployments', 'created_at': '2023-05-21T06:51:26Z', 'updated_at': '2023-08-17T19:06:13Z', 'pushed_at': '2023-09-14T10:20:16Z', 'git_url': 'git://github.com/TheUpperPart/leaguehub-backend.git', 'ssh_url': 'git@github.com:TheUpperPart/leaguehub-backend.git', 'clone_url': 'https://github.com/TheUpperPart/leaguehub-backend.git', 'svn_url': 'https://github.com/TheUpperPart/leaguehub-backend', 'homepage': None, 'size': 618, 'stargazers_count': 4, 'watchers_count': 4, 'language': 'Java', 'has_issues': True, 'has_projects': True, 'has_downloads': True, 'has_wiki': True, 'has_pages': False, 'has_discussions': False, 'forks_count': 2, 'mirror_url': None, 'archived': False, 'disabled': False, 'open_issues_count': 12, 'license': None, 'allow_forking': True, 'is_template': False, 'web_commit_signoff_required': False, 'topics': [], 'visibility': 'public', 'forks': 2, 'open_issues': 12, 'watchers': 4, 'default_branch': 'develop'}}, '_links': {'self': {'href': 'https://api.github.com/repos/TheUpperPart/leaguehub-backend/pulls/280'}, 'html': {'href': 'https://github.com/TheUpperPart/leaguehub-backend/pull/280'}, 'issue': {'href': 'https://api.github.com/repos/TheUpperPart/leaguehub-backend/issues/280'}, 'comments': {'href': 'https://api.github.com/repos/TheUpperPart/leaguehub-backend/issues/280/comments'}, 'review_comments': {'href': 'https://api.github.com/repos/TheUpperPart/leaguehub-backend/pulls/280/comments'}, 'review_comment': {'href': 'https://api.github.com/repos/TheUpperPart/leaguehub-backend/pulls/comments{/number}'}, 'commits': {'href': 'https://api.github.com/repos/TheUpperPart/leaguehub-backend/pulls/280/commits'}, 'statuses': {'href': 'https://api.github.com/repos/TheUpperPart/leaguehub-backend/statuses/a8e059af6f70ed060d41dedea1a9576883785a5e'}}, 'author_association': 'MEMBER', 'auto_merge': None, 'active_lock_reason': None}}, 'public': True, 'created_at': '2023-09-14T10:21:07Z', 'org': {'id': 133736202, 'login': 'TheUpperPart', 'gravatar_id': '', 'url': 'https://api.github.com/orgs/TheUpperPart', 'avatar_url': 'https://avatars.githubusercontent.com/u/133736202?'}}, {'id': '31830658252', 'type': 'PullRequestReviewEvent', 'actor': {'id': 2240174, 'login': 'tbazant', 'display_login': 'tbazant', 'gravatar_id': '', 'url': 'https://api.github.com/users/tbazant', 'avatar_url': 'https://avatars.githubusercontent.com/u/2240174?'}, 'repo': {'id': 383429129, 'name': 'SUSE/doc-modular', 'url': 'https://api.github.com/repos/SUSE/doc-modular'}, 'payload': {'action': 'created', 'review': {'id': 1626552247, 'node_id': 'PRR_kwDOFtqqCc5g8ze3', 'user': {'login': 'tbazant', 'id': 2240174, 'node_id': 'MDQ6VXNlcjIyNDAxNzQ=', 'avatar_url': 'https://avatars.githubusercontent.com/u/2240174?v=4', 'gravatar_id': '', 'url': 'https://api.github.com/users/tbazant', 'html_url': 'https://github.com/tbazant', 'followers_url': 'https://api.github.com/users/tbazant/followers', 'following_url': 'https://api.github.com/users/tbazant/following{/other_user}', 'gists_url': 'https://api.github.com/users/tbazant/gists{/gist_id}', 'starred_url': 'https://api.github.com/users/tbazant/starred{/owner}{/repo}', 'subscriptions_url': 'https://api.github.com/users/tbazant/subscriptions', 'organizations_url': 'https://api.github.com/users/tbazant/orgs', 'repos_url': 'https://api.github.com/users/tbazant/repos', 'events_url': 'https://api.github.com/users/tbazant/events{/privacy}', 'received_events_url': 'https://api.github.com/users/tbazant/received_events', 'type': 'User', 'site_admin': False}, 'body': None, 'commit_id': '1b0ccff2a4ab9fae838fb59750b7952680b6dd1c', 'submitted_at': '2023-09-14T10:21:07Z', 'state': 'commented', 'html_url': 'https://github.com/SUSE/doc-modular/pull/194#pullrequestreview-1626552247', 'pull_request_url': 'https://api.github.com/repos/SUSE/doc-modular/pulls/194', 'author_association': 'COLLABORATOR', '_links': {'html': {'href': 'https://github.com/SUSE/doc-modular/pull/194#pullrequestreview-1626552247'}, 'pull_request': {'href': 'https://api.github.com/repos/SUSE/doc-modular/pulls/194'}}}, 'pull_request': {'url': 'https://api.github.com/repos/SUSE/doc-modular/pulls/194', 'id': 1515278681, 'node_id': 'PR_kwDOFtqqCc5aUVFZ', 'html_url': 'https://github.com/SUSE/doc-modular/pull/194', 'diff_url': 'https://github.com/SUSE/doc-modular/pull/194.diff', 'patch_url': 'https://github.com/SUSE/doc-modular/pull/194.patch', 'issue_url': 'https://api.github.com/repos/SUSE/doc-modular/issues/194', 'number': 194, 'state': 'open', 'locked': False, 'title': 'Jhalackova supportconfig', 'user': {'login': 'lvicoun', 'id': 9992273, 'node_id': 'MDQ6VXNlcjk5OTIyNzM=', 'avatar_url': 'https://avatars.githubusercontent.com/u/9992273?v=4', 'gravatar_id': '', 'url': 'https://api.github.com/users/lvicoun', 'html_url': 'https://github.com/lvicoun', 'followers_url': 'https://api.github.com/users/lvicoun/followers', 'following_url': 'https://api.github.com/users/lvicoun/following{/other_user}', 'gists_url': 'https://api.github.com/users/lvicoun/gists{/gist_id}', 'starred_url': 'https://api.github.com/users/lvicoun/starred{/owner}{/repo}', 'subscriptions_url': 'https://api.github.com/users/lvicoun/subscriptions', 'organizations_url': 'https://api.github.com/users/lvicoun/orgs', 'repos_url': 'https://api.github.com/users/lvicoun/repos', 'events_url': 'https://api.github.com/users/lvicoun/events{/privacy}', 'received_events_url': 'https://api.github.com/users/lvicoun/received_events', 'type': 'User', 'site_admin': False}, 'body': '### Description\\r\\n\\r\\nDescribe the overall goals of this pull request.\\r\\n\\r\\n\\r\\n### Are there any relevant issues/feature requests?\\r\\n\\r\\n* bsc#...\\r\\n* jsc#SLE-...\\r\\n\\r\\n\\r\\n### Is this (based on) existing content?\\r\\n\\r\\n* old xml:id...\\r\\n* old URL...\\r\\n', 'created_at': '2023-09-14T08:57:10Z', 'updated_at': '2023-09-14T10:21:07Z', 'closed_at': None, 'merged_at': None, 'merge_commit_sha': '1bfa34783430631dd791bdb922bf20693ed91561', 'assignee': None, 'assignees': [], 'requested_reviewers': [{'login': 'dariavladykina', 'id': 98878014, 'node_id': 'U_kgDOBeTCPg', 'avatar_url': 'https://avatars.githubusercontent.com/u/98878014?v=4', 'gravatar_id': '', 'url': 'https://api.github.com/users/dariavladykina', 'html_url': 'https://github.com/dariavladykina', 'followers_url': 'https://api.github.com/users/dariavladykina/followers', 'following_url': 'https://api.github.com/users/dariavladykina/following{/other_user}', 'gists_url': 'https://api.github.com/users/dariavladykina/gists{/gist_id}', 'starred_url': 'https://api.github.com/users/dariavladykina/starred{/owner}{/repo}', 'subscriptions_url': 'https://api.github.com/users/dariavladykina/subscriptions', 'organizations_url': 'https://api.github.com/users/dariavladykina/orgs', 'repos_url': 'https://api.github.com/users/dariavladykina/repos', 'events_url': 'https://api.github.com/users/dariavladykina/events{/privacy}', 'received_events_url': 'https://api.github.com/users/dariavladykina/received_events', 'type': 'User', 'site_admin': False}], 'requested_teams': [], 'labels': [], 'milestone': None, 'draft': False, 'commits_url': 'https://api.github.com/repos/SUSE/doc-modular/pulls/194/commits', 'review_comments_url': 'https://api.github.com/repos/SUSE/doc-modular/pulls/194/comments', 'review_comment_url': 'https://api.github.com/repos/SUSE/doc-modular/pulls/comments{/number}', 'comments_url': 'https://api.github.com/repos/SUSE/doc-modular/issues/194/comments', 'statuses_url': 'https://api.github.com/repos/SUSE/doc-modular/statuses/1b0ccff2a4ab9fae838fb59750b7952680b6dd1c', 'head': {'label': 'SUSE:jhalackova_supportconfig', 'ref': 'jhalackova_supportconfig', 'sha': '1b0ccff2a4ab9fae838fb59750b7952680b6dd1c', 'user': {'login': 'SUSE', 'id': 1067733, 'node_id': 'MDEyOk9yZ2FuaXphdGlvbjEwNjc3MzM=', 'avatar_url': 'https://avatars.githubusercontent.com/u/1067733?v=4', 'gravatar_id': '', 'url': 'https://api.github.com/users/SUSE', 'html_url': 'https://github.com/SUSE', 'followers_url': 'https://api.github.com/users/SUSE/followers', 'following_url': 'https://api.github.com/users/SUSE/following{/other_user}', 'gists_url': 'https://api.github.com/users/SUSE/gists{/gist_id}', 'starred_url': 'https://api.github.com/users/SUSE/starred{/owner}{/repo}', 'subscriptions_url': 'https://api.github.com/users/SUSE/subscriptions', 'organizations_url': 'https://api.github.com/users/SUSE/orgs', 'repos_url': 'https://api.github.com/users/SUSE/repos', 'events_url': 'https://api.github.com/users/SUSE/events{/privacy}', 'received_events_url': 'https://api.github.com/users/SUSE/received_events', 'type': 'Organization', 'site_admin': False}, 'repo': {'id': 383429129, 'node_id': 'MDEwOlJlcG9zaXRvcnkzODM0MjkxMjk=', 'name': 'doc-modular', 'full_name': 'SUSE/doc-modular', 'private': False, 'owner': {'login': 'SUSE', 'id': 1067733, 'node_id': 'MDEyOk9yZ2FuaXphdGlvbjEwNjc3MzM=', 'avatar_url': 'https://avatars.githubusercontent.com/u/1067733?v=4', 'gravatar_id': '', 'url': 'https://api.github.com/users/SUSE', 'html_url': 'https://github.com/SUSE', 'followers_url': 'https://api.github.com/users/SUSE/followers', 'following_url': 'https://api.github.com/users/SUSE/following{/other_user}', 'gists_url': 'https://api.github.com/users/SUSE/gists{/gist_id}', 'starred_url': 'https://api.github.com/users/SUSE/starred{/owner}{/repo}', 'subscriptions_url': 'https://api.github.com/users/SUSE/subscriptions', 'organizations_url': 'https://api.github.com/users/SUSE/orgs', 'repos_url': 'https://api.github.com/users/SUSE/repos', 'events_url': 'https://api.github.com/users/SUSE/events{/privacy}', 'received_events_url': 'https://api.github.com/users/SUSE/received_events', 'type': 'Organization', 'site_admin': False}, 'html_url': 'https://github.com/SUSE/doc-modular', 'description': None, 'fork': False, 'url': 'https://api.github.com/repos/SUSE/doc-modular', 'forks_url': 'https://api.github.com/repos/SUSE/doc-modular/forks', 'keys_url': 'https://api.github.com/repos/SUSE/doc-modular/keys{/key_id}', 'collaborators_url': 'https://api.github.com/repos/SUSE/doc-modular/collaborators{/collaborator}', 'teams_url': 'https://api.github.com/repos/SUSE/doc-modular/teams', 'hooks_url': 'https://api.github.com/repos/SUSE/doc-modular/hooks', 'issue_events_url': 'https://api.github.com/repos/SUSE/doc-modular/issues/events{/number}', 'events_url': 'https://api.github.com/repos/SUSE/doc-modular/events', 'assignees_url': 'https://api.github.com/repos/SUSE/doc-modular/assignees{/user}', 'branches_url': 'https://api.github.com/repos/SUSE/doc-modular/branches{/branch}', 'tags_url': 'https://api.github.com/repos/SUSE/doc-modular/tags', 'blobs_url': 'https://api.github.com/repos/SUSE/doc-modular/git/blobs{/sha}', 'git_tags_url': 'https://api.github.com/repos/SUSE/doc-modular/git/tags{/sha}', 'git_refs_url': 'https://api.github.com/repos/SUSE/doc-modular/git/refs{/sha}', 'trees_url': 'https://api.github.com/repos/SUSE/doc-modular/git/trees{/sha}', 'statuses_url': 'https://api.github.com/repos/SUSE/doc-modular/statuses/{sha}', 'languages_url': 'https://api.github.com/repos/SUSE/doc-modular/languages', 'stargazers_url': 'https://api.github.com/repos/SUSE/doc-modular/stargazers', 'contributors_url': 'https://api.github.com/repos/SUSE/doc-modular/contributors', 'subscribers_url': 'https://api.github.com/repos/SUSE/doc-modular/subscribers', 'subscription_url': 'https://api.github.com/repos/SUSE/doc-modular/subscription', 'commits_url': 'https://api.github.com/repos/SUSE/doc-modular/commits{/sha}', 'git_commits_url': 'https://api.github.com/repos/SUSE/doc-modular/git/commits{/sha}', 'comments_url': 'https://api.github.com/repos/SUSE/doc-modular/comments{/number}', 'issue_comment_url': 'https://api.github.com/repos/SUSE/doc-modular/issues/comments{/number}', 'contents_url': 'https://api.github.com/repos/SUSE/doc-modular/contents/{+path}', 'compare_url': 'https://api.github.com/repos/SUSE/doc-modular/compare/{base}...{head}', 'merges_url': 'https://api.github.com/repos/SUSE/doc-modular/merges', 'archive_url': 'https://api.github.com/repos/SUSE/doc-modular/{archive_format}{/ref}', 'downloads_url': 'https://api.github.com/repos/SUSE/doc-modular/downloads', 'issues_url': 'https://api.github.com/repos/SUSE/doc-modular/issues{/number}', 'pulls_url': 'https://api.github.com/repos/SUSE/doc-modular/pulls{/number}', 'milestones_url': 'https://api.github.com/repos/SUSE/doc-modular/milestones{/number}', 'notifications_url': 'https://api.github.com/repos/SUSE/doc-modular/notifications{?since,all,participating}', 'labels_url': 'https://api.github.com/repos/SUSE/doc-modular/labels{/name}', 'releases_url': 'https://api.github.com/repos/SUSE/doc-modular/releases{/id}', 'deployments_url': 'https://api.github.com/repos/SUSE/doc-modular/deployments', 'created_at': '2021-07-06T10:28:05Z', 'updated_at': '2023-06-28T03:55:02Z', 'pushed_at': '2023-09-14T09:17:10Z', 'git_url': 'git://github.com/SUSE/doc-modular.git', 'ssh_url': 'git@github.com:SUSE/doc-modular.git', 'clone_url': 'https://github.com/SUSE/doc-modular.git', 'svn_url': 'https://github.com/SUSE/doc-modular', 'homepage': 'https://documentation.suse.com/smart/', 'size': 14083, 'stargazers_count': 9, 'watchers_count': 9, 'language': 'Shell', 'has_issues': False, 'has_projects': False, 'has_downloads': True, 'has_wiki': False, 'has_pages': False, 'has_discussions': False, 'forks_count': 8, 'mirror_url': None, 'archived': False, 'disabled': False, 'open_issues_count': 11, 'license': None, 'allow_forking': True, 'is_template': False, 'web_commit_signoff_required': False, 'topics': ['docs', 'documentation', 'modular', 'suse', 'suse-documentation', 'topics'], 'visibility': 'public', 'forks': 8, 'open_issues': 11, 'watchers': 9, 'default_branch': 'main'}}, 'base': {'label': 'SUSE:main', 'ref': 'main', 'sha': 'f2dc9a5144a471c5248dc0d73a0094d04c83a93c', 'user': {'login': 'SUSE', 'id': 1067733, 'node_id': 'MDEyOk9yZ2FuaXphdGlvbjEwNjc3MzM=', 'avatar_url': 'https://avatars.githubusercontent.com/u/1067733?v=4', 'gravatar_id': '', 'url': 'https://api.github.com/users/SUSE', 'html_url': 'https://github.com/SUSE', 'followers_url': 'https://api.github.com/users/SUSE/followers', 'following_url': 'https://api.github.com/users/SUSE/following{/other_user}', 'gists_url': 'https://api.github.com/users/SUSE/gists{/gist_id}', 'starred_url': 'https://api.github.com/users/SUSE/starred{/owner}{/repo}', 'subscriptions_url': 'https://api.github.com/users/SUSE/subscriptions', 'organizations_url': 'https://api.github.com/users/SUSE/orgs', 'repos_url': 'https://api.github.com/users/SUSE/repos', 'events_url': 'https://api.github.com/users/SUSE/events{/privacy}', 'received_events_url': 'https://api.github.com/users/SUSE/received_events', 'type': 'Organization', 'site_admin': False}, 'repo': {'id': 383429129, 'node_id': 'MDEwOlJlcG9zaXRvcnkzODM0MjkxMjk=', 'name': 'doc-modular', 'full_name': 'SUSE/doc-modular', 'private': False, 'owner': {'login': 'SUSE', 'id': 1067733, 'node_id': 'MDEyOk9yZ2FuaXphdGlvbjEwNjc3MzM=', 'avatar_url': 'https://avatars.githubusercontent.com/u/1067733?v=4', 'gravatar_id': '', 'url': 'https://api.github.com/users/SUSE', 'html_url': 'https://github.com/SUSE', 'followers_url': 'https://api.github.com/users/SUSE/followers', 'following_url': 'https://api.github.com/users/SUSE/following{/other_user}', 'gists_url': 'https://api.github.com/users/SUSE/gists{/gist_id}', 'starred_url': 'https://api.github.com/users/SUSE/starred{/owner}{/repo}', 'subscriptions_url': 'https://api.github.com/users/SUSE/subscriptions', 'organizations_url': 'https://api.github.com/users/SUSE/orgs', 'repos_url': 'https://api.github.com/users/SUSE/repos', 'events_url': 'https://api.github.com/users/SUSE/events{/privacy}', 'received_events_url': 'https://api.github.com/users/SUSE/received_events', 'type': 'Organization', 'site_admin': False}, 'html_url': 'https://github.com/SUSE/doc-modular', 'description': None, 'fork': False, 'url': 'https://api.github.com/repos/SUSE/doc-modular', 'forks_url': 'https://api.github.com/repos/SUSE/doc-modular/forks', 'keys_url': 'https://api.github.com/repos/SUSE/doc-modular/keys{/key_id}', 'collaborators_url': 'https://api.github.com/repos/SUSE/doc-modular/collaborators{/collaborator}', 'teams_url': 'https://api.github.com/repos/SUSE/doc-modular/teams', 'hooks_url': 'https://api.github.com/repos/SUSE/doc-modular/hooks', 'issue_events_url': 'https://api.github.com/repos/SUSE/doc-modular/issues/events{/number}', 'events_url': 'https://api.github.com/repos/SUSE/doc-modular/events', 'assignees_url': 'https://api.github.com/repos/SUSE/doc-modular/assignees{/user}', 'branches_url': 'https://api.github.com/repos/SUSE/doc-modular/branches{/branch}', 'tags_url': 'https://api.github.com/repos/SUSE/doc-modular/tags', 'blobs_url': 'https://api.github.com/repos/SUSE/doc-modular/git/blobs{/sha}', 'git_tags_url': 'https://api.github.com/repos/SUSE/doc-modular/git/tags{/sha}', 'git_refs_url': 'https://api.github.com/repos/SUSE/doc-modular/git/refs{/sha}', 'trees_url': 'https://api.github.com/repos/SUSE/doc-modular/git/trees{/sha}', 'statuses_url': 'https://api.github.com/repos/SUSE/doc-modular/statuses/{sha}', 'languages_url': 'https://api.github.com/repos/SUSE/doc-modular/languages', 'stargazers_url': 'https://api.github.com/repos/SUSE/doc-modular/stargazers', 'contributors_url': 'https://api.github.com/repos/SUSE/doc-modular/contributors', 'subscribers_url': 'https://api.github.com/repos/SUSE/doc-modular/subscribers', 'subscription_url': 'https://api.github.com/repos/SUSE/doc-modular/subscription', 'commits_url': 'https://api.github.com/repos/SUSE/doc-modular/commits{/sha}', 'git_commits_url': 'https://api.github.com/repos/SUSE/doc-modular/git/commits{/sha}', 'comments_url': 'https://api.github.com/repos/SUSE/doc-modular/comments{/number}', 'issue_comment_url': 'https://api.github.com/repos/SUSE/doc-modular/issues/comments{/number}', 'contents_url': 'https://api.github.com/repos/SUSE/doc-modular/contents/{+path}', 'compare_url': 'https://api.github.com/repos/SUSE/doc-modular/compare/{base}...{head}', 'merges_url': 'https://api.github.com/repos/SUSE/doc-modular/merges', 'archive_url': 'https://api.github.com/repos/SUSE/doc-modular/{archive_format}{/ref}', 'downloads_url': 'https://api.github.com/repos/SUSE/doc-modular/downloads', 'issues_url': 'https://api.github.com/repos/SUSE/doc-modular/issues{/number}', 'pulls_url': 'https://api.github.com/repos/SUSE/doc-modular/pulls{/number}', 'milestones_url': 'https://api.github.com/repos/SUSE/doc-modular/milestones{/number}', 'notifications_url': 'https://api.github.com/repos/SUSE/doc-modular/notifications{?since,all,participating}', 'labels_url': 'https://api.github.com/repos/SUSE/doc-modular/labels{/name}', 'releases_url': 'https://api.github.com/repos/SUSE/doc-modular/releases{/id}', 'deployments_url': 'https://api.github.com/repos/SUSE/doc-modular/deployments', 'created_at': '2021-07-06T10:28:05Z', 'updated_at': '2023-06-28T03:55:02Z', 'pushed_at': '2023-09-14T09:17:10Z', 'git_url': 'git://github.com/SUSE/doc-modular.git', 'ssh_url': 'git@github.com:SUSE/doc-modular.git', 'clone_url': 'https://github.com/SUSE/doc-modular.git', 'svn_url': 'https://github.com/SUSE/doc-modular', 'homepage': 'https://documentation.suse.com/smart/', 'size': 14083, 'stargazers_count': 9, 'watchers_count': 9, 'language': 'Shell', 'has_issues': False, 'has_projects': False, 'has_downloads': True, 'has_wiki': False, 'has_pages': False, 'has_discussions': False, 'forks_count': 8, 'mirror_url': None, 'archived': False, 'disabled': False, 'open_issues_count': 11, 'license': None, 'allow_forking': True, 'is_template': False, 'web_commit_signoff_required': False, 'topics': ['docs', 'documentation', 'modular', 'suse', 'suse-documentation', 'topics'], 'visibility': 'public', 'forks': 8, 'open_issues': 11, 'watchers': 9, 'default_branch': 'main'}}, '_links': {'self': {'href': 'https://api.github.com/repos/SUSE/doc-modular/pulls/194'}, 'html': {'href': 'https://github.com/SUSE/doc-modular/pull/194'}, 'issue': {'href': 'https://api.github.com/repos/SUSE/doc-modular/issues/194'}, 'comments': {'href': 'https://api.github.com/repos/SUSE/doc-modular/issues/194/comments'}, 'review_comments': {'href': 'https://api.github.com/repos/SUSE/doc-modular/pulls/194/comments'}, 'review_comment': {'href': 'https://api.github.com/repos/SUSE/doc-modular/pulls/comments{/number}'}, 'commits': {'href': 'https://api.github.com/repos/SUSE/doc-modular/pulls/194/commits'}, 'statuses': {'href': 'https://api.github.com/repos/SUSE/doc-modular/statuses/1b0ccff2a4ab9fae838fb59750b7952680b6dd1c'}}, 'author_association': 'CONTRIBUTOR', 'auto_merge': None, 'active_lock_reason': None}}, 'public': True, 'created_at': '2023-09-14T10:21:08Z', 'org': {'id': 1067733, 'login': 'SUSE', 'gravatar_id': '', 'url': 'https://api.github.com/orgs/SUSE', 'avatar_url': 'https://avatars.githubusercontent.com/u/1067733?'}}, {'id': '31830658231', 'type': 'PushEvent', 'actor': {'id': 51128488, 'login': 'Rakarake', 'display_login': 'Rakarake', 'gravatar_id': '', 'url': 'https://api.github.com/users/Rakarake', 'avatar_url': 'https://avatars.githubusercontent.com/u/51128488?'}, 'repo': {'id': 664429938, 'name': 'Rakarake/nixos-config', 'url': 'https://api.github.com/repos/Rakarake/nixos-config'}, 'payload': {'repository_id': 664429938, 'push_id': 15040238103, 'size': 1, 'distinct_size': 1, 'ref': 'refs/heads/main', 'head': 'ba16d8b5ec56fd33d2c6cb9f5fc2c33077fb9f5b', 'before': 'c1503aa27d3e504bda86f02f301e669a2c79c12a', 'commits': [{'sha': 'ba16d8b5ec56fd33d2c6cb9f5fc2c33077fb9f5b', 'author': {'email': 'rak@rakarake.xyz', 'name': 'Rakarake'}, 'message': 'Changed nvim stuff', 'distinct': True, 'url': 'https://api.github.com/repos/Rakarake/nixos-config/commits/ba16d8b5ec56fd33d2c6cb9f5fc2c33077fb9f5b'}]}, 'public': True, 'created_at': '2023-09-14T10:21:08Z'}, {'id': '31830658677', 'type': 'CreateEvent', 'actor': {'id': 135017518, 'login': 'Sampreeth-DS', 'display_login': 'Sampreeth-DS', 'gravatar_id': '', 'url': 'https://api.github.com/users/Sampreeth-DS', 'avatar_url': 'https://avatars.githubusercontent.com/u/135017518?'}, 'repo': {'id': 691509389, 'name': 'Sampreeth-DS/Email_Spam_Detection', 'url': 'https://api.github.com/repos/Sampreeth-DS/Email_Spam_Detection'}, 'payload': {'ref': 'main', 'ref_type': 'branch', 'master_branch': 'main', 'description': 'A machine learning-based solution using Logistic Regression and TF-IDF vectorization for classifying emails as spam or ham.', 'pusher_type': 'user'}, 'public': True, 'created_at': '2023-09-14T10:21:09Z'}, {'id': '31830657735', 'type': 'CreateEvent', 'actor': {'id': 71354125, 'login': 'aws-connector-for-github[bot]', 'display_login': 'aws-connector-for-github', 'gravatar_id': '', 'url': 'https://api.github.com/users/aws-connector-for-github[bot]', 'avatar_url': 'https://avatars.githubusercontent.com/u/71354125?'}, 'repo': {'id': 691509387, 'name': 'devhub-blue-sea-eu-west-2/org-public-empty-csc-repo-eu-west-2', 'url': 'https://api.github.com/repos/devhub-blue-sea-eu-west-2/org-public-empty-csc-repo-eu-west-2'}, 'payload': {'ref': None, 'ref_type': 'repository', 'master_branch': 'main', 'description': 'Empty Repository created by CFN', 'pusher_type': 'user'}, 'public': True, 'created_at': '2023-09-14T10:21:07Z', 'org': {'id': 106190321, 'login': 'devhub-blue-sea-eu-west-2', 'gravatar_id': '', 'url': 'https://api.github.com/orgs/devhub-blue-sea-eu-west-2', 'avatar_url': 'https://avatars.githubusercontent.com/u/106190321?'}}, {'id': '31830657787', 'type': 'PullRequestEvent', 'actor': {'id': 382048, 'login': 'holzeis', 'display_login': 'holzeis', 'gravatar_id': '', 'url': 'https://api.github.com/users/holzeis', 'avatar_url': 'https://avatars.githubusercontent.com/u/382048?'}, 'repo': {'id': 587582106, 'name': 'get10101/10101', 'url': 'https://api.github.com/repos/get10101/10101'}, 'payload': {'action': 'closed', 'number': 1246, 'pull_request': {'url': 'https://api.github.com/repos/get10101/10101/pulls/1246', 'id': 1506328614, 'node_id': 'PR_kwDOIwXKms5ZyMAm', 'html_url': 'https://github.com/get10101/10101/pull/1246', 'diff_url': 'https://github.com/get10101/10101/pull/1246.diff', 'patch_url': 'https://github.com/get10101/10101/pull/1246.patch', 'issue_url': 'https://api.github.com/repos/get10101/10101/issues/1246', 'number': 1246, 'state': 'closed', 'locked': False, 'title': 'Deal with expired position the right way', 'user': {'login': 'holzeis', 'id': 382048, 'node_id': 'MDQ6VXNlcjM4MjA0OA==', 'avatar_url': 'https://avatars.githubusercontent.com/u/382048?v=4', 'gravatar_id': '', 'url': 'https://api.github.com/users/holzeis', 'html_url': 'https://github.com/holzeis', 'followers_url': 'https://api.github.com/users/holzeis/followers', 'following_url': 'https://api.github.com/users/holzeis/following{/other_user}', 'gists_url': 'https://api.github.com/users/holzeis/gists{/gist_id}', 'starred_url': 'https://api.github.com/users/holzeis/starred{/owner}{/repo}', 'subscriptions_url': 'https://api.github.com/users/holzeis/subscriptions', 'organizations_url': 'https://api.github.com/users/holzeis/orgs', 'repos_url': 'https://api.github.com/users/holzeis/repos', 'events_url': 'https://api.github.com/users/holzeis/events{/privacy}', 'received_events_url': 'https://api.github.com/users/holzeis/received_events', 'type': 'User', 'site_admin': False}, 'body': 'This PR got quite large and addresses several issues we had with closing expired positions.\\r\\n\\r\\n1. Expired positions are now automatically matched against the orderbook\\r\\n\\r\\nSince we currently have only one maker running which is publishing short and long orders this means the order for the expired position will get matched with the maker again, basically reducing his position with the coordinator.\\r\\n\\r\\n2. Once the user comes online (connects to our websocket) we check for any pending matches (e.g. due to an expired position) and send a `AsyncMatch` message which the app is immediately executing.\\r\\n\\r\\n\\r\\nFor the following video, I reduced the position expiry to 30 seconds and the regular interval check for expired positions to 5 seconds. What happened in the background is that the orderbook found that the position expired found a match and saved that for later when the user is coming back online. Once online the match is executed with the user.\\r\\n\\r\\nhttps://github.com/get10101/10101/assets/382048/ed0855bb-a732-4978-b24e-fc31ab8ab96e\\r\\n\\r\\nresolves #1173 \\r\\nresolves #1071 ', 'created_at': '2023-09-07T13:39:38Z', 'updated_at': '2023-09-14T10:21:06Z', 'closed_at': '2023-09-14T10:21:06Z', 'merged_at': '2023-09-14T10:21:06Z', 'merge_commit_sha': '8bd6afc7451257d0d3dec55fe3716cb889a7c755', 'assignee': {'login': 'holzeis', 'id': 382048, 'node_id': 'MDQ6VXNlcjM4MjA0OA==', 'avatar_url': 'https://avatars.githubusercontent.com/u/382048?v=4', 'gravatar_id': '', 'url': 'https://api.github.com/users/holzeis', 'html_url': 'https://github.com/holzeis', 'followers_url': 'https://api.github.com/users/holzeis/followers', 'following_url': 'https://api.github.com/users/holzeis/following{/other_user}', 'gists_url': 'https://api.github.com/users/holzeis/gists{/gist_id}', 'starred_url': 'https://api.github.com/users/holzeis/starred{/owner}{/repo}', 'subscriptions_url': 'https://api.github.com/users/holzeis/subscriptions', 'organizations_url': 'https://api.github.com/users/holzeis/orgs', 'repos_url': 'https://api.github.com/users/holzeis/repos', 'events_url': 'https://api.github.com/users/holzeis/events{/privacy}', 'received_events_url': 'https://api.github.com/users/holzeis/received_events', 'type': 'User', 'site_admin': False}, 'assignees': [{'login': 'holzeis', 'id': 382048, 'node_id': 'MDQ6VXNlcjM4MjA0OA==', 'avatar_url': 'https://avatars.githubusercontent.com/u/382048?v=4', 'gravatar_id': '', 'url': 'https://api.github.com/users/holzeis', 'html_url': 'https://github.com/holzeis', 'followers_url': 'https://api.github.com/users/holzeis/followers', 'following_url': 'https://api.github.com/users/holzeis/following{/other_user}', 'gists_url': 'https://api.github.com/users/holzeis/gists{/gist_id}', 'starred_url': 'https://api.github.com/users/holzeis/starred{/owner}{/repo}', 'subscriptions_url': 'https://api.github.com/users/holzeis/subscriptions', 'organizations_url': 'https://api.github.com/users/holzeis/orgs', 'repos_url': 'https://api.github.com/users/holzeis/repos', 'events_url': 'https://api.github.com/users/holzeis/events{/privacy}', 'received_events_url': 'https://api.github.com/users/holzeis/received_events', 'type': 'User', 'site_admin': False}], 'requested_reviewers': [{'login': 'klochowicz', 'id': 8319440, 'node_id': 'MDQ6VXNlcjgzMTk0NDA=', 'avatar_url': 'https://avatars.githubusercontent.com/u/8319440?v=4', 'gravatar_id': '', 'url': 'https://api.github.com/users/klochowicz', 'html_url': 'https://github.com/klochowicz', 'followers_url': 'https://api.github.com/users/klochowicz/followers', 'following_url': 'https://api.github.com/users/klochowicz/following{/other_user}', 'gists_url': 'https://api.github.com/users/klochowicz/gists{/gist_id}', 'starred_url': 'https://api.github.com/users/klochowicz/starred{/owner}{/repo}', 'subscriptions_url': 'https://api.github.com/users/klochowicz/subscriptions', 'organizations_url': 'https://api.github.com/users/klochowicz/orgs', 'repos_url': 'https://api.github.com/users/klochowicz/repos', 'events_url': 'https://api.github.com/users/klochowicz/events{/privacy}', 'received_events_url': 'https://api.github.com/users/klochowicz/received_events', 'type': 'User', 'site_admin': False}], 'requested_teams': [], 'labels': [], 'milestone': None, 'draft': False, 'commits_url': 'https://api.github.com/repos/get10101/10101/pulls/1246/commits', 'review_comments_url': 'https://api.github.com/repos/get10101/10101/pulls/1246/comments', 'review_comment_url': 'https://api.github.com/repos/get10101/10101/pulls/comments{/number}', 'comments_url': 'https://api.github.com/repos/get10101/10101/issues/1246/comments', 'statuses_url': 'https://api.github.com/repos/get10101/10101/statuses/f21358c09b4c37020b3c1e80ac76e9b9629ea483', 'head': {'label': 'get10101:feat/update-maker-on-expired-positions', 'ref': 'feat/update-maker-on-expired-positions', 'sha': 'f21358c09b4c37020b3c1e80ac76e9b9629ea483', 'user': {'login': 'get10101', 'id': 88702448, 'node_id': 'MDEyOk9yZ2FuaXphdGlvbjg4NzAyNDQ4', 'avatar_url': 'https://avatars.githubusercontent.com/u/88702448?v=4', 'gravatar_id': '', 'url': 'https://api.github.com/users/get10101', 'html_url': 'https://github.com/get10101', 'followers_url': 'https://api.github.com/users/get10101/followers', 'following_url': 'https://api.github.com/users/get10101/following{/other_user}', 'gists_url': 'https://api.github.com/users/get10101/gists{/gist_id}', 'starred_url': 'https://api.github.com/users/get10101/starred{/owner}{/repo}', 'subscriptions_url': 'https://api.github.com/users/get10101/subscriptions', 'organizations_url': 'https://api.github.com/users/get10101/orgs', 'repos_url': 'https://api.github.com/users/get10101/repos', 'events_url': 'https://api.github.com/users/get10101/events{/privacy}', 'received_events_url': 'https://api.github.com/users/get10101/received_events', 'type': 'Organization', 'site_admin': False}, 'repo': {'id': 587582106, 'node_id': 'R_kgDOIwXKmg', 'name': '10101', 'full_name': 'get10101/10101', 'private': False, 'owner': {'login': 'get10101', 'id': 88702448, 'node_id': 'MDEyOk9yZ2FuaXphdGlvbjg4NzAyNDQ4', 'avatar_url': 'https://avatars.githubusercontent.com/u/88702448?v=4', 'gravatar_id': '', 'url': 'https://api.github.com/users/get10101', 'html_url': 'https://github.com/get10101', 'followers_url': 'https://api.github.com/users/get10101/followers', 'following_url': 'https://api.github.com/users/get10101/following{/other_user}', 'gists_url': 'https://api.github.com/users/get10101/gists{/gist_id}', 'starred_url': 'https://api.github.com/users/get10101/starred{/owner}{/repo}', 'subscriptions_url': 'https://api.github.com/users/get10101/subscriptions', 'organizations_url': 'https://api.github.com/users/get10101/orgs', 'repos_url': 'https://api.github.com/users/get10101/repos', 'events_url': 'https://api.github.com/users/get10101/events{/privacy}', 'received_events_url': 'https://api.github.com/users/get10101/received_events', 'type': 'Organization', 'site_admin': False}, 'html_url': 'https://github.com/get10101/10101', 'description': '10101 (Ten-Ten-One): Self-custodial derivative trading at your fingertips.', 'fork': False, 'url': 'https://api.github.com/repos/get10101/10101', 'forks_url': 'https://api.github.com/repos/get10101/10101/forks', 'keys_url': 'https://api.github.com/repos/get10101/10101/keys{/key_id}', 'collaborators_url': 'https://api.github.com/repos/get10101/10101/collaborators{/collaborator}', 'teams_url': 'https://api.github.com/repos/get10101/10101/teams', 'hooks_url': 'https://api.github.com/repos/get10101/10101/hooks', 'issue_events_url': 'https://api.github.com/repos/get10101/10101/issues/events{/number}', 'events_url': 'https://api.github.com/repos/get10101/10101/events', 'assignees_url': 'https://api.github.com/repos/get10101/10101/assignees{/user}', 'branches_url': 'https://api.github.com/repos/get10101/10101/branches{/branch}', 'tags_url': 'https://api.github.com/repos/get10101/10101/tags', 'blobs_url': 'https://api.github.com/repos/get10101/10101/git/blobs{/sha}', 'git_tags_url': 'https://api.github.com/repos/get10101/10101/git/tags{/sha}', 'git_refs_url': 'https://api.github.com/repos/get10101/10101/git/refs{/sha}', 'trees_url': 'https://api.github.com/repos/get10101/10101/git/trees{/sha}', 'statuses_url': 'https://api.github.com/repos/get10101/10101/statuses/{sha}', 'languages_url': 'https://api.github.com/repos/get10101/10101/languages', 'stargazers_url': 'https://api.github.com/repos/get10101/10101/stargazers', 'contributors_url': 'https://api.github.com/repos/get10101/10101/contributors', 'subscribers_url': 'https://api.github.com/repos/get10101/10101/subscribers', 'subscription_url': 'https://api.github.com/repos/get10101/10101/subscription', 'commits_url': 'https://api.github.com/repos/get10101/10101/commits{/sha}', 'git_commits_url': 'https://api.github.com/repos/get10101/10101/git/commits{/sha}', 'comments_url': 'https://api.github.com/repos/get10101/10101/comments{/number}', 'issue_comment_url': 'https://api.github.com/repos/get10101/10101/issues/comments{/number}', 'contents_url': 'https://api.github.com/repos/get10101/10101/contents/{+path}', 'compare_url': 'https://api.github.com/repos/get10101/10101/compare/{base}...{head}', 'merges_url': 'https://api.github.com/repos/get10101/10101/merges', 'archive_url': 'https://api.github.com/repos/get10101/10101/{archive_format}{/ref}', 'downloads_url': 'https://api.github.com/repos/get10101/10101/downloads', 'issues_url': 'https://api.github.com/repos/get10101/10101/issues{/number}', 'pulls_url': 'https://api.github.com/repos/get10101/10101/pulls{/number}', 'milestones_url': 'https://api.github.com/repos/get10101/10101/milestones{/number}', 'notifications_url': 'https://api.github.com/repos/get10101/10101/notifications{?since,all,participating}', 'labels_url': 'https://api.github.com/repos/get10101/10101/labels{/name}', 'releases_url': 'https://api.github.com/repos/get10101/10101/releases{/id}', 'deployments_url': 'https://api.github.com/repos/get10101/10101/deployments', 'created_at': '2023-01-11T04:46:13Z', 'updated_at': '2023-09-14T07:04:19Z', 'pushed_at': '2023-09-14T10:21:06Z', 'git_url': 'git://github.com/get10101/10101.git', 'ssh_url': 'git@github.com:get10101/10101.git', 'clone_url': 'https://github.com/get10101/10101.git', 'svn_url': 'https://github.com/get10101/10101', 'homepage': 'https://10101.finance', 'size': 5878, 'stargazers_count': 62, 'watchers_count': 62, 'language': 'Rust', 'has_issues': True, 'has_projects': True, 'has_downloads': True, 'has_wiki': True, 'has_pages': False, 'has_discussions': True, 'forks_count': 10, 'mirror_url': None, 'archived': False, 'disabled': False, 'open_issues_count': 106, 'license': {'key': 'mit', 'name': 'MIT License', 'spdx_id': 'MIT', 'url': 'https://api.github.com/licenses/mit', 'node_id': 'MDc6TGljZW5zZTEz'}, 'allow_forking': True, 'is_template': False, 'web_commit_signoff_required': False, 'topics': ['android', 'bitcoin', 'cfd', 'flutter', 'ios', 'lightning', 'rust', 'self-custodial', 'trading', 'wallet'], 'visibility': 'public', 'forks': 10, 'open_issues': 106, 'watchers': 62, 'default_branch': 'main'}}, 'base': {'label': 'get10101:main', 'ref': 'main', 'sha': 'bc4f043259870be7b2859863791a10520c714de5', 'user': {'login': 'get10101', 'id': 88702448, 'node_id': 'MDEyOk9yZ2FuaXphdGlvbjg4NzAyNDQ4', 'avatar_url': 'https://avatars.githubusercontent.com/u/88702448?v=4', 'gravatar_id': '', 'url': 'https://api.github.com/users/get10101', 'html_url': 'https://github.com/get10101', 'followers_url': 'https://api.github.com/users/get10101/followers', 'following_url': 'https://api.github.com/users/get10101/following{/other_user}', 'gists_url': 'https://api.github.com/users/get10101/gists{/gist_id}', 'starred_url': 'https://api.github.com/users/get10101/starred{/owner}{/repo}', 'subscriptions_url': 'https://api.github.com/users/get10101/subscriptions', 'organizations_url': 'https://api.github.com/users/get10101/orgs', 'repos_url': 'https://api.github.com/users/get10101/repos', 'events_url': 'https://api.github.com/users/get10101/events{/privacy}', 'received_events_url': 'https://api.github.com/users/get10101/received_events', 'type': 'Organization', 'site_admin': False}, 'repo': {'id': 587582106, 'node_id': 'R_kgDOIwXKmg', 'name': '10101', 'full_name': 'get10101/10101', 'private': False, 'owner': {'login': 'get10101', 'id': 88702448, 'node_id': 'MDEyOk9yZ2FuaXphdGlvbjg4NzAyNDQ4', 'avatar_url': 'https://avatars.githubusercontent.com/u/88702448?v=4', 'gravatar_id': '', 'url': 'https://api.github.com/users/get10101', 'html_url': 'https://github.com/get10101', 'followers_url': 'https://api.github.com/users/get10101/followers', 'following_url': 'https://api.github.com/users/get10101/following{/other_user}', 'gists_url': 'https://api.github.com/users/get10101/gists{/gist_id}', 'starred_url': 'https://api.github.com/users/get10101/starred{/owner}{/repo}', 'subscriptions_url': 'https://api.github.com/users/get10101/subscriptions', 'organizations_url': 'https://api.github.com/users/get10101/orgs', 'repos_url': 'https://api.github.com/users/get10101/repos', 'events_url': 'https://api.github.com/users/get10101/events{/privacy}', 'received_events_url': 'https://api.github.com/users/get10101/received_events', 'type': 'Organization', 'site_admin': False}, 'html_url': 'https://github.com/get10101/10101', 'description': '10101 (Ten-Ten-One): Self-custodial derivative trading at your fingertips.', 'fork': False, 'url': 'https://api.github.com/repos/get10101/10101', 'forks_url': 'https://api.github.com/repos/get10101/10101/forks', 'keys_url': 'https://api.github.com/repos/get10101/10101/keys{/key_id}', 'collaborators_url': 'https://api.github.com/repos/get10101/10101/collaborators{/collaborator}', 'teams_url': 'https://api.github.com/repos/get10101/10101/teams', 'hooks_url': 'https://api.github.com/repos/get10101/10101/hooks', 'issue_events_url': 'https://api.github.com/repos/get10101/10101/issues/events{/number}', 'events_url': 'https://api.github.com/repos/get10101/10101/events', 'assignees_url': 'https://api.github.com/repos/get10101/10101/assignees{/user}', 'branches_url': 'https://api.github.com/repos/get10101/10101/branches{/branch}', 'tags_url': 'https://api.github.com/repos/get10101/10101/tags', 'blobs_url': 'https://api.github.com/repos/get10101/10101/git/blobs{/sha}', 'git_tags_url': 'https://api.github.com/repos/get10101/10101/git/tags{/sha}', 'git_refs_url': 'https://api.github.com/repos/get10101/10101/git/refs{/sha}', 'trees_url': 'https://api.github.com/repos/get10101/10101/git/trees{/sha}', 'statuses_url': 'https://api.github.com/repos/get10101/10101/statuses/{sha}', 'languages_url': 'https://api.github.com/repos/get10101/10101/languages', 'stargazers_url': 'https://api.github.com/repos/get10101/10101/stargazers', 'contributors_url': 'https://api.github.com/repos/get10101/10101/contributors', 'subscribers_url': 'https://api.github.com/repos/get10101/10101/subscribers', 'subscription_url': 'https://api.github.com/repos/get10101/10101/subscription', 'commits_url': 'https://api.github.com/repos/get10101/10101/commits{/sha}', 'git_commits_url': 'https://api.github.com/repos/get10101/10101/git/commits{/sha}', 'comments_url': 'https://api.github.com/repos/get10101/10101/comments{/number}', 'issue_comment_url': 'https://api.github.com/repos/get10101/10101/issues/comments{/number}', 'contents_url': 'https://api.github.com/repos/get10101/10101/contents/{+path}', 'compare_url': 'https://api.github.com/repos/get10101/10101/compare/{base}...{head}', 'merges_url': 'https://api.github.com/repos/get10101/10101/merges', 'archive_url': 'https://api.github.com/repos/get10101/10101/{archive_format}{/ref}', 'downloads_url': 'https://api.github.com/repos/get10101/10101/downloads', 'issues_url': 'https://api.github.com/repos/get10101/10101/issues{/number}', 'pulls_url': 'https://api.github.com/repos/get10101/10101/pulls{/number}', 'milestones_url': 'https://api.github.com/repos/get10101/10101/milestones{/number}', 'notifications_url': 'https://api.github.com/repos/get10101/10101/notifications{?since,all,participating}', 'labels_url': 'https://api.github.com/repos/get10101/10101/labels{/name}', 'releases_url': 'https://api.github.com/repos/get10101/10101/releases{/id}', 'deployments_url': 'https://api.github.com/repos/get10101/10101/deployments', 'created_at': '2023-01-11T04:46:13Z', 'updated_at': '2023-09-14T07:04:19Z', 'pushed_at': '2023-09-14T10:21:06Z', 'git_url': 'git://github.com/get10101/10101.git', 'ssh_url': 'git@github.com:get10101/10101.git', 'clone_url': 'https://github.com/get10101/10101.git', 'svn_url': 'https://github.com/get10101/10101', 'homepage': 'https://10101.finance', 'size': 5878, 'stargazers_count': 62, 'watchers_count': 62, 'language': 'Rust', 'has_issues': True, 'has_projects': True, 'has_downloads': True, 'has_wiki': True, 'has_pages': False, 'has_discussions': True, 'forks_count': 10, 'mirror_url': None, 'archived': False, 'disabled': False, 'open_issues_count': 106, 'license': {'key': 'mit', 'name': 'MIT License', 'spdx_id': 'MIT', 'url': 'https://api.github.com/licenses/mit', 'node_id': 'MDc6TGljZW5zZTEz'}, 'allow_forking': True, 'is_template': False, 'web_commit_signoff_required': False, 'topics': ['android', 'bitcoin', 'cfd', 'flutter', 'ios', 'lightning', 'rust', 'self-custodial', 'trading', 'wallet'], 'visibility': 'public', 'forks': 10, 'open_issues': 106, 'watchers': 62, 'default_branch': 'main'}}, '_links': {'self': {'href': 'https://api.github.com/repos/get10101/10101/pulls/1246'}, 'html': {'href': 'https://github.com/get10101/10101/pull/1246'}, 'issue': {'href': 'https://api.github.com/repos/get10101/10101/issues/1246'}, 'comments': {'href': 'https://api.github.com/repos/get10101/10101/issues/1246/comments'}, 'review_comments': {'href': 'https://api.github.com/repos/get10101/10101/pulls/1246/comments'}, 'review_comment': {'href': 'https://api.github.com/repos/get10101/10101/pulls/comments{/number}'}, 'commits': {'href': 'https://api.github.com/repos/get10101/10101/pulls/1246/commits'}, 'statuses': {'href': 'https://api.github.com/repos/get10101/10101/statuses/f21358c09b4c37020b3c1e80ac76e9b9629ea483'}}, 'author_association': 'CONTRIBUTOR', 'auto_merge': None, 'active_lock_reason': None, 'merged': True, 'mergeable': None, 'rebaseable': None, 'mergeable_state': 'unknown', 'merged_by': {'login': 'holzeis', 'id': 382048, 'node_id': 'MDQ6VXNlcjM4MjA0OA==', 'avatar_url': 'https://avatars.githubusercontent.com/u/382048?v=4', 'gravatar_id': '', 'url': 'https://api.github.com/users/holzeis', 'html_url': 'https://github.com/holzeis', 'followers_url': 'https://api.github.com/users/holzeis/followers', 'following_url': 'https://api.github.com/users/holzeis/following{/other_user}', 'gists_url': 'https://api.github.com/users/holzeis/gists{/gist_id}', 'starred_url': 'https://api.github.com/users/holzeis/starred{/owner}{/repo}', 'subscriptions_url': 'https://api.github.com/users/holzeis/subscriptions', 'organizations_url': 'https://api.github.com/users/holzeis/orgs', 'repos_url': 'https://api.github.com/users/holzeis/repos', 'events_url': 'https://api.github.com/users/holzeis/events{/privacy}', 'received_events_url': 'https://api.github.com/users/holzeis/received_events', 'type': 'User', 'site_admin': False}, 'comments': 1, 'review_comments': 95, 'maintainer_can_modify': False, 'commits': 14, 'additions': 1709, 'deletions': 411, 'changed_files': 56}}, 'public': True, 'created_at': '2023-09-14T10:21:07Z', 'org': {'id': 88702448, 'login': 'get10101', 'gravatar_id': '', 'url': 'https://api.github.com/orgs/get10101', 'avatar_url': 'https://avatars.githubusercontent.com/u/88702448?'}}, {'id': '31830658275', 'type': 'PushEvent', 'actor': {'id': 8103683, 'login': 'zirklbch', 'display_login': 'zirklbch', 'gravatar_id': '', 'url': 'https://api.github.com/users/zirklbch', 'avatar_url': 'https://avatars.githubusercontent.com/u/8103683?'}, 'repo': {'id': 620009127, 'name': 'zirklbch/zirklbch.github.io', 'url': 'https://api.github.com/repos/zirklbch/zirklbch.github.io'}, 'payload': {'repository_id': 620009127, 'push_id': 15040238110, 'size': 1, 'distinct_size': 1, 'ref': 'refs/heads/main', 'head': '42f38ce0fa955273b758ee33c3dcc2d4365c0a04', 'before': 'f91ff1c3e02248a8d96629ad8f73018f298d89d5', 'commits': [{'sha': '42f38ce0fa955273b758ee33c3dcc2d4365c0a04', 'author': {'email': 'james.zirkelbach@gmail.com', 'name': 'zirklbch'}, 'message': 'Automated Metra GTFS feed updates', 'distinct': True, 'url': 'https://api.github.com/repos/zirklbch/zirklbch.github.io/commits/42f38ce0fa955273b758ee33c3dcc2d4365c0a04'}]}, 'public': True, 'created_at': '2023-09-14T10:21:08Z'}, {'id': '31830658711', 'type': 'PushEvent', 'actor': {'id': 60356575, 'login': 'pxsx', 'display_login': 'pxsx', 'gravatar_id': '', 'url': 'https://api.github.com/users/pxsx', 'avatar_url': 'https://avatars.githubusercontent.com/u/60356575?'}, 'repo': {'id': 678987998, 'name': 'pxsx/Discord-MusicBot', 'url': 'https://api.github.com/repos/pxsx/Discord-MusicBot'}, 'payload': {'repository_id': 678987998, 'push_id': 15040238347, 'size': 1, 'distinct_size': 1, 'ref': 'refs/heads/main', 'head': 'c0a765a17916cd203974993aed9192d6962ce784', 'before': '28829ed016fcea1ed3eb888ad95bc04142fb80fb', 'commits': [{'sha': 'c0a765a17916cd203974993aed9192d6962ce784', 'author': {'email': 'pascalpetzold06@gmail.com', 'name': 'root'}, 'message': 'Commit: Thu Sep 14 10:21:01 UTC 2023', 'distinct': True, 'url': 'https://api.github.com/repos/pxsx/Discord-MusicBot/commits/c0a765a17916cd203974993aed9192d6962ce784'}]}, 'public': True, 'created_at': '2023-09-14T10:21:09Z'}, {'id': '31830658239', 'type': 'IssueCommentEvent', 'actor': {'id': 49699333, 'login': 'dependabot[bot]', 'display_login': 'dependabot', 'gravatar_id': '', 'url': 'https://api.github.com/users/dependabot[bot]', 'avatar_url': 'https://avatars.githubusercontent.com/u/49699333?'}, 'repo': {'id': 420716712, 'name': 'deduefren/deduefren-cv', 'url': 'https://api.github.com/repos/deduefren/deduefren-cv'}, 'payload': {'action': 'created', 'issue': {'url': 'https://api.github.com/repos/deduefren/deduefren-cv/issues/729', 'repository_url': 'https://api.github.com/repos/deduefren/deduefren-cv', 'labels_url': 'https://api.github.com/repos/deduefren/deduefren-cv/issues/729/labels{/name}', 'comments_url': 'https://api.github.com/repos/deduefren/deduefren-cv/issues/729/comments', 'events_url': 'https://api.github.com/repos/deduefren/deduefren-cv/issues/729/events', 'html_url': 'https://github.com/deduefren/deduefren-cv/pull/729', 'id': 1885628587, 'node_id': 'PR_kwDOGROgqM5ZxMA7', 'number': 729, 'title': 'Bump @angular/platform-browser from 16.2.0 to 16.2.4 in /cv-app', 'user': {'login': 'dependabot[bot]', 'id': 49699333, 'node_id': 'MDM6Qm90NDk2OTkzMzM=', 'avatar_url': 'https://avatars.githubusercontent.com/in/29110?v=4', 'gravatar_id': '', 'url': 'https://api.github.com/users/dependabot%5Bbot%5D', 'html_url': 'https://github.com/apps/dependabot', 'followers_url': 'https://api.github.com/users/dependabot%5Bbot%5D/followers', 'following_url': 'https://api.github.com/users/dependabot%5Bbot%5D/following{/other_user}', 'gists_url': 'https://api.github.com/users/dependabot%5Bbot%5D/gists{/gist_id}', 'starred_url': 'https://api.github.com/users/dependabot%5Bbot%5D/starred{/owner}{/repo}', 'subscriptions_url': 'https://api.github.com/users/dependabot%5Bbot%5D/subscriptions', 'organizations_url': 'https://api.github.com/users/dependabot%5Bbot%5D/orgs', 'repos_url': 'https://api.github.com/users/dependabot%5Bbot%5D/repos', 'events_url': 'https://api.github.com/users/dependabot%5Bbot%5D/events{/privacy}', 'received_events_url': 'https://api.github.com/users/dependabot%5Bbot%5D/received_events', 'type': 'Bot', 'site_admin': False}, 'labels': [{'id': 3507011097, 'node_id': 'LA_kwDOGROgqM7RCL4Z', 'url': 'https://api.github.com/repos/deduefren/deduefren-cv/labels/dependencies', 'name': 'dependencies', 'color': '0366d6', 'default': False, 'description': 'Pull requests that update a dependency file'}], 'state': 'open', 'locked': False, 'assignee': None, 'assignees': [], 'milestone': None, 'comments': 1, 'created_at': '2023-09-07T10:37:50Z', 'updated_at': '2023-09-14T10:21:08Z', 'closed_at': None, 'author_association': 'CONTRIBUTOR', 'active_lock_reason': None, 'draft': False, 'pull_request': {'url': 'https://api.github.com/repos/deduefren/deduefren-cv/pulls/729', 'html_url': 'https://github.com/deduefren/deduefren-cv/pull/729', 'diff_url': 'https://github.com/deduefren/deduefren-cv/pull/729.diff', 'patch_url': 'https://github.com/deduefren/deduefren-cv/pull/729.patch', 'merged_at': None}, 'body': 'Bumps [@angular/platform-browser](https://github.com/angular/angular/tree/HEAD/packages/platform-browser) from 16.2.0 to 16.2.4.\\n<details>\\n<summary>Release notes</summary>\\n<p><em>Sourced from <a href=\"https://github.com/angular/angular/releases\"><code>@\\u200bangular/platform-browser</code>\\'s releases</a>.</em></p>\\n<blockquote>\\n<h2>v16.2.4</h2>\\n<p><!-- raw HTML omitted --><!-- raw HTML omitted --></p>\\n<h1>16.2.4 (2023-09-06)</h1>\\n<h2>v16.2.3</h2>\\n<p><!-- raw HTML omitted --><!-- raw HTML omitted --></p>\\n<h1>16.2.3 (2023-08-30)</h1>\\n<h3>animations</h3>\\n<table>\\n<thead>\\n<tr>\\n<th>Commit</th>\\n<th>Description</th>\\n</tr>\\n</thead>\\n<tbody>\\n<tr>\\n<td><a href=\"https://github.com/angular/angular/commit/04c65742802537c8bd725f9a7a931955a67684d9\"><img src=\"https://img.shields.io/badge/04c6574280-fix-green\" alt=\"fix - 04c6574280\" /></a></td>\\n<td>remove unnecessary escaping in regex expressions (<a href=\"https://github.com/angular/angular/tree/HEAD/packages/platform-browser/issues/51554\">#51554</a>)</td>\\n</tr>\\n</tbody>\\n</table>\\n<h3>compiler-cli</h3>\\n<table>\\n<thead>\\n<tr>\\n<th>Commit</th>\\n<th>Description</th>\\n</tr>\\n</thead>\\n<tbody>\\n<tr>\\n<td><a href=\"https://github.com/angular/angular/commit/dbd761f528a08cba0fbdd476b115e1445683cf36\"><img src=\"https://img.shields.io/badge/dbd761f528-fix-green\" alt=\"fix - dbd761f528\" /></a></td>\\n<td>correct incomplete escaping (<a href=\"https://github.com/angular/angular/tree/HEAD/packages/platform-browser/issues/51557\">#51557</a>)</td>\\n</tr>\\n<tr>\\n<td><a href=\"https://github.com/angular/angular/commit/5c36fc784f292608f7485c5513aeb98e5745d17c\"><img src=\"https://img.shields.io/badge/5c36fc784f-fix-green\" alt=\"fix - 5c36fc784f\" /></a></td>\\n<td>remove unnecessary escaping in regex expressions (<a href=\"https://github.com/angular/angular/tree/HEAD/packages/platform-browser/issues/51554\">#51554</a>)</td>\\n</tr>\\n</tbody>\\n</table>\\n<h3>core</h3>\\n<table>\\n<thead>\\n<tr>\\n<th>Commit</th>\\n<th>Description</th>\\n</tr>\\n</thead>\\n<tbody>\\n<tr>\\n<td><a href=\"https://github.com/angular/angular/commit/dcd1add06f9facb87de89c144967cc95a2dac27c\"><img src=\"https://img.shields.io/badge/dcd1add06f-fix-green\" alt=\"fix - dcd1add06f\" /></a></td>\\n<td>correct incomplete escaping (<a href=\"https://github.com/angular/angular/tree/HEAD/packages/platform-browser/issues/51557\">#51557</a>)</td>\\n</tr>\\n<tr>\\n<td><a href=\"https://github.com/angular/angular/commit/20d62603c2f86c810fda0b3b503327dce232a6d3\"><img src=\"https://img.shields.io/badge/20d62603c2-fix-green\" alt=\"fix - 20d62603c2\" /></a></td>\\n<td>handle hydration of view containers that use component hosts as anchors (<a href=\"https://github.com/angular/angular/tree/HEAD/packages/platform-browser/issues/51456\">#51456</a>)</td>\\n</tr>\\n<tr>\\n<td><a href=\"https://github.com/angular/angular/commit/e6b301caa25c1532a4db2e8521bdea3f911316b1\"><img src=\"https://img.shields.io/badge/e6b301caa2-fix-green\" alt=\"fix - e6b301caa2\" /></a></td>\\n<td>remove unnecessary escaping in regex expressions (<a href=\"https://github.com/angular/angular/tree/HEAD/packages/platform-browser/issues/51554\">#51554</a>)</td>\\n</tr>\\n<tr>\\n<td><a href=\"https://github.com/angular/angular/commit/0c7c852ee7ba3c1943cafce4c58760eef1b0aea4\"><img src=\"https://img.shields.io/badge/0c7c852ee7-fix-green\" alt=\"fix - 0c7c852ee7\" /></a></td>\\n<td>run afterRender callbacks outside of the Angular zone (<a href=\"https://github.com/angular/angular/tree/HEAD/packages/platform-browser/issues/51551\">#51551</a>)</td>\\n</tr>\\n</tbody>\\n</table>\\n<h3>language-service</h3>\\n<table>\\n<thead>\\n<tr>\\n<th>Commit</th>\\n<th>Description</th>\\n</tr>\\n</thead>\\n<tbody>\\n<tr>\\n<td><a href=\"https://github.com/angular/angular/commit/8081fdd22d6889f92e11cbe4c53d80bddd496a9a\"><img src=\"https://img.shields.io/badge/8081fdd22d-fix-green\" alt=\"fix - 8081fdd22d\" /></a></td>\\n<td>correct incomplete escaping (<a href=\"https://github.com/angular/angular/tree/HEAD/packages/platform-browser/issues/51557\">#51557</a>)</td>\\n</tr>\\n</tbody>\\n</table>\\n<h2>v16.2.2</h2>\\n<p><!-- raw HTML omitted --><!-- raw HTML omitted --></p>\\n<h1>16.2.2 (2023-08-23)</h1>\\n<h3>common</h3>\\n<table>\\n<thead>\\n<tr>\\n<th>Commit</th>\\n<th>Description</th>\\n</tr>\\n</thead>\\n<tbody>\\n<tr>\\n<td><a href=\"https://github.com/angular/angular/commit/a43c0772ea74410b0492a178c656268a465d3b09\"><img src=\"https://img.shields.io/badge/a43c0772ea-fix-green\" alt=\"fix - a43c0772ea\" /></a></td>\\n<td>Allow safeUrl for ngSrc in NgOptimizedImage (<a href=\"https://github.com/angular/angular/tree/HEAD/packages/platform-browser/issues/51351\">#51351</a>)</td>\\n</tr>\\n</tbody>\\n</table>\\n<h3>compiler-cli</h3>\\n<table>\\n<thead>\\n<tr>\\n<th>Commit</th>\\n<th>Description</th>\\n</tr>\\n</thead>\\n<tbody>\\n<tr>\\n<td><a href=\"https://github.com/angular/angular/commit/39ace8664b843225a75dd706236ae13e171126d3\"><img src=\"https://img.shields.io/badge/39ace8664b-fix-green\" alt=\"fix - 39ace8664b\" /></a></td>\\n<td>enforce a minimum version to be used when a library uses input transform (<a href=\"https://github.com/angular/angular/tree/HEAD/packages/platform-browser/issues/51413\">#51413</a>)</td>\\n</tr>\\n</tbody>\\n</table>\\n<h3>core</h3>\\n<table>\\n<thead>\\n<tr>\\n<th>Commit</th>\\n<th>Description</th>\\n</tr>\\n</thead>\\n<tbody>\\n<tr>\\n<td><a href=\"https://github.com/angular/angular/commit/36f434e49d24f0393950299486141a121d42e044\"><img src=\"https://img.shields.io/badge/36f434e49d-fix-green\" alt=\"fix - 36f434e49d\" /></a></td>\\n<td>guard the jasmine hooks (<a href=\"https://github.com/angular/angular/tree/HEAD/packages/platform-browser/issues/51394\">#51394</a>)</td>\\n</tr>\\n</tbody>\\n</table>\\n<h3>router</h3>\\n<table>\\n<thead>\\n<tr>\\n<th>Commit</th>\\n<th>Description</th>\\n</tr>\\n</thead>\\n<tbody>\\n<tr>\\n<td><a href=\"https://github.com/angular/angular/commit/b0396e7164c08e01d24d2d8411edf1ccf4b52826\"><img src=\"https://img.shields.io/badge/b0396e7164-fix-green\" alt=\"fix - b0396e7164\" /></a></td>\\n<td>Ensure <code>canceledNavigationResolution: \\'computed\\'</code> works on first page (<a href=\"https://github.com/angular/angular/tree/HEAD/packages/platform-browser/issues/51441\">#51441</a>)</td>\\n</tr>\\n</tbody>\\n</table>\\n<h2>v16.2.1</h2>\\n<p><!-- raw HTML omitted --><!-- raw HTML omitted --></p>\\n<!-- raw HTML omitted -->\\n</blockquote>\\n<p>... (truncated)</p>\\n</details>\\n<details>\\n<summary>Changelog</summary>\\n<p><em>Sourced from <a href=\"https://github.com/angular/angular/blob/main/CHANGELOG.md\"><code>@\\u200bangular/platform-browser</code>\\'s changelog</a>.</em></p>\\n<blockquote>\\n<h1>16.2.4 (2023-09-06)</h1>\\n<!-- raw HTML omitted -->\\n<p><!-- raw HTML omitted --><!-- raw HTML omitted --></p>\\n<h1>17.0.0-next.2 (2023-08-30)</h1>\\n<h2>Breaking Changes</h2>\\n<h3>platform-browser</h3>\\n<ul>\\n<li>\\n<p><code>REMOVE_STYLES_ON_COMPONENT_DESTROY</code> default value is now <code>true</code>. This causes CSS of components to be removed from the DOM when destroyed. You retain the previous behaviour by providing the <code>REMOVE_STYLES_ON_COMPONENT_DESTROY</code> injection token.</p>\\n<pre lang=\"ts\"><code>import {REMOVE_STYLES_ON_COMPONENT_DESTROY} from \\'@angular/platform-browser\\';\\n...\\nproviders: [{\\n  provide: REMOVE_STYLES_ON_COMPONENT_DESTROY,\\n  useValue: false,\\n}]\\n</code></pre>\\n</li>\\n</ul>\\n<h3>router</h3>\\n<ul>\\n<li>\\n<p>The following Router properties have been removed from\\nthe public API:</p>\\n<ul>\\n<li>canceledNavigationResolution</li>\\n<li>paramsInheritanceStrategy</li>\\n<li>titleStrategy</li>\\n<li>urlUpdateStrategy</li>\\n<li>malformedUriErrorHandler</li>\\n</ul>\\n<p>These should instead be configured through the <code>provideRouter</code> or\\n<code>RouterModule.forRoot</code> APIs.</p>\\n</li>\\n</ul>\\n<h3>animations</h3>\\n<table>\\n<thead>\\n<tr>\\n<th>Commit</th>\\n<th>Type</th>\\n<th>Description</th>\\n</tr>\\n</thead>\\n<tbody>\\n<tr>\\n<td><a href=\"https://github.com/angular/angular/commit/698c058e1c975c573722407f4843a4a774ceb92a\">698c058e1c</a></td>\\n<td>fix</td>\\n<td>remove code duplication between entry-points (<a href=\"https://redirect.github.com/angular/angular/pull/51500\">#51500</a>)</td>\\n</tr>\\n<tr>\\n<td><a href=\"https://github.com/angular/angular/commit/18be804c038e8d81a60c9a72521cfa640c8a1d5a\">18be804c03</a></td>\\n<td>fix</td>\\n<td>remove unnecessary escaping in regex expressions (<a href=\"https://redirect.github.com/angular/angular/pull/51554\">#51554</a>)</td>\\n</tr>\\n</tbody>\\n</table>\\n<h3>common</h3>\\n<table>\\n<thead>\\n<tr>\\n<th>Commit</th>\\n<th>Type</th>\\n<th>Description</th>\\n</tr>\\n</thead>\\n<tbody>\\n<tr>\\n<td><a href=\"https://github.com/angular/angular/commit/86c5e34601d7901a11688124aa902646524177eb\">86c5e34601</a></td>\\n<td>fix</td>\\n<td>remove code duplication between entry-points (<a href=\"https://redirect.github.com/angular/angular/pull/51500\">#51500</a>)</td>\\n</tr>\\n</tbody>\\n</table>\\n<h3>compiler-cli</h3>\\n<table>\\n<thead>\\n<tr>\\n<th>Commit</th>\\n<th>Type</th>\\n<th>Description</th>\\n</tr>\\n</thead>\\n<tbody>\\n<tr>\\n<td><a href=\"https://github.com/angular/angular/commit/de2550d9886394e1ecde586d72bf2bab5b65cb39\">de2550d988</a></td>\\n<td>fix</td>\\n<td>correct incomplete escaping (<a href=\"https://redirect.github.com/angular/angular/pull/51557\">#51557</a>)</td>\\n</tr>\\n<tr>\\n<td><a href=\"https://github.com/angular/angular/commit/3bca9db4a56d61ac22b4ce87591d8862606177c8\">3bca9db4a5</a></td>\\n<td>fix</td>\\n<td>remove unnecessary escaping in regex expressions (<a href=\"https://redirect.github.com/angular/angular/pull/51554\">#51554</a>)</td>\\n</tr>\\n</tbody>\\n</table>\\n<h3>core</h3>\\n<table>\\n<thead>\\n<tr>\\n<th>Commit</th>\\n<th>Type</th>\\n<th>Description</th>\\n</tr>\\n</thead>\\n<tbody>\\n<tr>\\n<td><a href=\"https://github.com/angular/angular/commit/dbffdc09c25c93868aa13ae368c9fd21a4c359fb\">dbffdc09c2</a></td>\\n<td>fix</td>\\n<td>avoid duplicated code between entry-points (primary, testing, rxjs-interop) (<a href=\"https://redirect.github.com/angular/angular/pull/51500\">#51500</a>)</td>\\n</tr>\\n<tr>\\n<td><a href=\"https://github.com/angular/angular/commit/45d2ded0ea9ef414948256099f8dc9c4598fdc2b\">45d2ded0ea</a></td>\\n<td>fix</td>\\n<td>correct incomplete escaping (<a href=\"https://redirect.github.com/angular/angular/pull/51557\">#51557</a>)</td>\\n</tr>\\n<tr>\\n<td><a href=\"https://github.com/angular/angular/commit/006577f39c0e46e37491e44687142521fe7fab54\">006577f39c</a></td>\\n<td>fix</td>\\n<td>handle hydration of view containers that use component hosts as anchors (<a href=\"https://redirect.github.com/angular/angular/pull/51456\">#51456</a>)</td>\\n</tr>\\n</tbody>\\n</table>\\n<!-- raw HTML omitted -->\\n</blockquote>\\n<p>... (truncated)</p>\\n</details>\\n<details>\\n<summary>Commits</summary>\\n<ul>\\n<li><a href=\"https://github.com/angular/angular/commit/4051930b8cbadc67205fbe0ed6533acb63cd8671\"><code>4051930</code></a> docs: Add info about hydration caching. (<a href=\"https://github.com/angular/angular/tree/HEAD/packages/platform-browser/issues/51648\">#51648</a>)</li>\\n<li><a href=\"https://github.com/angular/angular/commit/bd4d2bbc1e4af6e72300f663f095b2a612b98ad7\"><code>bd4d2bb</code></a> docs: fix see also links. (<a href=\"https://github.com/angular/angular/tree/HEAD/packages/platform-browser/issues/51379\">#51379</a>)</li>\\n<li>See full diff in <a href=\"https://github.com/angular/angular/commits/16.2.4/packages/platform-browser\">compare view</a></li>\\n</ul>\\n</details>\\n<br />\\n\\n\\n[![Dependabot compatibility score](https://dependabot-badges.githubapp.com/badges/compatibility_score?dependency-name=@angular/platform-browser&package-manager=npm_and_yarn&previous-version=16.2.0&new-version=16.2.4)](https://docs.github.com/en/github/managing-security-vulnerabilities/about-dependabot-security-updates#about-compatibility-scores)\\n\\nDependabot will resolve any conflicts with this PR as long as you don\\'t alter it yourself. You can also trigger a rebase manually by commenting `@dependabot rebase`.\\n\\n[//]: # (dependabot-automerge-start)\\n[//]: # (dependabot-automerge-end)\\n\\n---\\n\\n<details>\\n<summary>Dependabot commands and options</summary>\\n<br />\\n\\nYou can trigger Dependabot actions by commenting on this PR:\\n- `@dependabot rebase` will rebase this PR\\n- `@dependabot recreate` will recreate this PR, overwriting any edits that have been made to it\\n- `@dependabot merge` will merge this PR after your CI passes on it\\n- `@dependabot squash and merge` will squash and merge this PR after your CI passes on it\\n- `@dependabot cancel merge` will cancel a previously requested merge and block automerging\\n- `@dependabot reopen` will reopen this PR if it is closed\\n- `@dependabot close` will close this PR and stop Dependabot recreating it. You can achieve the same result by closing it manually\\n- `@dependabot show <dependency name> ignore conditions` will show all of the ignore conditions of the specified dependency\\n- `@dependabot ignore this major version` will close this PR and stop Dependabot creating any more for this major version (unless you reopen the PR or upgrade to it yourself)\\n- `@dependabot ignore this minor version` will close this PR and stop Dependabot creating any more for this minor version (unless you reopen the PR or upgrade to it yourself)\\n- `@dependabot ignore this dependency` will close this PR and stop Dependabot creating any more for this dependency (unless you reopen the PR or upgrade to it yourself)\\n\\n\\n</details>', 'reactions': {'url': 'https://api.github.com/repos/deduefren/deduefren-cv/issues/729/reactions', 'total_count': 0, '+1': 0, '-1': 0, 'laugh': 0, 'hooray': 0, 'confused': 0, 'heart': 0, 'rocket': 0, 'eyes': 0}, 'timeline_url': 'https://api.github.com/repos/deduefren/deduefren-cv/issues/729/timeline', 'performed_via_github_app': None, 'state_reason': None}, 'comment': {'url': 'https://api.github.com/repos/deduefren/deduefren-cv/issues/comments/1719179518', 'html_url': 'https://github.com/deduefren/deduefren-cv/pull/729#issuecomment-1719179518', 'issue_url': 'https://api.github.com/repos/deduefren/deduefren-cv/issues/729', 'id': 1719179518, 'node_id': 'IC_kwDOGROgqM5meJj-', 'user': {'login': 'dependabot[bot]', 'id': 49699333, 'node_id': 'MDM6Qm90NDk2OTkzMzM=', 'avatar_url': 'https://avatars.githubusercontent.com/in/29110?v=4', 'gravatar_id': '', 'url': 'https://api.github.com/users/dependabot%5Bbot%5D', 'html_url': 'https://github.com/apps/dependabot', 'followers_url': 'https://api.github.com/users/dependabot%5Bbot%5D/followers', 'following_url': 'https://api.github.com/users/dependabot%5Bbot%5D/following{/other_user}', 'gists_url': 'https://api.github.com/users/dependabot%5Bbot%5D/gists{/gist_id}', 'starred_url': 'https://api.github.com/users/dependabot%5Bbot%5D/starred{/owner}{/repo}', 'subscriptions_url': 'https://api.github.com/users/dependabot%5Bbot%5D/subscriptions', 'organizations_url': 'https://api.github.com/users/dependabot%5Bbot%5D/orgs', 'repos_url': 'https://api.github.com/users/dependabot%5Bbot%5D/repos', 'events_url': 'https://api.github.com/users/dependabot%5Bbot%5D/events{/privacy}', 'received_events_url': 'https://api.github.com/users/dependabot%5Bbot%5D/received_events', 'type': 'Bot', 'site_admin': False}, 'created_at': '2023-09-14T10:21:07Z', 'updated_at': '2023-09-14T10:21:07Z', 'author_association': 'CONTRIBUTOR', 'body': 'Superseded by #738.', 'reactions': {'url': 'https://api.github.com/repos/deduefren/deduefren-cv/issues/comments/1719179518/reactions', 'total_count': 0, '+1': 0, '-1': 0, 'laugh': 0, 'hooray': 0, 'confused': 0, 'heart': 0, 'rocket': 0, 'eyes': 0}, 'performed_via_github_app': None}}, 'public': True, 'created_at': '2023-09-14T10:21:08Z'}, {'id': '31830657807', 'type': 'PushEvent', 'actor': {'id': 8856070, 'login': 'Hans960586007', 'display_login': 'Hans960586007', 'gravatar_id': '', 'url': 'https://api.github.com/users/Hans960586007', 'avatar_url': 'https://avatars.githubusercontent.com/u/8856070?'}, 'repo': {'id': 691502795, 'name': 'Hans960586007/Tools', 'url': 'https://api.github.com/repos/Hans960586007/Tools'}, 'payload': {'repository_id': 691502795, 'push_id': 15040237887, 'size': 1, 'distinct_size': 1, 'ref': 'refs/heads/main', 'head': '04711eb7c1fac318965228c03e9b8667b2f019ce', 'before': '80d85e34a3609e176527a2461694a8c07f6971f3', 'commits': [{'sha': '04711eb7c1fac318965228c03e9b8667b2f019ce', 'author': {'email': 'hans_cheng@mtelnet.com', 'name': 'Hans_Cheng'}, 'message': 'no message', 'distinct': True, 'url': 'https://api.github.com/repos/Hans960586007/Tools/commits/04711eb7c1fac318965228c03e9b8667b2f019ce'}]}, 'public': True, 'created_at': '2023-09-14T10:21:07Z'}, {'id': '31830658218', 'type': 'CreateEvent', 'actor': {'id': 66690702, 'login': 'github-classroom[bot]', 'display_login': 'github-classroom', 'gravatar_id': '', 'url': 'https://api.github.com/users/github-classroom[bot]', 'avatar_url': 'https://avatars.githubusercontent.com/u/66690702?'}, 'repo': {'id': 691509388, 'name': 'Exp-Intro-to-GitHub-Flow-Cohort-1/series-intro-to-github-flow-Ayom04', 'url': 'https://api.github.com/repos/Exp-Intro-to-GitHub-Flow-Cohort-1/series-intro-to-github-flow-Ayom04'}, 'payload': {'ref': None, 'ref_type': 'repository', 'master_branch': 'main', 'description': 'series-intro-to-github-flow-Ayom04 created by GitHub Classroom', 'pusher_type': 'user'}, 'public': True, 'created_at': '2023-09-14T10:21:08Z', 'org': {'id': 141875263, 'login': 'Exp-Intro-to-GitHub-Flow-Cohort-1', 'gravatar_id': '', 'url': 'https://api.github.com/orgs/Exp-Intro-to-GitHub-Flow-Cohort-1', 'avatar_url': 'https://avatars.githubusercontent.com/u/141875263?'}}, {'id': '31830658738', 'type': 'PushEvent', 'actor': {'id': 92151192, 'login': 'arjunjayakumar', 'display_login': 'arjunjayakumar', 'gravatar_id': '', 'url': 'https://api.github.com/users/arjunjayakumar', 'avatar_url': 'https://avatars.githubusercontent.com/u/92151192?'}, 'repo': {'id': 676556777, 'name': 'arjunjayakumar/demo-react-app', 'url': 'https://api.github.com/repos/arjunjayakumar/demo-react-app'}, 'payload': {'repository_id': 676556777, 'push_id': 15040238353, 'size': 1, 'distinct_size': 1, 'ref': 'refs/heads/master', 'head': '3faf532868ffa978e5ea0548c85fec3837a832f6', 'before': '9f9333ccee3537d5a6dc0a61a2d484b6d4d57730', 'commits': [{'sha': '3faf532868ffa978e5ea0548c85fec3837a832f6', 'author': {'email': '92151192+arjunjayakumar@users.noreply.github.com', 'name': 'Arjun'}, 'message': 'Change interface', 'distinct': True, 'url': 'https://api.github.com/repos/arjunjayakumar/demo-react-app/commits/3faf532868ffa978e5ea0548c85fec3837a832f6'}]}, 'public': True, 'created_at': '2023-09-14T10:21:09Z'}, {'id': '31830657741', 'type': 'WatchEvent', 'actor': {'id': 80658473, 'login': 'wf7132', 'display_login': 'wf7132', 'gravatar_id': '', 'url': 'https://api.github.com/users/wf7132', 'avatar_url': 'https://avatars.githubusercontent.com/u/80658473?'}, 'repo': {'id': 1033271, 'name': 'gqrx-sdr/gqrx', 'url': 'https://api.github.com/repos/gqrx-sdr/gqrx'}, 'payload': {'action': 'started'}, 'public': True, 'created_at': '2023-09-14T10:21:07Z', 'org': {'id': 91422450, 'login': 'gqrx-sdr', 'gravatar_id': '', 'url': 'https://api.github.com/orgs/gqrx-sdr', 'avatar_url': 'https://avatars.githubusercontent.com/u/91422450?'}}, {'id': '31830657744', 'type': 'DeleteEvent', 'actor': {'id': 48153666, 'login': 'MunsMan', 'display_login': 'MunsMan', 'gravatar_id': '', 'url': 'https://api.github.com/users/MunsMan', 'avatar_url': 'https://avatars.githubusercontent.com/u/48153666?'}, 'repo': {'id': 626419668, 'name': 'MunsMan/Foppa', 'url': 'https://api.github.com/repos/MunsMan/Foppa'}, 'payload': {'ref': 'cloudWatchLogs', 'ref_type': 'branch', 'pusher_type': 'user'}, 'public': True, 'created_at': '2023-09-14T10:21:07Z'}, {'id': '31830657726', 'type': 'PushEvent', 'actor': {'id': 101598467, 'login': 'Cedryx01', 'display_login': 'Cedryx01', 'gravatar_id': '', 'url': 'https://api.github.com/users/Cedryx01', 'avatar_url': 'https://avatars.githubusercontent.com/u/101598467?'}, 'repo': {'id': 691503909, 'name': 'Cedryx01/cedryx01.github.io', 'url': 'https://api.github.com/repos/Cedryx01/cedryx01.github.io'}, 'payload': {'repository_id': 691503909, 'push_id': 15040237840, 'size': 1, 'distinct_size': 1, 'ref': 'refs/heads/main', 'head': '6e0dab6c670c2a2766199fd61e12465b417eec98', 'before': 'e14da8c7f3b9b5efa9d9c9191e3f17825d353a80', 'commits': [{'sha': '6e0dab6c670c2a2766199fd61e12465b417eec98', 'author': {'email': '101598467+Cedryx01@users.noreply.github.com', 'name': 'Cedryx01'}, 'message': 'Add files via upload', 'distinct': True, 'url': 'https://api.github.com/repos/Cedryx01/cedryx01.github.io/commits/6e0dab6c670c2a2766199fd61e12465b417eec98'}]}, 'public': True, 'created_at': '2023-09-14T10:21:07Z'}, {'id': '31830658688', 'type': 'CreateEvent', 'actor': {'id': 89271774, 'login': 'prophecy-git-testing', 'display_login': 'prophecy-git-testing', 'gravatar_id': '', 'url': 'https://api.github.com/users/prophecy-git-testing', 'avatar_url': 'https://avatars.githubusercontent.com/u/89271774?'}, 'repo': {'id': 691509339, 'name': 'MetadataGitTesting/hKZy88x7', 'url': 'https://api.github.com/repos/MetadataGitTesting/hKZy88x7'}, 'payload': {'ref': 'master', 'ref_type': 'branch', 'master_branch': 'master', 'description': None, 'pusher_type': 'user'}, 'public': True, 'created_at': '2023-09-14T10:21:09Z', 'org': {'id': 97077369, 'login': 'MetadataGitTesting', 'gravatar_id': '', 'url': 'https://api.github.com/orgs/MetadataGitTesting', 'avatar_url': 'https://avatars.githubusercontent.com/u/97077369?'}}, {'id': '31830657232', 'type': 'CreateEvent', 'actor': {'id': 63284456, 'login': 'NguyenTrungKhiem', 'display_login': 'NguyenTrungKhiem', 'gravatar_id': '', 'url': 'https://api.github.com/users/NguyenTrungKhiem', 'avatar_url': 'https://avatars.githubusercontent.com/u/63284456?'}, 'repo': {'id': 691509382, 'name': 'NguyenTrungKhiem/product-reactjs', 'url': 'https://api.github.com/repos/NguyenTrungKhiem/product-reactjs'}, 'payload': {'ref': None, 'ref_type': 'repository', 'master_branch': 'main', 'description': None, 'pusher_type': 'user'}, 'public': True, 'created_at': '2023-09-14T10:21:06Z'}, {'id': '31830658714', 'type': 'DeleteEvent', 'actor': {'id': 98556122, 'login': 'ekkusa', 'display_login': 'ekkusa', 'gravatar_id': '', 'url': 'https://api.github.com/users/ekkusa', 'avatar_url': 'https://avatars.githubusercontent.com/u/98556122?'}, 'repo': {'id': 609592098, 'name': 'Miiyo/android_kernel_sony_sdm845', 'url': 'https://api.github.com/repos/Miiyo/android_kernel_sony_sdm845'}, 'payload': {'ref': 'LA.UM.10.3.r1-01700-sdm845.0-KSU', 'ref_type': 'branch', 'pusher_type': 'user'}, 'public': True, 'created_at': '2023-09-14T10:21:09Z', 'org': {'id': 122589530, 'login': 'Miiyo', 'gravatar_id': '', 'url': 'https://api.github.com/orgs/Miiyo', 'avatar_url': 'https://avatars.githubusercontent.com/u/122589530?'}}, {'id': '31830657652', 'type': 'CreateEvent', 'actor': {'id': 142489812, 'login': '2022ucp1149', 'display_login': '2022ucp1149', 'gravatar_id': '', 'url': 'https://api.github.com/users/2022ucp1149', 'avatar_url': 'https://avatars.githubusercontent.com/u/142489812?'}, 'repo': {'id': 691509381, 'name': '2022ucp1149/ddddd', 'url': 'https://api.github.com/repos/2022ucp1149/ddddd'}, 'payload': {'ref': 'main', 'ref_type': 'branch', 'master_branch': 'main', 'description': None, 'pusher_type': 'user'}, 'public': True, 'created_at': '2023-09-14T10:21:07Z'}, {'id': '31830658641', 'type': 'PushEvent', 'actor': {'id': 144152741, 'login': 'TON618OFF', 'display_login': 'TON618OFF', 'gravatar_id': '', 'url': 'https://api.github.com/users/TON618OFF', 'avatar_url': 'https://avatars.githubusercontent.com/u/144152741?'}, 'repo': {'id': 691498308, 'name': 'TON618OFF/CSharpTech', 'url': 'https://api.github.com/repos/TON618OFF/CSharpTech'}, 'payload': {'repository_id': 691498308, 'push_id': 15040238326, 'size': 1, 'distinct_size': 1, 'ref': 'refs/heads/master', 'head': '34687b7c62a10c37422abef2bd04c4aa3b339580', 'before': '3aa9de57c6559bc469b639482f83fdd384be8fb3', 'commits': [{'sha': '34687b7c62a10c37422abef2bd04c4aa3b339580', 'author': {'email': 'rusblackgod@gmail.com', 'name': 'TON618OFF'}, 'message': 'update', 'distinct': True, 'url': 'https://api.github.com/repos/TON618OFF/CSharpTech/commits/34687b7c62a10c37422abef2bd04c4aa3b339580'}]}, 'public': True, 'created_at': '2023-09-14T10:21:09Z'}, {'id': '31830658690', 'type': 'PushEvent', 'actor': {'id': 77629720, 'login': 'qqqq5953', 'display_login': 'qqqq5953', 'gravatar_id': '', 'url': 'https://api.github.com/users/qqqq5953', 'avatar_url': 'https://avatars.githubusercontent.com/u/77629720?'}, 'repo': {'id': 691506759, 'name': 'qqqq5953/test123', 'url': 'https://api.github.com/repos/qqqq5953/test123'}, 'payload': {'repository_id': 691506759, 'push_id': 15040238335, 'size': 1, 'distinct_size': 1, 'ref': 'refs/heads/main', 'head': 'd177ee941b22258f561bc23751033e444271912e', 'before': '108848d188c5d30c110b08e88298b70873f10674', 'commits': [{'sha': 'd177ee941b22258f561bc23751033e444271912e', 'author': {'email': 'andy.hsieh@gaiatechs.com', 'name': 'AndyHsieh'}, 'message': '108848d', 'distinct': True, 'url': 'https://api.github.com/repos/qqqq5953/test123/commits/d177ee941b22258f561bc23751033e444271912e'}]}, 'public': True, 'created_at': '2023-09-14T10:21:09Z'}]\n"
     ]
    }
   ],
   "source": [
    "print(r.json())"
   ]
  },
  {
   "cell_type": "markdown",
   "id": "7148c6aa",
   "metadata": {},
   "source": [
    "### Numpy"
   ]
  },
  {
   "cell_type": "code",
   "execution_count": 1,
   "id": "e0ee3e31",
   "metadata": {},
   "outputs": [],
   "source": [
    "import numpy as np"
   ]
  },
  {
   "cell_type": "code",
   "execution_count": 2,
   "id": "60b22669",
   "metadata": {},
   "outputs": [],
   "source": [
    "height = [1.75, 1.68, 1.8, 1.81, 1.69]\n",
    "weight = [66.4, 49.22, 66.3, 88.56, 65.4]"
   ]
  },
  {
   "cell_type": "code",
   "execution_count": 3,
   "id": "ed861c89",
   "metadata": {},
   "outputs": [
    {
     "ename": "TypeError",
     "evalue": "unsupported operand type(s) for ** or pow(): 'list' and 'int'",
     "output_type": "error",
     "traceback": [
      "\u001b[1;31m---------------------------------------------------------------------------\u001b[0m",
      "\u001b[1;31mTypeError\u001b[0m                                 Traceback (most recent call last)",
      "Cell \u001b[1;32mIn[3], line 1\u001b[0m\n\u001b[1;32m----> 1\u001b[0m weight \u001b[38;5;241m/\u001b[39m height \u001b[38;5;241m*\u001b[39m\u001b[38;5;241m*\u001b[39m\u001b[38;5;241m2\u001b[39m\n",
      "\u001b[1;31mTypeError\u001b[0m: unsupported operand type(s) for ** or pow(): 'list' and 'int'"
     ]
    }
   ],
   "source": [
    "weight / height **2"
   ]
  },
  {
   "cell_type": "code",
   "execution_count": 5,
   "id": "c5827d3b",
   "metadata": {},
   "outputs": [],
   "source": [
    "np_height = np.array(height)\n",
    "np_weight = np.array(weight)"
   ]
  },
  {
   "cell_type": "code",
   "execution_count": 6,
   "id": "6afe6c37",
   "metadata": {},
   "outputs": [],
   "source": [
    "bmi = np_weight/np_height ** 2"
   ]
  },
  {
   "cell_type": "code",
   "execution_count": 7,
   "id": "6aa4c7b2",
   "metadata": {},
   "outputs": [
    {
     "name": "stdout",
     "output_type": "stream",
     "text": [
      "[21.68163265 17.43905896 20.46296296 27.03214188 22.8983579 ]\n"
     ]
    }
   ],
   "source": [
    "print(bmi)"
   ]
  },
  {
   "cell_type": "code",
   "execution_count": 8,
   "id": "58d32463",
   "metadata": {},
   "outputs": [],
   "source": [
    "mixed_array = np.array([1.0, 'is', True])"
   ]
  },
  {
   "cell_type": "code",
   "execution_count": 10,
   "id": "a52d9ea2",
   "metadata": {},
   "outputs": [
    {
     "name": "stdout",
     "output_type": "stream",
     "text": [
      "['1.0' 'is' 'True']\n"
     ]
    }
   ],
   "source": [
    "#keluarnya jadi string semua\n",
    "print(mixed_array)"
   ]
  },
  {
   "cell_type": "code",
   "execution_count": 11,
   "id": "99b5fee9",
   "metadata": {},
   "outputs": [
    {
     "data": {
      "text/plain": [
       "[1, 2, 3, 1, 2, 3]"
      ]
     },
     "execution_count": 11,
     "metadata": {},
     "output_type": "execute_result"
    }
   ],
   "source": [
    "numlist = [1,2,3]\n",
    "nparray = np.array([1,2,3])\n",
    "numlist + numlist"
   ]
  },
  {
   "cell_type": "code",
   "execution_count": 13,
   "id": "af8f7cf7",
   "metadata": {},
   "outputs": [
    {
     "data": {
      "text/plain": [
       "array([21.68163265, 17.43905896, 20.46296296, 27.03214188, 22.8983579 ])"
      ]
     },
     "execution_count": 13,
     "metadata": {},
     "output_type": "execute_result"
    }
   ],
   "source": [
    "bmi"
   ]
  },
  {
   "cell_type": "code",
   "execution_count": 14,
   "id": "4d0cb8f7",
   "metadata": {},
   "outputs": [
    {
     "data": {
      "text/plain": [
       "array([False, False, False,  True, False])"
      ]
     },
     "execution_count": 14,
     "metadata": {},
     "output_type": "execute_result"
    }
   ],
   "source": [
    "bmi > 24"
   ]
  },
  {
   "cell_type": "code",
   "execution_count": 15,
   "id": "acc4bb15",
   "metadata": {},
   "outputs": [
    {
     "data": {
      "text/plain": [
       "array([27.03214188])"
      ]
     },
     "execution_count": 15,
     "metadata": {},
     "output_type": "execute_result"
    }
   ],
   "source": [
    "bmi[bmi>24]"
   ]
  },
  {
   "cell_type": "markdown",
   "id": "42517fba",
   "metadata": {},
   "source": [
    "#### statistik dasar"
   ]
  },
  {
   "cell_type": "code",
   "execution_count": 16,
   "id": "db536241",
   "metadata": {},
   "outputs": [],
   "source": [
    "height = np.round(np.random.normal(1.75, 0.2, 5000), 2)"
   ]
  },
  {
   "cell_type": "code",
   "execution_count": 17,
   "id": "d68743a7",
   "metadata": {},
   "outputs": [
    {
     "data": {
      "text/plain": [
       "array([1.68, 1.47, 1.75, ..., 1.33, 1.73, 1.56])"
      ]
     },
     "execution_count": 17,
     "metadata": {},
     "output_type": "execute_result"
    }
   ],
   "source": [
    "height"
   ]
  },
  {
   "cell_type": "code",
   "execution_count": 18,
   "id": "e76ee361",
   "metadata": {},
   "outputs": [
    {
     "data": {
      "text/plain": [
       "5000"
      ]
     },
     "execution_count": 18,
     "metadata": {},
     "output_type": "execute_result"
    }
   ],
   "source": [
    "#mengecek banyak data\n",
    "len(height)"
   ]
  },
  {
   "cell_type": "code",
   "execution_count": 19,
   "id": "b65c3fcd",
   "metadata": {},
   "outputs": [],
   "source": [
    "#random normal = menghasilkan angka acak dgn parameter yaitu rata2, standar deviasi dan\n",
    "weight = np.round(np.random.normal(60.32, 15, 5000), 2)"
   ]
  },
  {
   "cell_type": "code",
   "execution_count": 20,
   "id": "3288f283",
   "metadata": {},
   "outputs": [
    {
     "data": {
      "text/plain": [
       "array([59.08, 43.35, 35.12, ..., 81.72, 66.29, 29.4 ])"
      ]
     },
     "execution_count": 20,
     "metadata": {},
     "output_type": "execute_result"
    }
   ],
   "source": [
    "weight"
   ]
  },
  {
   "cell_type": "code",
   "execution_count": 21,
   "id": "c4590b51",
   "metadata": {},
   "outputs": [
    {
     "data": {
      "text/plain": [
       "5000"
      ]
     },
     "execution_count": 21,
     "metadata": {},
     "output_type": "execute_result"
    }
   ],
   "source": [
    "len(weight)"
   ]
  },
  {
   "cell_type": "code",
   "execution_count": 22,
   "id": "0f794f92",
   "metadata": {},
   "outputs": [],
   "source": [
    "np_city = np.column_stack((height, weight))"
   ]
  },
  {
   "cell_type": "code",
   "execution_count": 24,
   "id": "f5af75cb",
   "metadata": {},
   "outputs": [
    {
     "data": {
      "text/plain": [
       "1.7548879999999998"
      ]
     },
     "execution_count": 24,
     "metadata": {},
     "output_type": "execute_result"
    }
   ],
   "source": [
    "#rata-rata\n",
    "np.mean(np_city[:,0])"
   ]
  },
  {
   "cell_type": "code",
   "execution_count": 25,
   "id": "f2b670f4",
   "metadata": {},
   "outputs": [
    {
     "data": {
      "text/plain": [
       "1.75"
      ]
     },
     "execution_count": 25,
     "metadata": {},
     "output_type": "execute_result"
    }
   ],
   "source": [
    "np.median(np_city[:,0])"
   ]
  },
  {
   "cell_type": "code",
   "execution_count": 26,
   "id": "058e4711",
   "metadata": {},
   "outputs": [
    {
     "data": {
      "text/plain": [
       "0.20110511543966253"
      ]
     },
     "execution_count": 26,
     "metadata": {},
     "output_type": "execute_result"
    }
   ],
   "source": [
    "np.std(np_city[:,0])"
   ]
  },
  {
   "cell_type": "markdown",
   "id": "e4e48f17",
   "metadata": {},
   "source": [
    "### Numpy Array 2D"
   ]
  },
  {
   "cell_type": "code",
   "execution_count": 27,
   "id": "91aa3f9d",
   "metadata": {},
   "outputs": [],
   "source": [
    "height = np.array([1.75, 1.68, 1.8])\n",
    "weight = np.array([66.4, 49.22, 66.3])"
   ]
  },
  {
   "cell_type": "code",
   "execution_count": 28,
   "id": "827f1547",
   "metadata": {},
   "outputs": [
    {
     "data": {
      "text/plain": [
       "numpy.ndarray"
      ]
     },
     "execution_count": 28,
     "metadata": {},
     "output_type": "execute_result"
    }
   ],
   "source": [
    "type(height)"
   ]
  },
  {
   "cell_type": "code",
   "execution_count": 29,
   "id": "201edee0",
   "metadata": {},
   "outputs": [],
   "source": [
    "np_2d = np.array([[1.75, 1.68, 1.8], \n",
    "                 [66.4, 49.22, 66.3]])"
   ]
  },
  {
   "cell_type": "code",
   "execution_count": 30,
   "id": "84d92095",
   "metadata": {},
   "outputs": [
    {
     "data": {
      "text/plain": [
       "array([[ 1.75,  1.68,  1.8 ],\n",
       "       [66.4 , 49.22, 66.3 ]])"
      ]
     },
     "execution_count": 30,
     "metadata": {},
     "output_type": "execute_result"
    }
   ],
   "source": [
    "np_2d"
   ]
  },
  {
   "cell_type": "code",
   "execution_count": 32,
   "id": "3f225072",
   "metadata": {},
   "outputs": [
    {
     "data": {
      "text/plain": [
       "(2, 3)"
      ]
     },
     "execution_count": 32,
     "metadata": {},
     "output_type": "execute_result"
    }
   ],
   "source": [
    "#berapa baris dan kolom\n",
    "np_2d.shape"
   ]
  },
  {
   "cell_type": "code",
   "execution_count": 33,
   "id": "d4663676",
   "metadata": {},
   "outputs": [
    {
     "data": {
      "text/plain": [
       "array([1.75, 1.68, 1.8 ])"
      ]
     },
     "execution_count": 33,
     "metadata": {},
     "output_type": "execute_result"
    }
   ],
   "source": [
    "np_2d[0]"
   ]
  },
  {
   "cell_type": "code",
   "execution_count": 34,
   "id": "90808956",
   "metadata": {},
   "outputs": [
    {
     "data": {
      "text/plain": [
       "1.8"
      ]
     },
     "execution_count": 34,
     "metadata": {},
     "output_type": "execute_result"
    }
   ],
   "source": [
    "np_2d[0][2]"
   ]
  },
  {
   "cell_type": "code",
   "execution_count": 37,
   "id": "93af09b2",
   "metadata": {},
   "outputs": [
    {
     "data": {
      "text/plain": [
       "array([[ 1.68,  1.8 ],\n",
       "       [49.22, 66.3 ]])"
      ]
     },
     "execution_count": 37,
     "metadata": {},
     "output_type": "execute_result"
    }
   ],
   "source": [
    "np_2d[:,1:3]"
   ]
  },
  {
   "cell_type": "code",
   "execution_count": 38,
   "id": "9d320392",
   "metadata": {},
   "outputs": [
    {
     "data": {
      "text/plain": [
       "array([66.4 , 49.22, 66.3 ])"
      ]
     },
     "execution_count": 38,
     "metadata": {},
     "output_type": "execute_result"
    }
   ],
   "source": [
    "np_2d[1,:]"
   ]
  },
  {
   "cell_type": "code",
   "execution_count": null,
   "id": "657541e1",
   "metadata": {},
   "outputs": [],
   "source": []
  }
 ],
 "metadata": {
  "kernelspec": {
   "display_name": "Python 3 (ipykernel)",
   "language": "python",
   "name": "python3"
  },
  "language_info": {
   "codemirror_mode": {
    "name": "ipython",
    "version": 3
   },
   "file_extension": ".py",
   "mimetype": "text/x-python",
   "name": "python",
   "nbconvert_exporter": "python",
   "pygments_lexer": "ipython3",
   "version": "3.11.4"
  }
 },
 "nbformat": 4,
 "nbformat_minor": 5
}
